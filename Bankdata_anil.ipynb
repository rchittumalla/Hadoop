{
 "cells": [
  {
   "cell_type": "code",
   "execution_count": 1,
   "metadata": {},
   "outputs": [],
   "source": [
    "## Set Python - Spark environment.\n",
    "import os\n",
    "import sys\n",
    "os.environ[\"SPARK_HOME\"] = \"/usr/hdp/current/spark2-client\"\n",
    "os.environ[\"PYLIB\"] = os.environ[\"SPARK_HOME\"] + \"/python/lib\"\n",
    "sys.path.insert(0, os.environ[\"PYLIB\"] + \"/py4j-0.10.6-src.zip\")\n",
    "sys.path.insert(0, os.environ[\"PYLIB\"] + \"/pyspark.zip\")"
   ]
  },
  {
   "cell_type": "code",
   "execution_count": 2,
   "metadata": {},
   "outputs": [],
   "source": [
    "## Create SparkContext, SparkSession\n",
    "from os.path import expanduser, join, abspath\n",
    "\n",
    "from pyspark.sql import SparkSession\n",
    "from pyspark.sql import Row\n",
    "from pyspark import SparkContext\n",
    "sc = SparkContext()\n",
    "\n",
    "# warehouse_location points to the default location for managed databases and tables\n",
    "warehouse_location = 'hdfs:///apps/hive/warehouse/'\n",
    "\n",
    "spark = SparkSession \\\n",
    "    .builder \\\n",
    "    .appName(\"Spark Machine Learning Example\") \\\n",
    "    .config(\"spark.sql.warehouse.dir\", warehouse_location) \\\n",
    "    .enableHiveSupport() \\\n",
    "    .getOrCreate()"
   ]
  },
  {
   "cell_type": "code",
   "execution_count": 3,
   "metadata": {},
   "outputs": [
    {
     "data": {
      "text/html": [
       "\n",
       "            <div>\n",
       "                <p><b>SparkSession - hive</b></p>\n",
       "                \n",
       "        <div>\n",
       "            <p><b>SparkContext</b></p>\n",
       "\n",
       "            <p><a href=\"http://q.insofe.edu.in:4044\">Spark UI</a></p>\n",
       "\n",
       "            <dl>\n",
       "              <dt>Version</dt>\n",
       "                <dd><code>v2.3.0.2.6.5.0-292</code></dd>\n",
       "              <dt>Master</dt>\n",
       "                <dd><code>local[*]</code></dd>\n",
       "              <dt>AppName</dt>\n",
       "                <dd><code>pyspark-shell</code></dd>\n",
       "            </dl>\n",
       "        </div>\n",
       "        \n",
       "            </div>\n",
       "        "
      ],
      "text/plain": [
       "<pyspark.sql.session.SparkSession at 0x2a43a50>"
      ]
     },
     "execution_count": 3,
     "metadata": {},
     "output_type": "execute_result"
    }
   ],
   "source": [
    "spark\n"
   ]
  },
  {
   "cell_type": "code",
   "execution_count": 51,
   "metadata": {},
   "outputs": [],
   "source": [
    "bankdata = spark.read.format(\"csv\")\\\n",
    "        .option(\"header\", \"false\")\\\n",
    "        .option(\"inferSchema\", \"true\")\\\n",
    "        .load(\"file:///home/2052B43/bank_data.csv\")"
   ]
  },
  {
   "cell_type": "code",
   "execution_count": 52,
   "metadata": {},
   "outputs": [
    {
     "name": "stdout",
     "output_type": "stream",
     "text": [
      "+---+-----------+-------+---------+---+----+---+---+--------+---+----+----+----+----+----+-------+----+\n",
      "|_c0|        _c1|    _c2|      _c3|_c4| _c5|_c6|_c7|     _c8|_c9|_c10|_c11|_c12|_c13|_c14|   _c15|_c16|\n",
      "+---+-----------+-------+---------+---+----+---+---+--------+---+----+----+----+----+----+-------+----+\n",
      "| 30| unemployed|married|  primary| no|1787| no| no|cellular| 19| oct|  79|   1|  -1|   0|unknown|  no|\n",
      "| 33|   services|married|secondary| no|4789|yes|yes|cellular| 11| may| 220|   1| 339|   4|failure|  no|\n",
      "| 35| management| single| tertiary| no|1350|yes| no|cellular| 16| apr| 185|   1| 330|   1|failure|  no|\n",
      "| 30| management|married| tertiary| no|1476|yes|yes| unknown|  3| jun| 199|   4|  -1|   0|unknown|  no|\n",
      "| 59|blue-collar|married|secondary| no|   0|yes| no| unknown|  5| may| 226|   1|  -1|   0|unknown|  no|\n",
      "+---+-----------+-------+---------+---+----+---+---+--------+---+----+----+----+----+----+-------+----+\n",
      "only showing top 5 rows\n",
      "\n"
     ]
    }
   ],
   "source": [
    "bankdata.show(5)"
   ]
  },
  {
   "cell_type": "code",
   "execution_count": 53,
   "metadata": {},
   "outputs": [],
   "source": [
    "bankdata = bankdata.selectExpr(\"_c0 as age\", \"_c1 as job\", \"_c2 as marital_status\", \"_c3 as education\",\"_c4 as default\",\"_c5 as balance\",\"_c6 as housing\",\"_c7 as loan\",\"_c8 as contact\",\"_c9 as day\",\"_c10 as month\",\"_c11 as duration\",\"_c12 as campaign\",\"_c13 as pdays\",\"_c14 as previous\",\"_c15 as poutcome\",\"_c16 as label\")"
   ]
  },
  {
   "cell_type": "code",
   "execution_count": 54,
   "metadata": {},
   "outputs": [
    {
     "data": {
      "text/plain": [
       "[('age', 'int'),\n",
       " ('job', 'string'),\n",
       " ('marital_status', 'string'),\n",
       " ('education', 'string'),\n",
       " ('default', 'string'),\n",
       " ('balance', 'int'),\n",
       " ('housing', 'string'),\n",
       " ('loan', 'string'),\n",
       " ('contact', 'string'),\n",
       " ('day', 'int'),\n",
       " ('month', 'string'),\n",
       " ('duration', 'int'),\n",
       " ('campaign', 'int'),\n",
       " ('pdays', 'int'),\n",
       " ('previous', 'int'),\n",
       " ('poutcome', 'string'),\n",
       " ('label', 'string')]"
      ]
     },
     "execution_count": 54,
     "metadata": {},
     "output_type": "execute_result"
    }
   ],
   "source": [
    "bankdata.dtypes"
   ]
  },
  {
   "cell_type": "code",
   "execution_count": 55,
   "metadata": {},
   "outputs": [
    {
     "name": "stdout",
     "output_type": "stream",
     "text": [
      "+-------+------------------+-------+--------------+---------+-------+------------------+-------+----+--------+------------------+-----+------------------+------------------+------------------+------------------+--------+-----+\n",
      "|summary|               age|    job|marital_status|education|default|           balance|housing|loan| contact|               day|month|          duration|          campaign|             pdays|          previous|poutcome|label|\n",
      "+-------+------------------+-------+--------------+---------+-------+------------------+-------+----+--------+------------------+-----+------------------+------------------+------------------+------------------+--------+-----+\n",
      "|  count|              4521|   4521|          4521|     4521|   4521|              4521|   4521|4521|    4521|              4521| 4521|              4521|              4521|              4521|              4521|    4521| 4521|\n",
      "|   mean| 41.17009511170095|   null|          null|     null|   null|1422.6578190665782|   null|null|    null|15.915284229152842| null|263.96129174961294| 2.793629727936297|39.766644547666445|0.5425790754257908|    null| null|\n",
      "| stddev|10.576210958711263|   null|          null|     null|   null|3009.6381424673395|   null|null|    null| 8.247667327229934| null|259.85663262468216|3.1098066601885823|100.12112444301656|1.6935623506071211|    null| null|\n",
      "|    min|                19| admin.|      divorced|  primary|     no|             -3313|     no|  no|cellular|                 1|  apr|                 4|                 1|                -1|                 0| failure|   no|\n",
      "|    max|                87|unknown|        single|  unknown|    yes|             71188|    yes| yes| unknown|                31|  sep|              3025|                50|               871|                25| unknown|  yes|\n",
      "+-------+------------------+-------+--------------+---------+-------+------------------+-------+----+--------+------------------+-----+------------------+------------------+------------------+------------------+--------+-----+\n",
      "\n"
     ]
    }
   ],
   "source": [
    "## Description of the data\n",
    "bankdata.describe().show()"
   ]
  },
  {
   "cell_type": "code",
   "execution_count": 56,
   "metadata": {},
   "outputs": [
    {
     "name": "stdout",
     "output_type": "stream",
     "text": [
      "+-------+------------------+\n",
      "|summary|           balance|\n",
      "+-------+------------------+\n",
      "|  count|              4521|\n",
      "|   mean|1422.6578190665782|\n",
      "| stddev|3009.6381424673395|\n",
      "|    min|             -3313|\n",
      "|    max|             71188|\n",
      "+-------+------------------+\n",
      "\n"
     ]
    }
   ],
   "source": [
    "bankdata.describe('balance').show()"
   ]
  },
  {
   "cell_type": "code",
   "execution_count": 18,
   "metadata": {},
   "outputs": [],
   "source": [
    "bankdata.createOrReplaceTempView(\"bankdataTable\")"
   ]
  },
  {
   "cell_type": "code",
   "execution_count": 57,
   "metadata": {},
   "outputs": [],
   "source": [
    "from pyspark.sql.functions import when, col\n",
    "bankdata= bankdata.withColumn(\"balance\", when(bankdata[\"balance\"]<0,0).otherwise(bankdata[\"balance\"]))"
   ]
  },
  {
   "cell_type": "code",
   "execution_count": 58,
   "metadata": {},
   "outputs": [
    {
     "name": "stdout",
     "output_type": "stream",
     "text": [
      "+-------+----------------+\n",
      "|summary|         balance|\n",
      "+-------+----------------+\n",
      "|  count|            4521|\n",
      "|   mean|1449.33399690334|\n",
      "| stddev|2993.72586633407|\n",
      "|    min|               0|\n",
      "|    max|           71188|\n",
      "+-------+----------------+\n",
      "\n"
     ]
    }
   ],
   "source": [
    "bankdata.describe('balance').show()"
   ]
  },
  {
   "cell_type": "code",
   "execution_count": 60,
   "metadata": {},
   "outputs": [
    {
     "data": {
      "text/plain": [
       "[('age', 'int'),\n",
       " ('job', 'string'),\n",
       " ('marital_status', 'string'),\n",
       " ('education', 'string'),\n",
       " ('default', 'string'),\n",
       " ('balance', 'int'),\n",
       " ('housing', 'string'),\n",
       " ('loan', 'string'),\n",
       " ('contact', 'string'),\n",
       " ('day', 'int'),\n",
       " ('month', 'string'),\n",
       " ('duration', 'int'),\n",
       " ('campaign', 'int'),\n",
       " ('pdays', 'int'),\n",
       " ('previous', 'int'),\n",
       " ('poutcome', 'string'),\n",
       " ('label', 'string')]"
      ]
     },
     "execution_count": 60,
     "metadata": {},
     "output_type": "execute_result"
    }
   ],
   "source": [
    "bankdata.dtypes"
   ]
  },
  {
   "cell_type": "code",
   "execution_count": 61,
   "metadata": {},
   "outputs": [],
   "source": [
    "cat = ('job','marital_status','education','default','balance','housing','loan','contact','month','poutcome','label')"
   ]
  },
  {
   "cell_type": "code",
   "execution_count": 63,
   "metadata": {},
   "outputs": [
    {
     "name": "stdout",
     "output_type": "stream",
     "text": [
      "+---+-------------+--------------+---------+-------+-------+-------+----+--------+---+-----+--------+--------+-----+--------+--------+-----+--------+\n",
      "|age|          job|marital_status|education|default|balance|housing|loan| contact|day|month|duration|campaign|pdays|previous|poutcome|label|jobIndex|\n",
      "+---+-------------+--------------+---------+-------+-------+-------+----+--------+---+-----+--------+--------+-----+--------+--------+-----+--------+\n",
      "| 30|   unemployed|       married|  primary|     no|   1787|     no|  no|cellular| 19|  oct|      79|       1|   -1|       0| unknown|   no|     8.0|\n",
      "| 33|     services|       married|secondary|     no|   4789|    yes| yes|cellular| 11|  may|     220|       1|  339|       4| failure|   no|     4.0|\n",
      "| 35|   management|        single| tertiary|     no|   1350|    yes|  no|cellular| 16|  apr|     185|       1|  330|       1| failure|   no|     0.0|\n",
      "| 30|   management|       married| tertiary|     no|   1476|    yes| yes| unknown|  3|  jun|     199|       4|   -1|       0| unknown|   no|     0.0|\n",
      "| 59|  blue-collar|       married|secondary|     no|      0|    yes|  no| unknown|  5|  may|     226|       1|   -1|       0| unknown|   no|     1.0|\n",
      "| 35|   management|        single| tertiary|     no|    747|     no|  no|cellular| 23|  feb|     141|       2|  176|       3| failure|   no|     0.0|\n",
      "| 36|self-employed|       married| tertiary|     no|    307|    yes|  no|cellular| 14|  may|     341|       1|  330|       2|   other|   no|     6.0|\n",
      "| 39|   technician|       married|secondary|     no|    147|    yes|  no|cellular|  6|  may|     151|       2|   -1|       0| unknown|   no|     2.0|\n",
      "| 41| entrepreneur|       married| tertiary|     no|    221|    yes|  no| unknown| 14|  may|      57|       2|   -1|       0| unknown|   no|     7.0|\n",
      "| 43|     services|       married|  primary|     no|      0|    yes| yes|cellular| 17|  apr|     313|       1|  147|       2| failure|   no|     4.0|\n",
      "| 39|     services|       married|secondary|     no|   9374|    yes|  no| unknown| 20|  may|     273|       1|   -1|       0| unknown|   no|     4.0|\n",
      "| 43|       admin.|       married|secondary|     no|    264|    yes|  no|cellular| 17|  apr|     113|       2|   -1|       0| unknown|   no|     3.0|\n",
      "| 36|   technician|       married| tertiary|     no|   1109|     no|  no|cellular| 13|  aug|     328|       2|   -1|       0| unknown|   no|     2.0|\n",
      "| 20|      student|        single|secondary|     no|    502|     no|  no|cellular| 30|  apr|     261|       1|   -1|       0| unknown|  yes|    10.0|\n",
      "| 31|  blue-collar|       married|secondary|     no|    360|    yes| yes|cellular| 29|  jan|      89|       1|  241|       1| failure|   no|     1.0|\n",
      "| 40|   management|       married| tertiary|     no|    194|     no| yes|cellular| 29|  aug|     189|       2|   -1|       0| unknown|   no|     0.0|\n",
      "| 56|   technician|       married|secondary|     no|   4073|     no|  no|cellular| 27|  aug|     239|       5|   -1|       0| unknown|   no|     2.0|\n",
      "| 37|       admin.|        single| tertiary|     no|   2317|    yes|  no|cellular| 20|  apr|     114|       1|  152|       2| failure|   no|     3.0|\n",
      "| 25|  blue-collar|        single|  primary|     no|      0|    yes|  no| unknown| 23|  may|     250|       1|   -1|       0| unknown|   no|     1.0|\n",
      "| 31|     services|       married|secondary|     no|    132|     no|  no|cellular|  7|  jul|     148|       1|  152|       1|   other|   no|     4.0|\n",
      "+---+-------------+--------------+---------+-------+-------+-------+----+--------+---+-----+--------+--------+-----+--------+--------+-----+--------+\n",
      "only showing top 20 rows\n",
      "\n",
      "+---+-------------+--------------+---------+-------+-------+-------+----+--------+---+-----+--------+--------+-----+--------+--------+-----+--------+-------------------+\n",
      "|age|          job|marital_status|education|default|balance|housing|loan| contact|day|month|duration|campaign|pdays|previous|poutcome|label|jobIndex|marital_statusIndex|\n",
      "+---+-------------+--------------+---------+-------+-------+-------+----+--------+---+-----+--------+--------+-----+--------+--------+-----+--------+-------------------+\n",
      "| 30|   unemployed|       married|  primary|     no|   1787|     no|  no|cellular| 19|  oct|      79|       1|   -1|       0| unknown|   no|     8.0|                0.0|\n",
      "| 33|     services|       married|secondary|     no|   4789|    yes| yes|cellular| 11|  may|     220|       1|  339|       4| failure|   no|     4.0|                0.0|\n",
      "| 35|   management|        single| tertiary|     no|   1350|    yes|  no|cellular| 16|  apr|     185|       1|  330|       1| failure|   no|     0.0|                1.0|\n",
      "| 30|   management|       married| tertiary|     no|   1476|    yes| yes| unknown|  3|  jun|     199|       4|   -1|       0| unknown|   no|     0.0|                0.0|\n",
      "| 59|  blue-collar|       married|secondary|     no|      0|    yes|  no| unknown|  5|  may|     226|       1|   -1|       0| unknown|   no|     1.0|                0.0|\n",
      "| 35|   management|        single| tertiary|     no|    747|     no|  no|cellular| 23|  feb|     141|       2|  176|       3| failure|   no|     0.0|                1.0|\n",
      "| 36|self-employed|       married| tertiary|     no|    307|    yes|  no|cellular| 14|  may|     341|       1|  330|       2|   other|   no|     6.0|                0.0|\n",
      "| 39|   technician|       married|secondary|     no|    147|    yes|  no|cellular|  6|  may|     151|       2|   -1|       0| unknown|   no|     2.0|                0.0|\n",
      "| 41| entrepreneur|       married| tertiary|     no|    221|    yes|  no| unknown| 14|  may|      57|       2|   -1|       0| unknown|   no|     7.0|                0.0|\n",
      "| 43|     services|       married|  primary|     no|      0|    yes| yes|cellular| 17|  apr|     313|       1|  147|       2| failure|   no|     4.0|                0.0|\n",
      "| 39|     services|       married|secondary|     no|   9374|    yes|  no| unknown| 20|  may|     273|       1|   -1|       0| unknown|   no|     4.0|                0.0|\n",
      "| 43|       admin.|       married|secondary|     no|    264|    yes|  no|cellular| 17|  apr|     113|       2|   -1|       0| unknown|   no|     3.0|                0.0|\n",
      "| 36|   technician|       married| tertiary|     no|   1109|     no|  no|cellular| 13|  aug|     328|       2|   -1|       0| unknown|   no|     2.0|                0.0|\n",
      "| 20|      student|        single|secondary|     no|    502|     no|  no|cellular| 30|  apr|     261|       1|   -1|       0| unknown|  yes|    10.0|                1.0|\n",
      "| 31|  blue-collar|       married|secondary|     no|    360|    yes| yes|cellular| 29|  jan|      89|       1|  241|       1| failure|   no|     1.0|                0.0|\n",
      "| 40|   management|       married| tertiary|     no|    194|     no| yes|cellular| 29|  aug|     189|       2|   -1|       0| unknown|   no|     0.0|                0.0|\n",
      "| 56|   technician|       married|secondary|     no|   4073|     no|  no|cellular| 27|  aug|     239|       5|   -1|       0| unknown|   no|     2.0|                0.0|\n",
      "| 37|       admin.|        single| tertiary|     no|   2317|    yes|  no|cellular| 20|  apr|     114|       1|  152|       2| failure|   no|     3.0|                1.0|\n",
      "| 25|  blue-collar|        single|  primary|     no|      0|    yes|  no| unknown| 23|  may|     250|       1|   -1|       0| unknown|   no|     1.0|                1.0|\n",
      "| 31|     services|       married|secondary|     no|    132|     no|  no|cellular|  7|  jul|     148|       1|  152|       1|   other|   no|     4.0|                0.0|\n",
      "+---+-------------+--------------+---------+-------+-------+-------+----+--------+---+-----+--------+--------+-----+--------+--------+-----+--------+-------------------+\n",
      "only showing top 20 rows\n",
      "\n",
      "+---+-------------+--------------+---------+-------+-------+-------+----+--------+---+-----+--------+--------+-----+--------+--------+-----+--------+-------------------+--------------+\n",
      "|age|          job|marital_status|education|default|balance|housing|loan| contact|day|month|duration|campaign|pdays|previous|poutcome|label|jobIndex|marital_statusIndex|educationIndex|\n",
      "+---+-------------+--------------+---------+-------+-------+-------+----+--------+---+-----+--------+--------+-----+--------+--------+-----+--------+-------------------+--------------+\n",
      "| 30|   unemployed|       married|  primary|     no|   1787|     no|  no|cellular| 19|  oct|      79|       1|   -1|       0| unknown|   no|     8.0|                0.0|           2.0|\n",
      "| 33|     services|       married|secondary|     no|   4789|    yes| yes|cellular| 11|  may|     220|       1|  339|       4| failure|   no|     4.0|                0.0|           0.0|\n",
      "| 35|   management|        single| tertiary|     no|   1350|    yes|  no|cellular| 16|  apr|     185|       1|  330|       1| failure|   no|     0.0|                1.0|           1.0|\n",
      "| 30|   management|       married| tertiary|     no|   1476|    yes| yes| unknown|  3|  jun|     199|       4|   -1|       0| unknown|   no|     0.0|                0.0|           1.0|\n",
      "| 59|  blue-collar|       married|secondary|     no|      0|    yes|  no| unknown|  5|  may|     226|       1|   -1|       0| unknown|   no|     1.0|                0.0|           0.0|\n",
      "| 35|   management|        single| tertiary|     no|    747|     no|  no|cellular| 23|  feb|     141|       2|  176|       3| failure|   no|     0.0|                1.0|           1.0|\n",
      "| 36|self-employed|       married| tertiary|     no|    307|    yes|  no|cellular| 14|  may|     341|       1|  330|       2|   other|   no|     6.0|                0.0|           1.0|\n",
      "| 39|   technician|       married|secondary|     no|    147|    yes|  no|cellular|  6|  may|     151|       2|   -1|       0| unknown|   no|     2.0|                0.0|           0.0|\n",
      "| 41| entrepreneur|       married| tertiary|     no|    221|    yes|  no| unknown| 14|  may|      57|       2|   -1|       0| unknown|   no|     7.0|                0.0|           1.0|\n",
      "| 43|     services|       married|  primary|     no|      0|    yes| yes|cellular| 17|  apr|     313|       1|  147|       2| failure|   no|     4.0|                0.0|           2.0|\n",
      "| 39|     services|       married|secondary|     no|   9374|    yes|  no| unknown| 20|  may|     273|       1|   -1|       0| unknown|   no|     4.0|                0.0|           0.0|\n",
      "| 43|       admin.|       married|secondary|     no|    264|    yes|  no|cellular| 17|  apr|     113|       2|   -1|       0| unknown|   no|     3.0|                0.0|           0.0|\n",
      "| 36|   technician|       married| tertiary|     no|   1109|     no|  no|cellular| 13|  aug|     328|       2|   -1|       0| unknown|   no|     2.0|                0.0|           1.0|\n",
      "| 20|      student|        single|secondary|     no|    502|     no|  no|cellular| 30|  apr|     261|       1|   -1|       0| unknown|  yes|    10.0|                1.0|           0.0|\n",
      "| 31|  blue-collar|       married|secondary|     no|    360|    yes| yes|cellular| 29|  jan|      89|       1|  241|       1| failure|   no|     1.0|                0.0|           0.0|\n",
      "| 40|   management|       married| tertiary|     no|    194|     no| yes|cellular| 29|  aug|     189|       2|   -1|       0| unknown|   no|     0.0|                0.0|           1.0|\n",
      "| 56|   technician|       married|secondary|     no|   4073|     no|  no|cellular| 27|  aug|     239|       5|   -1|       0| unknown|   no|     2.0|                0.0|           0.0|\n",
      "| 37|       admin.|        single| tertiary|     no|   2317|    yes|  no|cellular| 20|  apr|     114|       1|  152|       2| failure|   no|     3.0|                1.0|           1.0|\n",
      "| 25|  blue-collar|        single|  primary|     no|      0|    yes|  no| unknown| 23|  may|     250|       1|   -1|       0| unknown|   no|     1.0|                1.0|           2.0|\n",
      "| 31|     services|       married|secondary|     no|    132|     no|  no|cellular|  7|  jul|     148|       1|  152|       1|   other|   no|     4.0|                0.0|           0.0|\n",
      "+---+-------------+--------------+---------+-------+-------+-------+----+--------+---+-----+--------+--------+-----+--------+--------+-----+--------+-------------------+--------------+\n",
      "only showing top 20 rows\n",
      "\n"
     ]
    },
    {
     "name": "stdout",
     "output_type": "stream",
     "text": [
      "+---+-------------+--------------+---------+-------+-------+-------+----+--------+---+-----+--------+--------+-----+--------+--------+-----+--------+-------------------+--------------+------------+\n",
      "|age|          job|marital_status|education|default|balance|housing|loan| contact|day|month|duration|campaign|pdays|previous|poutcome|label|jobIndex|marital_statusIndex|educationIndex|defaultIndex|\n",
      "+---+-------------+--------------+---------+-------+-------+-------+----+--------+---+-----+--------+--------+-----+--------+--------+-----+--------+-------------------+--------------+------------+\n",
      "| 30|   unemployed|       married|  primary|     no|   1787|     no|  no|cellular| 19|  oct|      79|       1|   -1|       0| unknown|   no|     8.0|                0.0|           2.0|         0.0|\n",
      "| 33|     services|       married|secondary|     no|   4789|    yes| yes|cellular| 11|  may|     220|       1|  339|       4| failure|   no|     4.0|                0.0|           0.0|         0.0|\n",
      "| 35|   management|        single| tertiary|     no|   1350|    yes|  no|cellular| 16|  apr|     185|       1|  330|       1| failure|   no|     0.0|                1.0|           1.0|         0.0|\n",
      "| 30|   management|       married| tertiary|     no|   1476|    yes| yes| unknown|  3|  jun|     199|       4|   -1|       0| unknown|   no|     0.0|                0.0|           1.0|         0.0|\n",
      "| 59|  blue-collar|       married|secondary|     no|      0|    yes|  no| unknown|  5|  may|     226|       1|   -1|       0| unknown|   no|     1.0|                0.0|           0.0|         0.0|\n",
      "| 35|   management|        single| tertiary|     no|    747|     no|  no|cellular| 23|  feb|     141|       2|  176|       3| failure|   no|     0.0|                1.0|           1.0|         0.0|\n",
      "| 36|self-employed|       married| tertiary|     no|    307|    yes|  no|cellular| 14|  may|     341|       1|  330|       2|   other|   no|     6.0|                0.0|           1.0|         0.0|\n",
      "| 39|   technician|       married|secondary|     no|    147|    yes|  no|cellular|  6|  may|     151|       2|   -1|       0| unknown|   no|     2.0|                0.0|           0.0|         0.0|\n",
      "| 41| entrepreneur|       married| tertiary|     no|    221|    yes|  no| unknown| 14|  may|      57|       2|   -1|       0| unknown|   no|     7.0|                0.0|           1.0|         0.0|\n",
      "| 43|     services|       married|  primary|     no|      0|    yes| yes|cellular| 17|  apr|     313|       1|  147|       2| failure|   no|     4.0|                0.0|           2.0|         0.0|\n",
      "| 39|     services|       married|secondary|     no|   9374|    yes|  no| unknown| 20|  may|     273|       1|   -1|       0| unknown|   no|     4.0|                0.0|           0.0|         0.0|\n",
      "| 43|       admin.|       married|secondary|     no|    264|    yes|  no|cellular| 17|  apr|     113|       2|   -1|       0| unknown|   no|     3.0|                0.0|           0.0|         0.0|\n",
      "| 36|   technician|       married| tertiary|     no|   1109|     no|  no|cellular| 13|  aug|     328|       2|   -1|       0| unknown|   no|     2.0|                0.0|           1.0|         0.0|\n",
      "| 20|      student|        single|secondary|     no|    502|     no|  no|cellular| 30|  apr|     261|       1|   -1|       0| unknown|  yes|    10.0|                1.0|           0.0|         0.0|\n",
      "| 31|  blue-collar|       married|secondary|     no|    360|    yes| yes|cellular| 29|  jan|      89|       1|  241|       1| failure|   no|     1.0|                0.0|           0.0|         0.0|\n",
      "| 40|   management|       married| tertiary|     no|    194|     no| yes|cellular| 29|  aug|     189|       2|   -1|       0| unknown|   no|     0.0|                0.0|           1.0|         0.0|\n",
      "| 56|   technician|       married|secondary|     no|   4073|     no|  no|cellular| 27|  aug|     239|       5|   -1|       0| unknown|   no|     2.0|                0.0|           0.0|         0.0|\n",
      "| 37|       admin.|        single| tertiary|     no|   2317|    yes|  no|cellular| 20|  apr|     114|       1|  152|       2| failure|   no|     3.0|                1.0|           1.0|         0.0|\n",
      "| 25|  blue-collar|        single|  primary|     no|      0|    yes|  no| unknown| 23|  may|     250|       1|   -1|       0| unknown|   no|     1.0|                1.0|           2.0|         0.0|\n",
      "| 31|     services|       married|secondary|     no|    132|     no|  no|cellular|  7|  jul|     148|       1|  152|       1|   other|   no|     4.0|                0.0|           0.0|         0.0|\n",
      "+---+-------------+--------------+---------+-------+-------+-------+----+--------+---+-----+--------+--------+-----+--------+--------+-----+--------+-------------------+--------------+------------+\n",
      "only showing top 20 rows\n",
      "\n",
      "+---+-------------+--------------+---------+-------+-------+-------+----+--------+---+-----+--------+--------+-----+--------+--------+-----+--------+-------------------+--------------+------------+------------+\n",
      "|age|          job|marital_status|education|default|balance|housing|loan| contact|day|month|duration|campaign|pdays|previous|poutcome|label|jobIndex|marital_statusIndex|educationIndex|defaultIndex|balanceIndex|\n",
      "+---+-------------+--------------+---------+-------+-------+-------+----+--------+---+-----+--------+--------+-----+--------+--------+-----+--------+-------------------+--------------+------------+------------+\n",
      "| 30|   unemployed|       married|  primary|     no|   1787|     no|  no|cellular| 19|  oct|      79|       1|   -1|       0| unknown|   no|     8.0|                0.0|           2.0|         0.0|       520.0|\n",
      "| 33|     services|       married|secondary|     no|   4789|    yes| yes|cellular| 11|  may|     220|       1|  339|       4| failure|   no|     4.0|                0.0|           0.0|         0.0|      1915.0|\n",
      "| 35|   management|        single| tertiary|     no|   1350|    yes|  no|cellular| 16|  apr|     185|       1|  330|       1| failure|   no|     0.0|                1.0|           1.0|         0.0|      1225.0|\n",
      "| 30|   management|       married| tertiary|     no|   1476|    yes| yes| unknown|  3|  jun|     199|       4|   -1|       0| unknown|   no|     0.0|                0.0|           1.0|         0.0|      1237.0|\n",
      "| 59|  blue-collar|       married|secondary|     no|      0|    yes|  no| unknown|  5|  may|     226|       1|   -1|       0| unknown|   no|     1.0|                0.0|           0.0|         0.0|         0.0|\n",
      "| 35|   management|        single| tertiary|     no|    747|     no|  no|cellular| 23|  feb|     141|       2|  176|       3| failure|   no|     0.0|                1.0|           1.0|         0.0|       299.0|\n",
      "| 36|self-employed|       married| tertiary|     no|    307|    yes|  no|cellular| 14|  may|     341|       1|  330|       2|   other|   no|     6.0|                0.0|           1.0|         0.0|       431.0|\n",
      "| 39|   technician|       married|secondary|     no|    147|    yes|  no|cellular|  6|  may|     151|       2|   -1|       0| unknown|   no|     2.0|                0.0|           0.0|         0.0|       237.0|\n",
      "| 41| entrepreneur|       married| tertiary|     no|    221|    yes|  no| unknown| 14|  may|      57|       2|   -1|       0| unknown|   no|     7.0|                0.0|           1.0|         0.0|       105.0|\n",
      "| 43|     services|       married|  primary|     no|      0|    yes| yes|cellular| 17|  apr|     313|       1|  147|       2| failure|   no|     4.0|                0.0|           2.0|         0.0|         0.0|\n",
      "| 39|     services|       married|secondary|     no|   9374|    yes|  no| unknown| 20|  may|     273|       1|   -1|       0| unknown|   no|     4.0|                0.0|           0.0|         0.0|       406.0|\n",
      "| 43|       admin.|       married|secondary|     no|    264|    yes|  no|cellular| 17|  apr|     113|       2|   -1|       0| unknown|   no|     3.0|                0.0|           0.0|         0.0|       642.0|\n",
      "| 36|   technician|       married| tertiary|     no|   1109|     no|  no|cellular| 13|  aug|     328|       2|   -1|       0| unknown|   no|     2.0|                0.0|           1.0|         0.0|      1591.0|\n",
      "| 20|      student|        single|secondary|     no|    502|     no|  no|cellular| 30|  apr|     261|       1|   -1|       0| unknown|  yes|    10.0|                1.0|           0.0|         0.0|       207.0|\n",
      "| 31|  blue-collar|       married|secondary|     no|    360|    yes| yes|cellular| 29|  jan|      89|       1|  241|       1| failure|   no|     1.0|                0.0|           0.0|         0.0|        56.0|\n",
      "| 40|   management|       married| tertiary|     no|    194|     no| yes|cellular| 29|  aug|     189|       2|   -1|       0| unknown|   no|     0.0|                0.0|           1.0|         0.0|       710.0|\n",
      "| 56|   technician|       married|secondary|     no|   4073|     no|  no|cellular| 27|  aug|     239|       5|   -1|       0| unknown|   no|     2.0|                0.0|           0.0|         0.0|      1779.0|\n",
      "| 37|       admin.|        single| tertiary|     no|   2317|    yes|  no|cellular| 20|  apr|     114|       1|  152|       2| failure|   no|     3.0|                1.0|           1.0|         0.0|      1336.0|\n",
      "| 25|  blue-collar|        single|  primary|     no|      0|    yes|  no| unknown| 23|  may|     250|       1|   -1|       0| unknown|   no|     1.0|                1.0|           2.0|         0.0|         0.0|\n",
      "| 31|     services|       married|secondary|     no|    132|     no|  no|cellular|  7|  jul|     148|       1|  152|       1|   other|   no|     4.0|                0.0|           0.0|         0.0|        82.0|\n",
      "+---+-------------+--------------+---------+-------+-------+-------+----+--------+---+-----+--------+--------+-----+--------+--------+-----+--------+-------------------+--------------+------------+------------+\n",
      "only showing top 20 rows\n",
      "\n"
     ]
    },
    {
     "name": "stdout",
     "output_type": "stream",
     "text": [
      "+---+-------------+--------------+---------+-------+-------+-------+----+--------+---+-----+--------+--------+-----+--------+--------+-----+--------+-------------------+--------------+------------+------------+------------+\n",
      "|age|          job|marital_status|education|default|balance|housing|loan| contact|day|month|duration|campaign|pdays|previous|poutcome|label|jobIndex|marital_statusIndex|educationIndex|defaultIndex|balanceIndex|housingIndex|\n",
      "+---+-------------+--------------+---------+-------+-------+-------+----+--------+---+-----+--------+--------+-----+--------+--------+-----+--------+-------------------+--------------+------------+------------+------------+\n",
      "| 30|   unemployed|       married|  primary|     no|   1787|     no|  no|cellular| 19|  oct|      79|       1|   -1|       0| unknown|   no|     8.0|                0.0|           2.0|         0.0|       520.0|         1.0|\n",
      "| 33|     services|       married|secondary|     no|   4789|    yes| yes|cellular| 11|  may|     220|       1|  339|       4| failure|   no|     4.0|                0.0|           0.0|         0.0|      1915.0|         0.0|\n",
      "| 35|   management|        single| tertiary|     no|   1350|    yes|  no|cellular| 16|  apr|     185|       1|  330|       1| failure|   no|     0.0|                1.0|           1.0|         0.0|      1225.0|         0.0|\n",
      "| 30|   management|       married| tertiary|     no|   1476|    yes| yes| unknown|  3|  jun|     199|       4|   -1|       0| unknown|   no|     0.0|                0.0|           1.0|         0.0|      1237.0|         0.0|\n",
      "| 59|  blue-collar|       married|secondary|     no|      0|    yes|  no| unknown|  5|  may|     226|       1|   -1|       0| unknown|   no|     1.0|                0.0|           0.0|         0.0|         0.0|         0.0|\n",
      "| 35|   management|        single| tertiary|     no|    747|     no|  no|cellular| 23|  feb|     141|       2|  176|       3| failure|   no|     0.0|                1.0|           1.0|         0.0|       299.0|         1.0|\n",
      "| 36|self-employed|       married| tertiary|     no|    307|    yes|  no|cellular| 14|  may|     341|       1|  330|       2|   other|   no|     6.0|                0.0|           1.0|         0.0|       431.0|         0.0|\n",
      "| 39|   technician|       married|secondary|     no|    147|    yes|  no|cellular|  6|  may|     151|       2|   -1|       0| unknown|   no|     2.0|                0.0|           0.0|         0.0|       237.0|         0.0|\n",
      "| 41| entrepreneur|       married| tertiary|     no|    221|    yes|  no| unknown| 14|  may|      57|       2|   -1|       0| unknown|   no|     7.0|                0.0|           1.0|         0.0|       105.0|         0.0|\n",
      "| 43|     services|       married|  primary|     no|      0|    yes| yes|cellular| 17|  apr|     313|       1|  147|       2| failure|   no|     4.0|                0.0|           2.0|         0.0|         0.0|         0.0|\n",
      "| 39|     services|       married|secondary|     no|   9374|    yes|  no| unknown| 20|  may|     273|       1|   -1|       0| unknown|   no|     4.0|                0.0|           0.0|         0.0|       406.0|         0.0|\n",
      "| 43|       admin.|       married|secondary|     no|    264|    yes|  no|cellular| 17|  apr|     113|       2|   -1|       0| unknown|   no|     3.0|                0.0|           0.0|         0.0|       642.0|         0.0|\n",
      "| 36|   technician|       married| tertiary|     no|   1109|     no|  no|cellular| 13|  aug|     328|       2|   -1|       0| unknown|   no|     2.0|                0.0|           1.0|         0.0|      1591.0|         1.0|\n",
      "| 20|      student|        single|secondary|     no|    502|     no|  no|cellular| 30|  apr|     261|       1|   -1|       0| unknown|  yes|    10.0|                1.0|           0.0|         0.0|       207.0|         1.0|\n",
      "| 31|  blue-collar|       married|secondary|     no|    360|    yes| yes|cellular| 29|  jan|      89|       1|  241|       1| failure|   no|     1.0|                0.0|           0.0|         0.0|        56.0|         0.0|\n",
      "| 40|   management|       married| tertiary|     no|    194|     no| yes|cellular| 29|  aug|     189|       2|   -1|       0| unknown|   no|     0.0|                0.0|           1.0|         0.0|       710.0|         1.0|\n",
      "| 56|   technician|       married|secondary|     no|   4073|     no|  no|cellular| 27|  aug|     239|       5|   -1|       0| unknown|   no|     2.0|                0.0|           0.0|         0.0|      1779.0|         1.0|\n",
      "| 37|       admin.|        single| tertiary|     no|   2317|    yes|  no|cellular| 20|  apr|     114|       1|  152|       2| failure|   no|     3.0|                1.0|           1.0|         0.0|      1336.0|         0.0|\n",
      "| 25|  blue-collar|        single|  primary|     no|      0|    yes|  no| unknown| 23|  may|     250|       1|   -1|       0| unknown|   no|     1.0|                1.0|           2.0|         0.0|         0.0|         0.0|\n",
      "| 31|     services|       married|secondary|     no|    132|     no|  no|cellular|  7|  jul|     148|       1|  152|       1|   other|   no|     4.0|                0.0|           0.0|         0.0|        82.0|         1.0|\n",
      "+---+-------------+--------------+---------+-------+-------+-------+----+--------+---+-----+--------+--------+-----+--------+--------+-----+--------+-------------------+--------------+------------+------------+------------+\n",
      "only showing top 20 rows\n",
      "\n",
      "+---+-------------+--------------+---------+-------+-------+-------+----+--------+---+-----+--------+--------+-----+--------+--------+-----+--------+-------------------+--------------+------------+------------+------------+---------+\n",
      "|age|          job|marital_status|education|default|balance|housing|loan| contact|day|month|duration|campaign|pdays|previous|poutcome|label|jobIndex|marital_statusIndex|educationIndex|defaultIndex|balanceIndex|housingIndex|loanIndex|\n",
      "+---+-------------+--------------+---------+-------+-------+-------+----+--------+---+-----+--------+--------+-----+--------+--------+-----+--------+-------------------+--------------+------------+------------+------------+---------+\n",
      "| 30|   unemployed|       married|  primary|     no|   1787|     no|  no|cellular| 19|  oct|      79|       1|   -1|       0| unknown|   no|     8.0|                0.0|           2.0|         0.0|       520.0|         1.0|      0.0|\n",
      "| 33|     services|       married|secondary|     no|   4789|    yes| yes|cellular| 11|  may|     220|       1|  339|       4| failure|   no|     4.0|                0.0|           0.0|         0.0|      1915.0|         0.0|      1.0|\n",
      "| 35|   management|        single| tertiary|     no|   1350|    yes|  no|cellular| 16|  apr|     185|       1|  330|       1| failure|   no|     0.0|                1.0|           1.0|         0.0|      1225.0|         0.0|      0.0|\n",
      "| 30|   management|       married| tertiary|     no|   1476|    yes| yes| unknown|  3|  jun|     199|       4|   -1|       0| unknown|   no|     0.0|                0.0|           1.0|         0.0|      1237.0|         0.0|      1.0|\n",
      "| 59|  blue-collar|       married|secondary|     no|      0|    yes|  no| unknown|  5|  may|     226|       1|   -1|       0| unknown|   no|     1.0|                0.0|           0.0|         0.0|         0.0|         0.0|      0.0|\n",
      "| 35|   management|        single| tertiary|     no|    747|     no|  no|cellular| 23|  feb|     141|       2|  176|       3| failure|   no|     0.0|                1.0|           1.0|         0.0|       299.0|         1.0|      0.0|\n",
      "| 36|self-employed|       married| tertiary|     no|    307|    yes|  no|cellular| 14|  may|     341|       1|  330|       2|   other|   no|     6.0|                0.0|           1.0|         0.0|       431.0|         0.0|      0.0|\n",
      "| 39|   technician|       married|secondary|     no|    147|    yes|  no|cellular|  6|  may|     151|       2|   -1|       0| unknown|   no|     2.0|                0.0|           0.0|         0.0|       237.0|         0.0|      0.0|\n",
      "| 41| entrepreneur|       married| tertiary|     no|    221|    yes|  no| unknown| 14|  may|      57|       2|   -1|       0| unknown|   no|     7.0|                0.0|           1.0|         0.0|       105.0|         0.0|      0.0|\n",
      "| 43|     services|       married|  primary|     no|      0|    yes| yes|cellular| 17|  apr|     313|       1|  147|       2| failure|   no|     4.0|                0.0|           2.0|         0.0|         0.0|         0.0|      1.0|\n",
      "| 39|     services|       married|secondary|     no|   9374|    yes|  no| unknown| 20|  may|     273|       1|   -1|       0| unknown|   no|     4.0|                0.0|           0.0|         0.0|       406.0|         0.0|      0.0|\n",
      "| 43|       admin.|       married|secondary|     no|    264|    yes|  no|cellular| 17|  apr|     113|       2|   -1|       0| unknown|   no|     3.0|                0.0|           0.0|         0.0|       642.0|         0.0|      0.0|\n",
      "| 36|   technician|       married| tertiary|     no|   1109|     no|  no|cellular| 13|  aug|     328|       2|   -1|       0| unknown|   no|     2.0|                0.0|           1.0|         0.0|      1591.0|         1.0|      0.0|\n",
      "| 20|      student|        single|secondary|     no|    502|     no|  no|cellular| 30|  apr|     261|       1|   -1|       0| unknown|  yes|    10.0|                1.0|           0.0|         0.0|       207.0|         1.0|      0.0|\n",
      "| 31|  blue-collar|       married|secondary|     no|    360|    yes| yes|cellular| 29|  jan|      89|       1|  241|       1| failure|   no|     1.0|                0.0|           0.0|         0.0|        56.0|         0.0|      1.0|\n",
      "| 40|   management|       married| tertiary|     no|    194|     no| yes|cellular| 29|  aug|     189|       2|   -1|       0| unknown|   no|     0.0|                0.0|           1.0|         0.0|       710.0|         1.0|      1.0|\n",
      "| 56|   technician|       married|secondary|     no|   4073|     no|  no|cellular| 27|  aug|     239|       5|   -1|       0| unknown|   no|     2.0|                0.0|           0.0|         0.0|      1779.0|         1.0|      0.0|\n",
      "| 37|       admin.|        single| tertiary|     no|   2317|    yes|  no|cellular| 20|  apr|     114|       1|  152|       2| failure|   no|     3.0|                1.0|           1.0|         0.0|      1336.0|         0.0|      0.0|\n",
      "| 25|  blue-collar|        single|  primary|     no|      0|    yes|  no| unknown| 23|  may|     250|       1|   -1|       0| unknown|   no|     1.0|                1.0|           2.0|         0.0|         0.0|         0.0|      0.0|\n",
      "| 31|     services|       married|secondary|     no|    132|     no|  no|cellular|  7|  jul|     148|       1|  152|       1|   other|   no|     4.0|                0.0|           0.0|         0.0|        82.0|         1.0|      0.0|\n",
      "+---+-------------+--------------+---------+-------+-------+-------+----+--------+---+-----+--------+--------+-----+--------+--------+-----+--------+-------------------+--------------+------------+------------+------------+---------+\n",
      "only showing top 20 rows\n",
      "\n"
     ]
    },
    {
     "name": "stdout",
     "output_type": "stream",
     "text": [
      "+---+-------------+--------------+---------+-------+-------+-------+----+--------+---+-----+--------+--------+-----+--------+--------+-----+--------+-------------------+--------------+------------+------------+------------+---------+------------+\n",
      "|age|          job|marital_status|education|default|balance|housing|loan| contact|day|month|duration|campaign|pdays|previous|poutcome|label|jobIndex|marital_statusIndex|educationIndex|defaultIndex|balanceIndex|housingIndex|loanIndex|contactIndex|\n",
      "+---+-------------+--------------+---------+-------+-------+-------+----+--------+---+-----+--------+--------+-----+--------+--------+-----+--------+-------------------+--------------+------------+------------+------------+---------+------------+\n",
      "| 30|   unemployed|       married|  primary|     no|   1787|     no|  no|cellular| 19|  oct|      79|       1|   -1|       0| unknown|   no|     8.0|                0.0|           2.0|         0.0|       520.0|         1.0|      0.0|         0.0|\n",
      "| 33|     services|       married|secondary|     no|   4789|    yes| yes|cellular| 11|  may|     220|       1|  339|       4| failure|   no|     4.0|                0.0|           0.0|         0.0|      1915.0|         0.0|      1.0|         0.0|\n",
      "| 35|   management|        single| tertiary|     no|   1350|    yes|  no|cellular| 16|  apr|     185|       1|  330|       1| failure|   no|     0.0|                1.0|           1.0|         0.0|      1225.0|         0.0|      0.0|         0.0|\n",
      "| 30|   management|       married| tertiary|     no|   1476|    yes| yes| unknown|  3|  jun|     199|       4|   -1|       0| unknown|   no|     0.0|                0.0|           1.0|         0.0|      1237.0|         0.0|      1.0|         1.0|\n",
      "| 59|  blue-collar|       married|secondary|     no|      0|    yes|  no| unknown|  5|  may|     226|       1|   -1|       0| unknown|   no|     1.0|                0.0|           0.0|         0.0|         0.0|         0.0|      0.0|         1.0|\n",
      "| 35|   management|        single| tertiary|     no|    747|     no|  no|cellular| 23|  feb|     141|       2|  176|       3| failure|   no|     0.0|                1.0|           1.0|         0.0|       299.0|         1.0|      0.0|         0.0|\n",
      "| 36|self-employed|       married| tertiary|     no|    307|    yes|  no|cellular| 14|  may|     341|       1|  330|       2|   other|   no|     6.0|                0.0|           1.0|         0.0|       431.0|         0.0|      0.0|         0.0|\n",
      "| 39|   technician|       married|secondary|     no|    147|    yes|  no|cellular|  6|  may|     151|       2|   -1|       0| unknown|   no|     2.0|                0.0|           0.0|         0.0|       237.0|         0.0|      0.0|         0.0|\n",
      "| 41| entrepreneur|       married| tertiary|     no|    221|    yes|  no| unknown| 14|  may|      57|       2|   -1|       0| unknown|   no|     7.0|                0.0|           1.0|         0.0|       105.0|         0.0|      0.0|         1.0|\n",
      "| 43|     services|       married|  primary|     no|      0|    yes| yes|cellular| 17|  apr|     313|       1|  147|       2| failure|   no|     4.0|                0.0|           2.0|         0.0|         0.0|         0.0|      1.0|         0.0|\n",
      "| 39|     services|       married|secondary|     no|   9374|    yes|  no| unknown| 20|  may|     273|       1|   -1|       0| unknown|   no|     4.0|                0.0|           0.0|         0.0|       406.0|         0.0|      0.0|         1.0|\n",
      "| 43|       admin.|       married|secondary|     no|    264|    yes|  no|cellular| 17|  apr|     113|       2|   -1|       0| unknown|   no|     3.0|                0.0|           0.0|         0.0|       642.0|         0.0|      0.0|         0.0|\n",
      "| 36|   technician|       married| tertiary|     no|   1109|     no|  no|cellular| 13|  aug|     328|       2|   -1|       0| unknown|   no|     2.0|                0.0|           1.0|         0.0|      1591.0|         1.0|      0.0|         0.0|\n",
      "| 20|      student|        single|secondary|     no|    502|     no|  no|cellular| 30|  apr|     261|       1|   -1|       0| unknown|  yes|    10.0|                1.0|           0.0|         0.0|       207.0|         1.0|      0.0|         0.0|\n",
      "| 31|  blue-collar|       married|secondary|     no|    360|    yes| yes|cellular| 29|  jan|      89|       1|  241|       1| failure|   no|     1.0|                0.0|           0.0|         0.0|        56.0|         0.0|      1.0|         0.0|\n",
      "| 40|   management|       married| tertiary|     no|    194|     no| yes|cellular| 29|  aug|     189|       2|   -1|       0| unknown|   no|     0.0|                0.0|           1.0|         0.0|       710.0|         1.0|      1.0|         0.0|\n",
      "| 56|   technician|       married|secondary|     no|   4073|     no|  no|cellular| 27|  aug|     239|       5|   -1|       0| unknown|   no|     2.0|                0.0|           0.0|         0.0|      1779.0|         1.0|      0.0|         0.0|\n",
      "| 37|       admin.|        single| tertiary|     no|   2317|    yes|  no|cellular| 20|  apr|     114|       1|  152|       2| failure|   no|     3.0|                1.0|           1.0|         0.0|      1336.0|         0.0|      0.0|         0.0|\n",
      "| 25|  blue-collar|        single|  primary|     no|      0|    yes|  no| unknown| 23|  may|     250|       1|   -1|       0| unknown|   no|     1.0|                1.0|           2.0|         0.0|         0.0|         0.0|      0.0|         1.0|\n",
      "| 31|     services|       married|secondary|     no|    132|     no|  no|cellular|  7|  jul|     148|       1|  152|       1|   other|   no|     4.0|                0.0|           0.0|         0.0|        82.0|         1.0|      0.0|         0.0|\n",
      "+---+-------------+--------------+---------+-------+-------+-------+----+--------+---+-----+--------+--------+-----+--------+--------+-----+--------+-------------------+--------------+------------+------------+------------+---------+------------+\n",
      "only showing top 20 rows\n",
      "\n",
      "+---+-------------+--------------+---------+-------+-------+-------+----+--------+---+-----+--------+--------+-----+--------+--------+-----+--------+-------------------+--------------+------------+------------+------------+---------+------------+----------+\n",
      "|age|          job|marital_status|education|default|balance|housing|loan| contact|day|month|duration|campaign|pdays|previous|poutcome|label|jobIndex|marital_statusIndex|educationIndex|defaultIndex|balanceIndex|housingIndex|loanIndex|contactIndex|monthIndex|\n",
      "+---+-------------+--------------+---------+-------+-------+-------+----+--------+---+-----+--------+--------+-----+--------+--------+-----+--------+-------------------+--------------+------------+------------+------------+---------+------------+----------+\n",
      "| 30|   unemployed|       married|  primary|     no|   1787|     no|  no|cellular| 19|  oct|      79|       1|   -1|       0| unknown|   no|     8.0|                0.0|           2.0|         0.0|       520.0|         1.0|      0.0|         0.0|       8.0|\n",
      "| 33|     services|       married|secondary|     no|   4789|    yes| yes|cellular| 11|  may|     220|       1|  339|       4| failure|   no|     4.0|                0.0|           0.0|         0.0|      1915.0|         0.0|      1.0|         0.0|       0.0|\n",
      "| 35|   management|        single| tertiary|     no|   1350|    yes|  no|cellular| 16|  apr|     185|       1|  330|       1| failure|   no|     0.0|                1.0|           1.0|         0.0|      1225.0|         0.0|      0.0|         0.0|       5.0|\n",
      "| 30|   management|       married| tertiary|     no|   1476|    yes| yes| unknown|  3|  jun|     199|       4|   -1|       0| unknown|   no|     0.0|                0.0|           1.0|         0.0|      1237.0|         0.0|      1.0|         1.0|       3.0|\n",
      "| 59|  blue-collar|       married|secondary|     no|      0|    yes|  no| unknown|  5|  may|     226|       1|   -1|       0| unknown|   no|     1.0|                0.0|           0.0|         0.0|         0.0|         0.0|      0.0|         1.0|       0.0|\n",
      "| 35|   management|        single| tertiary|     no|    747|     no|  no|cellular| 23|  feb|     141|       2|  176|       3| failure|   no|     0.0|                1.0|           1.0|         0.0|       299.0|         1.0|      0.0|         0.0|       6.0|\n",
      "| 36|self-employed|       married| tertiary|     no|    307|    yes|  no|cellular| 14|  may|     341|       1|  330|       2|   other|   no|     6.0|                0.0|           1.0|         0.0|       431.0|         0.0|      0.0|         0.0|       0.0|\n",
      "| 39|   technician|       married|secondary|     no|    147|    yes|  no|cellular|  6|  may|     151|       2|   -1|       0| unknown|   no|     2.0|                0.0|           0.0|         0.0|       237.0|         0.0|      0.0|         0.0|       0.0|\n",
      "| 41| entrepreneur|       married| tertiary|     no|    221|    yes|  no| unknown| 14|  may|      57|       2|   -1|       0| unknown|   no|     7.0|                0.0|           1.0|         0.0|       105.0|         0.0|      0.0|         1.0|       0.0|\n",
      "| 43|     services|       married|  primary|     no|      0|    yes| yes|cellular| 17|  apr|     313|       1|  147|       2| failure|   no|     4.0|                0.0|           2.0|         0.0|         0.0|         0.0|      1.0|         0.0|       5.0|\n",
      "| 39|     services|       married|secondary|     no|   9374|    yes|  no| unknown| 20|  may|     273|       1|   -1|       0| unknown|   no|     4.0|                0.0|           0.0|         0.0|       406.0|         0.0|      0.0|         1.0|       0.0|\n",
      "| 43|       admin.|       married|secondary|     no|    264|    yes|  no|cellular| 17|  apr|     113|       2|   -1|       0| unknown|   no|     3.0|                0.0|           0.0|         0.0|       642.0|         0.0|      0.0|         0.0|       5.0|\n",
      "| 36|   technician|       married| tertiary|     no|   1109|     no|  no|cellular| 13|  aug|     328|       2|   -1|       0| unknown|   no|     2.0|                0.0|           1.0|         0.0|      1591.0|         1.0|      0.0|         0.0|       2.0|\n",
      "| 20|      student|        single|secondary|     no|    502|     no|  no|cellular| 30|  apr|     261|       1|   -1|       0| unknown|  yes|    10.0|                1.0|           0.0|         0.0|       207.0|         1.0|      0.0|         0.0|       5.0|\n",
      "| 31|  blue-collar|       married|secondary|     no|    360|    yes| yes|cellular| 29|  jan|      89|       1|  241|       1| failure|   no|     1.0|                0.0|           0.0|         0.0|        56.0|         0.0|      1.0|         0.0|       7.0|\n",
      "| 40|   management|       married| tertiary|     no|    194|     no| yes|cellular| 29|  aug|     189|       2|   -1|       0| unknown|   no|     0.0|                0.0|           1.0|         0.0|       710.0|         1.0|      1.0|         0.0|       2.0|\n",
      "| 56|   technician|       married|secondary|     no|   4073|     no|  no|cellular| 27|  aug|     239|       5|   -1|       0| unknown|   no|     2.0|                0.0|           0.0|         0.0|      1779.0|         1.0|      0.0|         0.0|       2.0|\n",
      "| 37|       admin.|        single| tertiary|     no|   2317|    yes|  no|cellular| 20|  apr|     114|       1|  152|       2| failure|   no|     3.0|                1.0|           1.0|         0.0|      1336.0|         0.0|      0.0|         0.0|       5.0|\n",
      "| 25|  blue-collar|        single|  primary|     no|      0|    yes|  no| unknown| 23|  may|     250|       1|   -1|       0| unknown|   no|     1.0|                1.0|           2.0|         0.0|         0.0|         0.0|      0.0|         1.0|       0.0|\n",
      "| 31|     services|       married|secondary|     no|    132|     no|  no|cellular|  7|  jul|     148|       1|  152|       1|   other|   no|     4.0|                0.0|           0.0|         0.0|        82.0|         1.0|      0.0|         0.0|       1.0|\n",
      "+---+-------------+--------------+---------+-------+-------+-------+----+--------+---+-----+--------+--------+-----+--------+--------+-----+--------+-------------------+--------------+------------+------------+------------+---------+------------+----------+\n",
      "only showing top 20 rows\n",
      "\n"
     ]
    },
    {
     "name": "stdout",
     "output_type": "stream",
     "text": [
      "+---+-------------+--------------+---------+-------+-------+-------+----+--------+---+-----+--------+--------+-----+--------+--------+-----+--------+-------------------+--------------+------------+------------+------------+---------+------------+----------+-------------+\n",
      "|age|          job|marital_status|education|default|balance|housing|loan| contact|day|month|duration|campaign|pdays|previous|poutcome|label|jobIndex|marital_statusIndex|educationIndex|defaultIndex|balanceIndex|housingIndex|loanIndex|contactIndex|monthIndex|poutcomeIndex|\n",
      "+---+-------------+--------------+---------+-------+-------+-------+----+--------+---+-----+--------+--------+-----+--------+--------+-----+--------+-------------------+--------------+------------+------------+------------+---------+------------+----------+-------------+\n",
      "| 30|   unemployed|       married|  primary|     no|   1787|     no|  no|cellular| 19|  oct|      79|       1|   -1|       0| unknown|   no|     8.0|                0.0|           2.0|         0.0|       520.0|         1.0|      0.0|         0.0|       8.0|          0.0|\n",
      "| 33|     services|       married|secondary|     no|   4789|    yes| yes|cellular| 11|  may|     220|       1|  339|       4| failure|   no|     4.0|                0.0|           0.0|         0.0|      1915.0|         0.0|      1.0|         0.0|       0.0|          1.0|\n",
      "| 35|   management|        single| tertiary|     no|   1350|    yes|  no|cellular| 16|  apr|     185|       1|  330|       1| failure|   no|     0.0|                1.0|           1.0|         0.0|      1225.0|         0.0|      0.0|         0.0|       5.0|          1.0|\n",
      "| 30|   management|       married| tertiary|     no|   1476|    yes| yes| unknown|  3|  jun|     199|       4|   -1|       0| unknown|   no|     0.0|                0.0|           1.0|         0.0|      1237.0|         0.0|      1.0|         1.0|       3.0|          0.0|\n",
      "| 59|  blue-collar|       married|secondary|     no|      0|    yes|  no| unknown|  5|  may|     226|       1|   -1|       0| unknown|   no|     1.0|                0.0|           0.0|         0.0|         0.0|         0.0|      0.0|         1.0|       0.0|          0.0|\n",
      "| 35|   management|        single| tertiary|     no|    747|     no|  no|cellular| 23|  feb|     141|       2|  176|       3| failure|   no|     0.0|                1.0|           1.0|         0.0|       299.0|         1.0|      0.0|         0.0|       6.0|          1.0|\n",
      "| 36|self-employed|       married| tertiary|     no|    307|    yes|  no|cellular| 14|  may|     341|       1|  330|       2|   other|   no|     6.0|                0.0|           1.0|         0.0|       431.0|         0.0|      0.0|         0.0|       0.0|          2.0|\n",
      "| 39|   technician|       married|secondary|     no|    147|    yes|  no|cellular|  6|  may|     151|       2|   -1|       0| unknown|   no|     2.0|                0.0|           0.0|         0.0|       237.0|         0.0|      0.0|         0.0|       0.0|          0.0|\n",
      "| 41| entrepreneur|       married| tertiary|     no|    221|    yes|  no| unknown| 14|  may|      57|       2|   -1|       0| unknown|   no|     7.0|                0.0|           1.0|         0.0|       105.0|         0.0|      0.0|         1.0|       0.0|          0.0|\n",
      "| 43|     services|       married|  primary|     no|      0|    yes| yes|cellular| 17|  apr|     313|       1|  147|       2| failure|   no|     4.0|                0.0|           2.0|         0.0|         0.0|         0.0|      1.0|         0.0|       5.0|          1.0|\n",
      "| 39|     services|       married|secondary|     no|   9374|    yes|  no| unknown| 20|  may|     273|       1|   -1|       0| unknown|   no|     4.0|                0.0|           0.0|         0.0|       406.0|         0.0|      0.0|         1.0|       0.0|          0.0|\n",
      "| 43|       admin.|       married|secondary|     no|    264|    yes|  no|cellular| 17|  apr|     113|       2|   -1|       0| unknown|   no|     3.0|                0.0|           0.0|         0.0|       642.0|         0.0|      0.0|         0.0|       5.0|          0.0|\n",
      "| 36|   technician|       married| tertiary|     no|   1109|     no|  no|cellular| 13|  aug|     328|       2|   -1|       0| unknown|   no|     2.0|                0.0|           1.0|         0.0|      1591.0|         1.0|      0.0|         0.0|       2.0|          0.0|\n",
      "| 20|      student|        single|secondary|     no|    502|     no|  no|cellular| 30|  apr|     261|       1|   -1|       0| unknown|  yes|    10.0|                1.0|           0.0|         0.0|       207.0|         1.0|      0.0|         0.0|       5.0|          0.0|\n",
      "| 31|  blue-collar|       married|secondary|     no|    360|    yes| yes|cellular| 29|  jan|      89|       1|  241|       1| failure|   no|     1.0|                0.0|           0.0|         0.0|        56.0|         0.0|      1.0|         0.0|       7.0|          1.0|\n",
      "| 40|   management|       married| tertiary|     no|    194|     no| yes|cellular| 29|  aug|     189|       2|   -1|       0| unknown|   no|     0.0|                0.0|           1.0|         0.0|       710.0|         1.0|      1.0|         0.0|       2.0|          0.0|\n",
      "| 56|   technician|       married|secondary|     no|   4073|     no|  no|cellular| 27|  aug|     239|       5|   -1|       0| unknown|   no|     2.0|                0.0|           0.0|         0.0|      1779.0|         1.0|      0.0|         0.0|       2.0|          0.0|\n",
      "| 37|       admin.|        single| tertiary|     no|   2317|    yes|  no|cellular| 20|  apr|     114|       1|  152|       2| failure|   no|     3.0|                1.0|           1.0|         0.0|      1336.0|         0.0|      0.0|         0.0|       5.0|          1.0|\n",
      "| 25|  blue-collar|        single|  primary|     no|      0|    yes|  no| unknown| 23|  may|     250|       1|   -1|       0| unknown|   no|     1.0|                1.0|           2.0|         0.0|         0.0|         0.0|      0.0|         1.0|       0.0|          0.0|\n",
      "| 31|     services|       married|secondary|     no|    132|     no|  no|cellular|  7|  jul|     148|       1|  152|       1|   other|   no|     4.0|                0.0|           0.0|         0.0|        82.0|         1.0|      0.0|         0.0|       1.0|          2.0|\n",
      "+---+-------------+--------------+---------+-------+-------+-------+----+--------+---+-----+--------+--------+-----+--------+--------+-----+--------+-------------------+--------------+------------+------------+------------+---------+------------+----------+-------------+\n",
      "only showing top 20 rows\n",
      "\n",
      "+---+-------------+--------------+---------+-------+-------+-------+----+--------+---+-----+--------+--------+-----+--------+--------+-----+--------+-------------------+--------------+------------+------------+------------+---------+------------+----------+-------------+----------+\n",
      "|age|          job|marital_status|education|default|balance|housing|loan| contact|day|month|duration|campaign|pdays|previous|poutcome|label|jobIndex|marital_statusIndex|educationIndex|defaultIndex|balanceIndex|housingIndex|loanIndex|contactIndex|monthIndex|poutcomeIndex|labelIndex|\n",
      "+---+-------------+--------------+---------+-------+-------+-------+----+--------+---+-----+--------+--------+-----+--------+--------+-----+--------+-------------------+--------------+------------+------------+------------+---------+------------+----------+-------------+----------+\n",
      "| 30|   unemployed|       married|  primary|     no|   1787|     no|  no|cellular| 19|  oct|      79|       1|   -1|       0| unknown|   no|     8.0|                0.0|           2.0|         0.0|       520.0|         1.0|      0.0|         0.0|       8.0|          0.0|       0.0|\n",
      "| 33|     services|       married|secondary|     no|   4789|    yes| yes|cellular| 11|  may|     220|       1|  339|       4| failure|   no|     4.0|                0.0|           0.0|         0.0|      1915.0|         0.0|      1.0|         0.0|       0.0|          1.0|       0.0|\n",
      "| 35|   management|        single| tertiary|     no|   1350|    yes|  no|cellular| 16|  apr|     185|       1|  330|       1| failure|   no|     0.0|                1.0|           1.0|         0.0|      1225.0|         0.0|      0.0|         0.0|       5.0|          1.0|       0.0|\n",
      "| 30|   management|       married| tertiary|     no|   1476|    yes| yes| unknown|  3|  jun|     199|       4|   -1|       0| unknown|   no|     0.0|                0.0|           1.0|         0.0|      1237.0|         0.0|      1.0|         1.0|       3.0|          0.0|       0.0|\n",
      "| 59|  blue-collar|       married|secondary|     no|      0|    yes|  no| unknown|  5|  may|     226|       1|   -1|       0| unknown|   no|     1.0|                0.0|           0.0|         0.0|         0.0|         0.0|      0.0|         1.0|       0.0|          0.0|       0.0|\n",
      "| 35|   management|        single| tertiary|     no|    747|     no|  no|cellular| 23|  feb|     141|       2|  176|       3| failure|   no|     0.0|                1.0|           1.0|         0.0|       299.0|         1.0|      0.0|         0.0|       6.0|          1.0|       0.0|\n",
      "| 36|self-employed|       married| tertiary|     no|    307|    yes|  no|cellular| 14|  may|     341|       1|  330|       2|   other|   no|     6.0|                0.0|           1.0|         0.0|       431.0|         0.0|      0.0|         0.0|       0.0|          2.0|       0.0|\n",
      "| 39|   technician|       married|secondary|     no|    147|    yes|  no|cellular|  6|  may|     151|       2|   -1|       0| unknown|   no|     2.0|                0.0|           0.0|         0.0|       237.0|         0.0|      0.0|         0.0|       0.0|          0.0|       0.0|\n",
      "| 41| entrepreneur|       married| tertiary|     no|    221|    yes|  no| unknown| 14|  may|      57|       2|   -1|       0| unknown|   no|     7.0|                0.0|           1.0|         0.0|       105.0|         0.0|      0.0|         1.0|       0.0|          0.0|       0.0|\n",
      "| 43|     services|       married|  primary|     no|      0|    yes| yes|cellular| 17|  apr|     313|       1|  147|       2| failure|   no|     4.0|                0.0|           2.0|         0.0|         0.0|         0.0|      1.0|         0.0|       5.0|          1.0|       0.0|\n",
      "| 39|     services|       married|secondary|     no|   9374|    yes|  no| unknown| 20|  may|     273|       1|   -1|       0| unknown|   no|     4.0|                0.0|           0.0|         0.0|       406.0|         0.0|      0.0|         1.0|       0.0|          0.0|       0.0|\n",
      "| 43|       admin.|       married|secondary|     no|    264|    yes|  no|cellular| 17|  apr|     113|       2|   -1|       0| unknown|   no|     3.0|                0.0|           0.0|         0.0|       642.0|         0.0|      0.0|         0.0|       5.0|          0.0|       0.0|\n",
      "| 36|   technician|       married| tertiary|     no|   1109|     no|  no|cellular| 13|  aug|     328|       2|   -1|       0| unknown|   no|     2.0|                0.0|           1.0|         0.0|      1591.0|         1.0|      0.0|         0.0|       2.0|          0.0|       0.0|\n",
      "| 20|      student|        single|secondary|     no|    502|     no|  no|cellular| 30|  apr|     261|       1|   -1|       0| unknown|  yes|    10.0|                1.0|           0.0|         0.0|       207.0|         1.0|      0.0|         0.0|       5.0|          0.0|       1.0|\n",
      "| 31|  blue-collar|       married|secondary|     no|    360|    yes| yes|cellular| 29|  jan|      89|       1|  241|       1| failure|   no|     1.0|                0.0|           0.0|         0.0|        56.0|         0.0|      1.0|         0.0|       7.0|          1.0|       0.0|\n",
      "| 40|   management|       married| tertiary|     no|    194|     no| yes|cellular| 29|  aug|     189|       2|   -1|       0| unknown|   no|     0.0|                0.0|           1.0|         0.0|       710.0|         1.0|      1.0|         0.0|       2.0|          0.0|       0.0|\n",
      "| 56|   technician|       married|secondary|     no|   4073|     no|  no|cellular| 27|  aug|     239|       5|   -1|       0| unknown|   no|     2.0|                0.0|           0.0|         0.0|      1779.0|         1.0|      0.0|         0.0|       2.0|          0.0|       0.0|\n",
      "| 37|       admin.|        single| tertiary|     no|   2317|    yes|  no|cellular| 20|  apr|     114|       1|  152|       2| failure|   no|     3.0|                1.0|           1.0|         0.0|      1336.0|         0.0|      0.0|         0.0|       5.0|          1.0|       0.0|\n",
      "| 25|  blue-collar|        single|  primary|     no|      0|    yes|  no| unknown| 23|  may|     250|       1|   -1|       0| unknown|   no|     1.0|                1.0|           2.0|         0.0|         0.0|         0.0|      0.0|         1.0|       0.0|          0.0|       0.0|\n",
      "| 31|     services|       married|secondary|     no|    132|     no|  no|cellular|  7|  jul|     148|       1|  152|       1|   other|   no|     4.0|                0.0|           0.0|         0.0|        82.0|         1.0|      0.0|         0.0|       1.0|          2.0|       0.0|\n",
      "+---+-------------+--------------+---------+-------+-------+-------+----+--------+---+-----+--------+--------+-----+--------+--------+-----+--------+-------------------+--------------+------------+------------+------------+---------+------------+----------+-------------+----------+\n",
      "only showing top 20 rows\n",
      "\n"
     ]
    }
   ],
   "source": [
    "from pyspark.ml.feature import StringIndexer\n",
    "for col in cat:\n",
    "    indexer = StringIndexer(inputCol=col, outputCol=col+\"Index\" )\n",
    "    indexerModel1 = indexer.fit(bankdata) \n",
    "    bankdata = indexerModel1.transform(bankdata)\n",
    "    bankdata.show(5)"
   ]
  },
  {
   "cell_type": "code",
   "execution_count": 65,
   "metadata": {},
   "outputs": [
    {
     "name": "stdout",
     "output_type": "stream",
     "text": [
      "+---+----------+--------------+---------+-------+-------+-------+----+--------+---+-----+--------+--------+-----+--------+--------+-----+--------+-------------------+--------------+------------+------------+------------+---------+------------+----------+-------------+----------+\n",
      "|age|       job|marital_status|education|default|balance|housing|loan| contact|day|month|duration|campaign|pdays|previous|poutcome|label|jobIndex|marital_statusIndex|educationIndex|defaultIndex|balanceIndex|housingIndex|loanIndex|contactIndex|monthIndex|poutcomeIndex|labelIndex|\n",
      "+---+----------+--------------+---------+-------+-------+-------+----+--------+---+-----+--------+--------+-----+--------+--------+-----+--------+-------------------+--------------+------------+------------+------------+---------+------------+----------+-------------+----------+\n",
      "| 30|unemployed|       married|  primary|     no|   1787|     no|  no|cellular| 19|  oct|      79|       1|   -1|       0| unknown|   no|     8.0|                0.0|           2.0|         0.0|       520.0|         1.0|      0.0|         0.0|       8.0|          0.0|       0.0|\n",
      "+---+----------+--------------+---------+-------+-------+-------+----+--------+---+-----+--------+--------+-----+--------+--------+-----+--------+-------------------+--------------+------------+------------+------------+---------+------------+----------+-------------+----------+\n",
      "only showing top 1 row\n",
      "\n"
     ]
    }
   ],
   "source": [
    "  bankdata.show(1)"
   ]
  },
  {
   "cell_type": "code",
   "execution_count": null,
   "metadata": {},
   "outputs": [],
   "source": []
  }
 ],
 "metadata": {
  "kernelspec": {
   "display_name": "Python 2",
   "language": "python",
   "name": "python2"
  },
  "language_info": {
   "codemirror_mode": {
    "name": "ipython",
    "version": 2
   },
   "file_extension": ".py",
   "mimetype": "text/x-python",
   "name": "python",
   "nbconvert_exporter": "python",
   "pygments_lexer": "ipython2",
   "version": "2.7.5"
  }
 },
 "nbformat": 4,
 "nbformat_minor": 2
}
