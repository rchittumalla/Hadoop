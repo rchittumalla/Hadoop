{
 "cells": [
  {
   "cell_type": "markdown",
   "metadata": {},
   "source": [
    "# Graph Analysis using Spark - GraphFrames\n",
    "\n",
    "#### Graphs are data structures composed of nodes, or vertices, which are arbitrary objects, and edges that define relationships between these nodes. \n",
    "\n",
    "#### Graph analytics is the process of analyzing these relationships.\n",
    "\n",
    "An example graph might be your friend group. \n",
    "<br>In the context of graph analytics, each vertex or node would represent a person, and each edge would represent a relationship.\n",
    "\n",
    "#### Edges and vertices in graphs can also have data associated with them.\n",
    "\n",
    "In our friend example, the weight of the edge might represent the intimacy between different friends; \n",
    "<br>acquaintances would have low-weight edges between them, \n",
    "<br>while married individuals would have edges with large weights. \n",
    "<br>We could set this value by looking at communication frequency between nodes and weighting the edges accordingly. \n",
    "<br>Each vertex (person) might also have data such as a name.\n",
    "\n",
    "#### Graphs are a natural way of describing relationships and many different problem sets.\n",
    "\n",
    "#### Some business use cases could be\n",
    "Fraud Detection & Analytics - Spot Fraud Rings in Their Tracks\n",
    "<br>motif finding.\n",
    "<br>Determining importance of papers in bibliographic networks (i.e., which papers are most referenced).\n",
    "<br>Ranking web pages, as Google famously used the PageRank algorithm to do.\n",
    "<br>Identity & Access Management - Track Roles, Groups and Assets like Never Before.\n",
    "<br>Knowledge Graph - Augment Your Knowledge Graph with Highly Contextual Search Results.\n",
    "<br>Master Data Management - Graphs Provide a 360° View of Your Data.\n",
    "<br>Network and Database Infrastructure Monitoring for IT Operationss - Manage and Monitor Complex Networks with Real-Time Insights.\n",
    "<br> And Many more ...."
   ]
  },
  {
   "cell_type": "markdown",
   "metadata": {},
   "source": [
    "### SPARK GraphX and GraphFrames\n",
    "Spark provides several ways of working in this analytics paradigm.\n",
    "<br>Spark has long contained an RDD-based library for performing graph processing: GraphX.\n",
    "<br>This provided a very low-level interface that was extremely powerful, but just like RDDs, wasn’t easy to use or optimize.\n",
    "<br>GraphX remains a core part of Spark.\n",
    "<br>Developers of Spark, have recently created a next-generation graph analytics library on Spark: GraphFrames.\n",
    "<br>GraphFrames extends GraphX to provide a DataFrame API and support for Spark’s different language bindings,\n",
    "<br>so that users of Python can take advantage of the scalability of the tool.\n",
    "\n",
    "<br>**GraphFrames** is currently available as a Spark package, \n",
    "<br>an external package that you need to load when you start up your Spark application, \n",
    "<br>but may be merged into the core of Spark in the future.\n",
    "\n",
    "<br>**HOW DOES GRAPHFRAMES COMPARE TO GRAPH DATABASES?**\n",
    "<br>Spark is not a database.\n",
    "<br>Spark is a distributed computation engine, but it does not store data long-term or perform transactions.\n",
    "<br>You can build a graph computation on top of Spark, but that’s fundamentally different from a database.\n",
    "<br>GraphFrames can scale to much larger workloads than many graph databases and \n",
    "<br>performs well for analytics but does not support transactional processing and serving."
   ]
  },
  {
   "cell_type": "markdown",
   "metadata": {},
   "source": [
    "Before initiating the jupyter notebook, pass external dependencies to the pyspark kernel\n",
    "<br>export PACKAGES=\"graphframes:graphframes:0.5.0-spark2.1-s_2.11\"\n",
    "<br>export PYSPARK_SUBMIT_ARGS=\"--packages ${PACKAGES} pyspark-shell\""
   ]
  },
  {
   "cell_type": "markdown",
   "metadata": {},
   "source": [
    "## Problem Statement\n",
    "There are two datasets airports.dat (Data about all the airports) and departureDelays.csv (trips delayed at the departure) obtained from OpenFlights and US DoT.\n",
    "\n",
    "** Analyze these datasets by**\n",
    "<br>Creating a graph structure using airports and departure delays data where\n",
    "each airport as a node and trips between two airports as edge/relation/connections.\n",
    "\n",
    "Upon building the graph structure, analyze the graph to find\n",
    "<br>1. Delayed vs On-Time flights\n",
    "<br>2. What flights departing from a specific location are most likely to have significant delays?\n",
    "<br>3. What destinations tend to have delays?\n",
    "<br>4. What destinations tend to have significant delays departing from a specific location?\n",
    "<br>5. Degree wise (InDegree, OutDegree) analysis.\n",
    "<br>6. Motif Findings.\n",
    "<br>7. Determine the influential airports using PageRank.\n",
    "<br>8. Find most popular trips.\n",
    "<br>9. Find transfer cities/hubs.\n",
    "<br>10. Use Breadth First Search to find the connections between two cities with 1 Hop, 2 Hops...\n",
    "<br>11. Visualizations on On-Time/Early vs Delayed, Delayed from West Coast originated flights, All Flights etc."
   ]
  },
  {
   "cell_type": "markdown",
   "metadata": {},
   "source": [
    "### Dataset Descriptions\n",
    "#### Airports data - airports.dat - \n",
    "#### OpenFlights: Airport, airline and route data : https://openflights.org/data.html\n",
    "<br>**Airport ID** Unique OpenFlights identifier for this airport.  \n",
    "<br>**Name** Name of airport. May or may not contain the City name. \n",
    "<br>**City** Main city served by airport. May be spelled differently from Name. \n",
    "<br>**Country** Country or territory where airport is located. See countries.dat to cross-reference to ISO 3166-1 codes.  \n",
    "<br>**IATA** 3-letter IATA code. Null if not assigned/unknown. \n",
    "<br>**ICAO** 4-letter ICAO code - Null if not assigned. \n",
    "<br>**Latitude** Decimal degrees, usually to six significant digits. Negative is South, positive is North. \n",
    "<br>**Longitude** Decimal degrees, usually to six significant digits. Negative is West, positive is East. \n",
    "<br>**Altitude** In feet. \n",
    "<br>**Timezone** Hours offset from UTC. Fractional hours are expressed as decimals, eg. India is 5.5. \n",
    "<br>**DST** Daylight savings time. \n",
    "<br>One of E (Europe), A (US/Canada), S (South America), O (Australia), Z (New Zealand), N (None) or U (Unknown). \n",
    "<br>See also: Help: Time  \n",
    "<br>**Tz database time zone** Timezone in \"tz\" (Olson) format, eg. \"America/Los_Angeles\".  \n",
    "<br>**Type** Type of the airport. \n",
    "<br>Value \"airport\" for air terminals, \n",
    "<br>\"station\" for train stations, \n",
    "<br>\"port\" for ferry terminals and \n",
    "<br>\"unknown\" if not known. \n",
    "<br>In airports.csv, only type=airport is included.  \n",
    "<br>**Source** Source of this data. \n",
    "<br>\"OurAirports\" for data sourced from OurAirports, \n",
    "<br>\"Legacy\" for old data not matched to OurAirports (mostly DAFIF), \n",
    "<br>\"User\" for unverified user contributions. \n",
    "<br>In airports.csv, only source=OurAirports is included.  \n",
    "\n",
    "The data is UTF-8 (Unicode) encoded.\n"
   ]
  },
  {
   "cell_type": "markdown",
   "metadata": {},
   "source": [
    "#### Departure Delays Data - departureDelays.csv \n",
    "#### Source: United States Department of Transportation: Bureau of Transportation Statistics (TranStats)\n",
    "#### https://www.transtats.bts.gov/DL_SelectFields.asp?Table_ID=236&DB_Short_Name=On-Time \n",
    "#### April 2018 Data\n",
    "\n",
    "<br>**flightDate** Flight Date (yyyymmdd) \n",
    "<br>**originAirportID** Origin Airport, Airport ID. An identification number assigned by US DOT to identify a unique airport.\n",
    "<br>**origin** Origin Airport.\n",
    "<br>**originCity** Origin Airport, City Name.\n",
    "<br>**originState** Origin Aiport, State Code.\n",
    "<br>**destAirportID** Destination Airport, Airport ID. An identification number assigned by US DOT to identify a unique airport.\n",
    "<br>**destination** Destination Airport.\n",
    "<br>**destinationCity** Destination Airport, City Name.\n",
    "<br>**destinationState** Destination Airport, State Code.\n",
    "<br>**depDelayInMinutes** Difference in minutes between scheduled and actual departure time. Early departures set to 0.\n",
    "<br>**distanceInMiles** Distance between Airports (in miles)"
   ]
  },
  {
   "cell_type": "markdown",
   "metadata": {},
   "source": [
    "#### Configure Spark Environment"
   ]
  },
  {
   "cell_type": "code",
   "execution_count": 1,
   "metadata": {},
   "outputs": [],
   "source": [
    "## Set Python - Spark environment.\n",
    "import os\n",
    "import sys\n",
    "os.environ[\"SPARK_HOME\"] = \"/usr/hdp/current/spark2-client\"\n",
    "os.environ[\"PYLIB\"] = os.environ[\"SPARK_HOME\"] + \"/python/lib\"\n",
    "sys.path.insert(0, os.environ[\"PYLIB\"] + \"/py4j-0.10.6-src.zip\")\n",
    "sys.path.insert(0, os.environ[\"PYLIB\"] + \"/pyspark.zip\")"
   ]
  },
  {
   "cell_type": "markdown",
   "metadata": {},
   "source": [
    "#### Create and Initialize Spark Driver"
   ]
  },
  {
   "cell_type": "code",
   "execution_count": 2,
   "metadata": {},
   "outputs": [],
   "source": [
    "## Create SparkContext, SparkSession\n",
    "from os.path import expanduser, join, abspath\n",
    "\n",
    "from pyspark.sql import SparkSession\n",
    "from pyspark.sql import Row\n",
    "from pyspark import SparkContext\n",
    "sc = SparkContext()\n",
    "\n",
    "# warehouse_location points to the default location for managed databases and tables\n",
    "warehouse_location = 'hdfs:///apps/hive/warehouse/'\n",
    "\n",
    "spark = SparkSession \\\n",
    "    .builder \\\n",
    "    .appName(\"Spark Machine Learning Example\") \\\n",
    "    .config(\"spark.sql.warehouse.dir\", warehouse_location) \\\n",
    "    .enableHiveSupport() \\\n",
    "    .getOrCreate()"
   ]
  },
  {
   "cell_type": "markdown",
   "metadata": {},
   "source": [
    "#### Verify Spark Driver - Spark Context and Spark Sessions"
   ]
  },
  {
   "cell_type": "code",
   "execution_count": 3,
   "metadata": {},
   "outputs": [
    {
     "data": {
      "text/html": [
       "\n",
       "        <div>\n",
       "            <p><b>SparkContext</b></p>\n",
       "\n",
       "            <p><a href=\"http://v.insofe.edu.in:4041\">Spark UI</a></p>\n",
       "\n",
       "            <dl>\n",
       "              <dt>Version</dt>\n",
       "                <dd><code>v2.3.0.2.6.5.0-292</code></dd>\n",
       "              <dt>Master</dt>\n",
       "                <dd><code>local[*]</code></dd>\n",
       "              <dt>AppName</dt>\n",
       "                <dd><code>pyspark-shell</code></dd>\n",
       "            </dl>\n",
       "        </div>\n",
       "        "
      ],
      "text/plain": [
       "<SparkContext master=local[*] appName=pyspark-shell>"
      ]
     },
     "execution_count": 3,
     "metadata": {},
     "output_type": "execute_result"
    }
   ],
   "source": [
    "## Verify Spark Context\n",
    "sc"
   ]
  },
  {
   "cell_type": "code",
   "execution_count": 4,
   "metadata": {
    "scrolled": true
   },
   "outputs": [
    {
     "data": {
      "text/html": [
       "\n",
       "            <div>\n",
       "                <p><b>SparkSession - hive</b></p>\n",
       "                \n",
       "        <div>\n",
       "            <p><b>SparkContext</b></p>\n",
       "\n",
       "            <p><a href=\"http://v.insofe.edu.in:4041\">Spark UI</a></p>\n",
       "\n",
       "            <dl>\n",
       "              <dt>Version</dt>\n",
       "                <dd><code>v2.3.0.2.6.5.0-292</code></dd>\n",
       "              <dt>Master</dt>\n",
       "                <dd><code>local[*]</code></dd>\n",
       "              <dt>AppName</dt>\n",
       "                <dd><code>pyspark-shell</code></dd>\n",
       "            </dl>\n",
       "        </div>\n",
       "        \n",
       "            </div>\n",
       "        "
      ],
      "text/plain": [
       "<pyspark.sql.session.SparkSession at 0x2b9fe10>"
      ]
     },
     "execution_count": 4,
     "metadata": {},
     "output_type": "execute_result"
    }
   ],
   "source": [
    "## Verify Spark Session\n",
    "spark"
   ]
  },
  {
   "cell_type": "markdown",
   "metadata": {},
   "source": [
    "#### Load Dependent Libraries"
   ]
  },
  {
   "cell_type": "markdown",
   "metadata": {},
   "source": [
    "#### Spark libraries"
   ]
  },
  {
   "cell_type": "code",
   "execution_count": 5,
   "metadata": {},
   "outputs": [],
   "source": [
    "from pyspark.sql.types import *\n",
    "from pyspark.sql.functions import *\n",
    "from graphframes import *"
   ]
  },
  {
   "cell_type": "code",
   "execution_count": 6,
   "metadata": {},
   "outputs": [],
   "source": [
    "import numpy as np\n",
    "import StringIO\n",
    "import pandas as pd\n",
    "import warnings"
   ]
  },
  {
   "cell_type": "code",
   "execution_count": 7,
   "metadata": {},
   "outputs": [
    {
     "data": {
      "text/html": [
       "<script>requirejs.config({paths: { 'plotly': ['https://cdn.plot.ly/plotly-latest.min']},});if(!window.Plotly) {{require(['plotly'],function(plotly) {window.Plotly=plotly;});}}</script>"
      ],
      "text/vnd.plotly.v1+html": [
       "<script>requirejs.config({paths: { 'plotly': ['https://cdn.plot.ly/plotly-latest.min']},});if(!window.Plotly) {{require(['plotly'],function(plotly) {window.Plotly=plotly;});}}</script>"
      ]
     },
     "metadata": {},
     "output_type": "display_data"
    }
   ],
   "source": [
    "# Plotting libraries\n",
    "import matplotlib.pyplot as plt\n",
    "import seaborn as sns\n",
    "\n",
    "import plotly\n",
    "plotly.tools.set_credentials_file(username='jmulmoodi', api_key='01MhmVVn87V5Fn7oN37k')\n",
    "\n",
    "import plotly.figure_factory as ff\n",
    "import plotly.plotly as py\n",
    "import plotly.offline as pyoff\n",
    "import plotly.graph_objs as go\n",
    "\n",
    "# Initializing some settings\n",
    "sns.set_style('whitegrid')\n",
    "sns.set(color_codes=True)\n",
    "warnings.filterwarnings('ignore')\n",
    "pyoff.init_notebook_mode(connected=True)\n",
    "get_ipython().magic('matplotlib inline')"
   ]
  },
  {
   "cell_type": "markdown",
   "metadata": {},
   "source": [
    "#### Create dataframes from the 2 datasets."
   ]
  },
  {
   "cell_type": "markdown",
   "metadata": {},
   "source": [
    "#### Set file paths"
   ]
  },
  {
   "cell_type": "code",
   "execution_count": 8,
   "metadata": {},
   "outputs": [],
   "source": [
    "#tripdelaysFilePath = \"file:///home/rameshm/Datasets/flightDelays/Data/DepartureDelays/departureDelays.csv\"\n",
    "#airportsnaFilePath = \"file:///home/rameshm/Datasets/flightDelays/Data/Airports/airports.dat\"\n",
    "tripdelaysFilePath = \"/user/rameshm/datasets/flightData/DepartureDelays/departureDelays.csv\"\n",
    "airportsnaFilePath = \"/user/rameshm/datasets/flightData/Airports/airports.dat\""
   ]
  },
  {
   "cell_type": "markdown",
   "metadata": {},
   "source": [
    "#### Define schema for airports data"
   ]
  },
  {
   "cell_type": "code",
   "execution_count": 9,
   "metadata": {},
   "outputs": [],
   "source": [
    "airportsDataSchema = StructType([\n",
    "         StructField(\"airportID\", IntegerType(), True),\n",
    "         StructField(\"airportName\", StringType(), True),\n",
    "         StructField(\"city\", StringType(), True),\n",
    "         StructField(\"country\", StringType(), True),\n",
    "         StructField(\"IATA\", StringType(), True),\n",
    "         StructField(\"ICAO\", StringType(), True),\n",
    "         StructField(\"latitude\", DoubleType(), True),\n",
    "         StructField(\"longitude\", DoubleType(), True),        \n",
    "         StructField(\"altitude\", IntegerType(), True),\n",
    "         StructField(\"timezone\", IntegerType(), True),\n",
    "         StructField(\"dst\", StringType(), True),\n",
    "         StructField(\"tzDBTimezone\", StringType(), True),\n",
    "         StructField(\"type\", StringType(), True),\n",
    "         StructField(\"source\", StringType(), True)])"
   ]
  },
  {
   "cell_type": "markdown",
   "metadata": {},
   "source": [
    "#### Create dataframe from airports dataset"
   ]
  },
  {
   "cell_type": "code",
   "execution_count": 10,
   "metadata": {
    "scrolled": true
   },
   "outputs": [],
   "source": [
    "airportsDF = spark.read.format(\"csv\")\\\n",
    "            .option(\"header\", \"false\")\\\n",
    "            .option(\"inferSchema\", \"true\")\\\n",
    "            .load(airportsnaFilePath, schema = airportsDataSchema)"
   ]
  },
  {
   "cell_type": "markdown",
   "metadata": {},
   "source": [
    "#### Verify counts"
   ]
  },
  {
   "cell_type": "code",
   "execution_count": 11,
   "metadata": {
    "scrolled": true
   },
   "outputs": [
    {
     "name": "stdout",
     "output_type": "stream",
     "text": [
      "Rows and columns in Airports dataset are 7184 and 14\n"
     ]
    }
   ],
   "source": [
    "print(\"Rows and columns in Airports dataset are {} and {}\".\n",
    "      format(airportsDF.count(), len(airportsDF.columns)))"
   ]
  },
  {
   "cell_type": "markdown",
   "metadata": {},
   "source": [
    "#### Verify records"
   ]
  },
  {
   "cell_type": "code",
   "execution_count": 12,
   "metadata": {
    "scrolled": true
   },
   "outputs": [
    {
     "name": "stdout",
     "output_type": "stream",
     "text": [
      "+---------+--------------------+-----------+----------------+----+----+------------------+------------------+--------+--------+---+--------------------+-------+-----------+\n",
      "|airportID|         airportName|       city|         country|IATA|ICAO|          latitude|         longitude|altitude|timezone|dst|        tzDBTimezone|   type|     source|\n",
      "+---------+--------------------+-----------+----------------+----+----+------------------+------------------+--------+--------+---+--------------------+-------+-----------+\n",
      "|        1|      Goroka Airport|     Goroka|Papua New Guinea| GKA|AYGA|-6.081689834590001|     145.391998291|    5282|      10|  U|Pacific/Port_Moresby|airport|OurAirports|\n",
      "|        2|      Madang Airport|     Madang|Papua New Guinea| MAG|AYMD|    -5.20707988739|     145.789001465|      20|      10|  U|Pacific/Port_Moresby|airport|OurAirports|\n",
      "|        3|Mount Hagen Kagam...|Mount Hagen|Papua New Guinea| HGU|AYMH|-5.826789855957031|144.29600524902344|    5388|      10|  U|Pacific/Port_Moresby|airport|OurAirports|\n",
      "|        4|      Nadzab Airport|     Nadzab|Papua New Guinea| LAE|AYNZ|         -6.569803|        146.725977|     239|      10|  U|Pacific/Port_Moresby|airport|OurAirports|\n",
      "+---------+--------------------+-----------+----------------+----+----+------------------+------------------+--------+--------+---+--------------------+-------+-----------+\n",
      "only showing top 4 rows\n",
      "\n"
     ]
    }
   ],
   "source": [
    "airportsDF.show(4)"
   ]
  },
  {
   "cell_type": "markdown",
   "metadata": {},
   "source": [
    "#### Define schema for departure Delays data"
   ]
  },
  {
   "cell_type": "code",
   "execution_count": 13,
   "metadata": {},
   "outputs": [],
   "source": [
    "departureDelaysSchema = StructType([\n",
    "         StructField(\"flightDate\", StringType(), True),\n",
    "         StructField(\"originAirportID\", IntegerType(), True),\n",
    "         StructField(\"origin\", StringType(), True),\n",
    "         StructField(\"originCity\", StringType(), True),\n",
    "         StructField(\"originState\", StringType(), True),\n",
    "         StructField(\"destAirportID\", IntegerType(), True),\n",
    "         StructField(\"destination\", StringType(), True),\n",
    "         StructField(\"destinationCity\", StringType(), True),\n",
    "         StructField(\"destinationState\", StringType(), True),\n",
    "         StructField(\"depDelayInMinutes\", DoubleType(), True),        \n",
    "         StructField(\"distanceInMiles\", DoubleType(), True)])"
   ]
  },
  {
   "cell_type": "markdown",
   "metadata": {},
   "source": [
    "#### Create dataframe from departureDelays dataset"
   ]
  },
  {
   "cell_type": "code",
   "execution_count": 14,
   "metadata": {},
   "outputs": [],
   "source": [
    "departureDelaysDF = spark.read.format(\"csv\")\\\n",
    "                    .option(\"header\", \"false\")\\\n",
    "                    .option(\"inferSchema\", \"true\")\\\n",
    "                    .load(tripdelaysFilePath, schema = departureDelaysSchema)"
   ]
  },
  {
   "cell_type": "code",
   "execution_count": 15,
   "metadata": {},
   "outputs": [
    {
     "name": "stdout",
     "output_type": "stream",
     "text": [
      "Rows and columns in Airports dataset are 596046 and 11\n"
     ]
    }
   ],
   "source": [
    "print(\"Rows and columns in Airports dataset are {} and {}\".\n",
    "      format(departureDelaysDF.count(), len(departureDelaysDF.columns)))"
   ]
  },
  {
   "cell_type": "markdown",
   "metadata": {},
   "source": [
    "#### Cache departure delays dataframe"
   ]
  },
  {
   "cell_type": "code",
   "execution_count": 16,
   "metadata": {},
   "outputs": [
    {
     "data": {
      "text/plain": [
       "DataFrame[flightDate: string, originAirportID: int, origin: string, originCity: string, originState: string, destAirportID: int, destination: string, destinationCity: string, destinationState: string, depDelayInMinutes: double, distanceInMiles: double]"
      ]
     },
     "execution_count": 16,
     "metadata": {},
     "output_type": "execute_result"
    }
   ],
   "source": [
    "departureDelaysDF.cache()"
   ]
  },
  {
   "cell_type": "code",
   "execution_count": 17,
   "metadata": {},
   "outputs": [
    {
     "name": "stdout",
     "output_type": "stream",
     "text": [
      "+----------+---------------+------+----------------+-----------+-------------+-----------+---------------+----------------+-----------------+---------------+\n",
      "|flightDate|originAirportID|origin|      originCity|originState|destAirportID|destination|destinationCity|destinationState|depDelayInMinutes|distanceInMiles|\n",
      "+----------+---------------+------+----------------+-----------+-------------+-----------+---------------+----------------+-----------------+---------------+\n",
      "|2018-04-01|          12266|   IAH|     Houston, TX|         TX|        10747|        BRO|Brownsville, TX|              TX|              0.0|          308.0|\n",
      "|2018-04-01|          12915|   LCH|Lake Charles, LA|         LA|        12266|        IAH|    Houston, TX|              TX|              0.0|          127.0|\n",
      "|2018-04-01|          12177|   HOB|       Hobbs, NM|         NM|        12266|        IAH|    Houston, TX|              TX|              0.0|          501.0|\n",
      "|2018-04-01|          13930|   ORD|     Chicago, IL|         IL|        11423|        DSM| Des Moines, IA|              IA|              0.0|          299.0|\n",
      "+----------+---------------+------+----------------+-----------+-------------+-----------+---------------+----------------+-----------------+---------------+\n",
      "only showing top 4 rows\n",
      "\n"
     ]
    }
   ],
   "source": [
    "departureDelaysDF.show(4)"
   ]
  },
  {
   "cell_type": "markdown",
   "metadata": {},
   "source": [
    "#### Define Tables/Views for the above dataframes to execute sql queries"
   ]
  },
  {
   "cell_type": "code",
   "execution_count": 23,
   "metadata": {},
   "outputs": [],
   "source": [
    "airportsDF.createOrReplaceTempView(\"airportsDF_SQL\")\n",
    "departureDelaysDF.createOrReplaceTempView(\"departureDelaysDF_SQL\")"
   ]
  },
  {
   "cell_type": "markdown",
   "metadata": {},
   "source": [
    "As the airports dataset consists of all the airports details\n",
    "<br>Filter only the airports where there is a record/evidence exists for an airport in the trip datasets\n",
    "<br>1. Get unique airport codes (iata) combining origin and destination from the departureDelays dataset\n",
    "<br>2. Filter/Include only the airports returned from above from the airprotsDF"
   ]
  },
  {
   "cell_type": "markdown",
   "metadata": {},
   "source": [
    "#### Extract all unique IATA codes from the departure delays dataframe"
   ]
  },
  {
   "cell_type": "markdown",
   "metadata": {},
   "source": [
    "In the data the IATA codes are available in origin and destination fields\n",
    "<br>Find the unique origin codes \n",
    "<br>Find the unique destination codes\n",
    "<br>combine both the above \n",
    "<br>Find the unique/distinct set from the above"
   ]
  },
  {
   "cell_type": "code",
   "execution_count": 35,
   "metadata": {},
   "outputs": [],
   "source": [
    "uniqueIATACodes = spark.sql(\"\"\"SELECT DISTINCT iata, state FROM \n",
    "                           (SELECT DISTINCT origin AS iata, originState as state FROM departureDelaysDF_SQL\n",
    "                            UNION ALL\n",
    "                            SELECT DISTINCT destination AS iata, destinationState as state FROM departureDelaysDF_SQL)\n",
    "                            a\n",
    "                            \"\"\")"
   ]
  },
  {
   "cell_type": "code",
   "execution_count": 36,
   "metadata": {
    "scrolled": true
   },
   "outputs": [
    {
     "name": "stdout",
     "output_type": "stream",
     "text": [
      "+----+-----+\n",
      "|iata|state|\n",
      "+----+-----+\n",
      "| SJC|   CA|\n",
      "| MEI|   MS|\n",
      "| BTV|   VT|\n",
      "| ROC|   NY|\n",
      "| SAF|   NM|\n",
      "+----+-----+\n",
      "only showing top 5 rows\n",
      "\n"
     ]
    }
   ],
   "source": [
    "uniqueIATACodes.show(5)"
   ]
  },
  {
   "cell_type": "code",
   "execution_count": 37,
   "metadata": {},
   "outputs": [],
   "source": [
    "uniqueIATACodes.createOrReplaceTempView(\"uniqueIATACodes_SQL\")"
   ]
  },
  {
   "cell_type": "markdown",
   "metadata": {},
   "source": [
    "#### Filter airports exists in the above list\n",
    "Only include airports with atleast one trip from the departureDelays dataset"
   ]
  },
  {
   "cell_type": "code",
   "execution_count": 38,
   "metadata": {},
   "outputs": [],
   "source": [
    "airportsNADF = spark.sql(\"\"\"SELECT at.IATA, at.city, it.state, at.country \n",
    "                            FROM airportsDF_SQL at \n",
    "                            JOIN uniqueIATACodes_SQL it \n",
    "                            ON at.IATA = it.IATA\"\"\")"
   ]
  },
  {
   "cell_type": "code",
   "execution_count": 39,
   "metadata": {
    "scrolled": true
   },
   "outputs": [],
   "source": [
    "airportsNADF.cache()\n",
    "airportsNADF.createOrReplaceTempView(\"airportsNADF_SQL\")"
   ]
  },
  {
   "cell_type": "code",
   "execution_count": 40,
   "metadata": {
    "scrolled": true
   },
   "outputs": [
    {
     "name": "stdout",
     "output_type": "stream",
     "text": [
      "+----+----------+-----+-------------+\n",
      "|IATA|      city|state|      country|\n",
      "+----+----------+-----+-------------+\n",
      "| SJC|  San Jose|   CA|United States|\n",
      "| MEI|  Meridian|   MS|United States|\n",
      "| BTV|Burlington|   VT|United States|\n",
      "| ROC| Rochester|   NY|United States|\n",
      "+----+----------+-----+-------------+\n",
      "only showing top 4 rows\n",
      "\n"
     ]
    }
   ],
   "source": [
    "airportsNADF.show(4)"
   ]
  },
  {
   "cell_type": "markdown",
   "metadata": {},
   "source": [
    "#### Build departureDelays_imp DataFrame\n",
    "Obtain key attributes such as Date of flight, delays, distance, and airport information (Origin, Destination)"
   ]
  },
  {
   "cell_type": "code",
   "execution_count": 41,
   "metadata": {},
   "outputs": [],
   "source": [
    "departureDelays_imp = spark.sql(\"\"\"SELECT \n",
    "                                    CAST(ddt.flightDate AS STRING) AS flightDate,\n",
    "                                    CAST(ddt.depDelayInMinutes AS INT) AS departureDelayInMinutes, \n",
    "                                    CAST(ddt.distanceInMiles AS INT) AS distanceInMiles, \n",
    "                                    ddt.origin AS src, \n",
    "                                    ddt.destination AS dst, \n",
    "                                    ats.city AS src_city, \n",
    "                                    atd.city AS dst_city, \n",
    "                                    ddt.originState AS src_state, \n",
    "                                    ddt.destinationState AS dst_state \n",
    "                                    FROM departureDelaysDF_SQL ddt \n",
    "                                    JOIN airportsNADF_SQL ats \n",
    "                                    ON ats.iata = ddt.origin \n",
    "                                    JOIN airportsNADF_SQL atd \n",
    "                                    ON atd.iata = ddt.destination\"\"\")"
   ]
  },
  {
   "cell_type": "markdown",
   "metadata": {},
   "source": [
    "#### Add an unique index column (sequential number) to the above dataframe"
   ]
  },
  {
   "cell_type": "code",
   "execution_count": 42,
   "metadata": {},
   "outputs": [],
   "source": [
    "# Modified Schema\n",
    "schemaNew  = StructType([StructField(\"tripId\", LongType(), False)] \n",
    "                        + departureDelays_imp.schema.fields[:])"
   ]
  },
  {
   "cell_type": "code",
   "execution_count": 27,
   "metadata": {},
   "outputs": [],
   "source": [
    "### from pyspark.sql.functions import monotonicallyIncreasingId\n",
    "### This will return a new DF with all the columns + id\n",
    "\n",
    "### * Returns monotonically increasing 64-bit integers.\n",
    "### *\n",
    "### * The generated ID is guaranteed to be monotonically increasing and unique, but not consecutive.\n",
    "### * The current implementation puts the partition ID in the upper 31 bits, and the lower 33 bits represent the \n",
    "### * record number within each partition. The assumption is that the data frame has less than 1 billion partitions, \n",
    "### * and each partition has less than 8 billion records.\n",
    "###\n",
    "### departureDelays_imp = departureDelays_imp.withColumn(\"tripId\", monotonicallyIncreasingId())"
   ]
  },
  {
   "cell_type": "code",
   "execution_count": 43,
   "metadata": {},
   "outputs": [],
   "source": [
    "departureDelays_imp = (departureDelays_imp.rdd.zipWithIndex().map(lambda line: \n",
    "(line[1], line[0][0],line[0][1],line[0][2],line[0][3],line[0][4],line[0][5],line[0][6],line[0][7],line[0][8])).toDF(schemaNew))"
   ]
  },
  {
   "cell_type": "code",
   "execution_count": 44,
   "metadata": {},
   "outputs": [],
   "source": [
    "departureDelays_imp = departureDelays_imp.fillna(0)"
   ]
  },
  {
   "cell_type": "code",
   "execution_count": 45,
   "metadata": {},
   "outputs": [],
   "source": [
    "departureDelays_imp.cache()\n",
    "departureDelays_imp.createOrReplaceTempView(\"departureDelays_imp_SQL\")"
   ]
  },
  {
   "cell_type": "code",
   "execution_count": 46,
   "metadata": {
    "scrolled": true
   },
   "outputs": [
    {
     "name": "stdout",
     "output_type": "stream",
     "text": [
      "+------+----------+-----------------------+---------------+---+---+------------+-----------+---------+---------+\n",
      "|tripId|flightDate|departureDelayInMinutes|distanceInMiles|src|dst|    src_city|   dst_city|src_state|dst_state|\n",
      "+------+----------+-----------------------+---------------+---+---+------------+-----------+---------+---------+\n",
      "|     0|2018-04-01|                      0|            308|IAH|BRO|     Houston|Brownsville|       TX|       TX|\n",
      "|     1|2018-04-01|                      0|            127|LCH|IAH|Lake Charles|    Houston|       LA|       TX|\n",
      "|     2|2018-04-01|                      0|            501|HOB|IAH|       Hobbs|    Houston|       NM|       TX|\n",
      "|     3|2018-04-01|                      0|            299|ORD|DSM|     Chicago| Des Moines|       IL|       IA|\n",
      "+------+----------+-----------------------+---------------+---+---+------------+-----------+---------+---------+\n",
      "only showing top 4 rows\n",
      "\n"
     ]
    }
   ],
   "source": [
    "departureDelays_imp.show(4)"
   ]
  },
  {
   "cell_type": "markdown",
   "metadata": {},
   "source": [
    "### Building the Graph\n",
    "<br>** Now that we've imported our data, we're going to need to build our graph. \n",
    "<br> To do so we're going to do two things. \n",
    "<br> We are going to build the structure of the vertices (or nodes) and build the structure of the edges. \n",
    "<br> What's awesome about GraphFrames is that this process is incredibly simple.\n",
    "<br> Rename IATA airport code to id in the Vertices Table\n",
    "<br> Start and End airports to src and dst for the Edges Table (flights)\n",
    "<br> These are required naming conventions for vertices and edges in GraphFrames as of the time of this writing. **\n",
    "\n",
    "<br> ** Note, ensure you have already installed the GraphFrames spark-package **"
   ]
  },
  {
   "cell_type": "code",
   "execution_count": 47,
   "metadata": {},
   "outputs": [],
   "source": [
    "from graphframes import *"
   ]
  },
  {
   "cell_type": "markdown",
   "metadata": {},
   "source": [
    "** Create Vertices (airports) and Edges (flights)\n",
    "<br> Users can create GraphFrames from vertex and edge DataFrames.\n",
    "<br> Vertex DataFrame: A vertex DataFrame should contain a special column named “id” which specifies unique IDs for each vertex in the graph.\n",
    "<br> Edge DataFrame: An edge DataFrame should contain two special columns: “src” (source vertex ID of edge) and “dst” (destination vertex ID of edge).\n",
    "<br> Both DataFrames can have arbitrary other columns. Those columns can represent vertex and edge attributes. **"
   ]
  },
  {
   "cell_type": "code",
   "execution_count": 48,
   "metadata": {},
   "outputs": [],
   "source": [
    "tripVertices = airportsNADF.withColumnRenamed(\"IATA\", \"id\").distinct()\n",
    "tripEdges = departureDelays_imp.select(\"tripId\", \"departureDelayInMinutes\", \n",
    "                                       \"distanceInMiles\", \"src\", \"dst\", \n",
    "                                       \"src_city\", \"src_state\", \"dst_city\", \"dst_state\")"
   ]
  },
  {
   "cell_type": "code",
   "execution_count": 49,
   "metadata": {
    "scrolled": true
   },
   "outputs": [
    {
     "data": {
      "text/plain": [
       "DataFrame[tripId: bigint, departureDelayInMinutes: int, distanceInMiles: int, src: string, dst: string, src_city: string, src_state: string, dst_city: string, dst_state: string]"
      ]
     },
     "execution_count": 49,
     "metadata": {},
     "output_type": "execute_result"
    }
   ],
   "source": [
    "tripVertices.cache()\n",
    "tripEdges.cache()"
   ]
  },
  {
   "cell_type": "markdown",
   "metadata": {},
   "source": [
    "#### Vertices - The vertices of our graph are the airports"
   ]
  },
  {
   "cell_type": "code",
   "execution_count": 50,
   "metadata": {
    "scrolled": true
   },
   "outputs": [
    {
     "name": "stdout",
     "output_type": "stream",
     "text": [
      "+---+----------+-----+-------------+\n",
      "| id|      city|state|      country|\n",
      "+---+----------+-----+-------------+\n",
      "|OGG|   Kahului|   HI|United States|\n",
      "|GSO|Greensboro|   NC|United States|\n",
      "|DEN|    Denver|   CO|United States|\n",
      "|CVG|Cincinnati|   KY|United States|\n",
      "+---+----------+-----+-------------+\n",
      "only showing top 4 rows\n",
      "\n"
     ]
    }
   ],
   "source": [
    "tripVertices.show(4)"
   ]
  },
  {
   "cell_type": "markdown",
   "metadata": {},
   "source": [
    "#### Edges - The edges of our graph are the flights between airports"
   ]
  },
  {
   "cell_type": "code",
   "execution_count": 51,
   "metadata": {},
   "outputs": [
    {
     "name": "stdout",
     "output_type": "stream",
     "text": [
      "+------+-----------------------+---------------+---+---+------------+---------+-----------+---------+\n",
      "|tripId|departureDelayInMinutes|distanceInMiles|src|dst|    src_city|src_state|   dst_city|dst_state|\n",
      "+------+-----------------------+---------------+---+---+------------+---------+-----------+---------+\n",
      "|     0|                      0|            308|IAH|BRO|     Houston|       TX|Brownsville|       TX|\n",
      "|     1|                      0|            127|LCH|IAH|Lake Charles|       LA|    Houston|       TX|\n",
      "|     2|                      0|            501|HOB|IAH|       Hobbs|       NM|    Houston|       TX|\n",
      "|     3|                      0|            299|ORD|DSM|     Chicago|       IL| Des Moines|       IA|\n",
      "+------+-----------------------+---------------+---+---+------------+---------+-----------+---------+\n",
      "only showing top 4 rows\n",
      "\n"
     ]
    }
   ],
   "source": [
    "tripEdges.show(4)"
   ]
  },
  {
   "cell_type": "markdown",
   "metadata": {},
   "source": [
    "#### Build **tripGraph** GraphFrame\n",
    "This GraphFrame builds up on the vertices and edges based on our trips (flights)"
   ]
  },
  {
   "cell_type": "code",
   "execution_count": 53,
   "metadata": {},
   "outputs": [
    {
     "name": "stdout",
     "output_type": "stream",
     "text": [
      "GraphFrame(v:[id: string, city: string ... 2 more fields], e:[src: string, dst: string ... 7 more fields])\n"
     ]
    }
   ],
   "source": [
    "tripGraph = GraphFrame(tripVertices, tripEdges)\n",
    "print tripGraph"
   ]
  },
  {
   "cell_type": "markdown",
   "metadata": {},
   "source": [
    "#### Build tripGraphPrime GraphFrame\n",
    "This graphframe contains a smaller subset of data to make it easier to display motifs and subgraphs (below)"
   ]
  },
  {
   "cell_type": "code",
   "execution_count": 54,
   "metadata": {},
   "outputs": [
    {
     "name": "stdout",
     "output_type": "stream",
     "text": [
      "GraphFrame(v:[id: string, city: string ... 2 more fields], e:[src: string, dst: string ... 3 more fields])\n"
     ]
    }
   ],
   "source": [
    "tripEdgesPrime = departureDelays_imp.select(\"tripId\", \"departureDelayInMinutes\",\n",
    "                                            \"distanceInMiles\", \"src\", \"dst\")\n",
    "tripGraphPrime = GraphFrame(tripVertices, tripEdgesPrime)\n",
    "print tripGraphPrime"
   ]
  },
  {
   "cell_type": "markdown",
   "metadata": {},
   "source": [
    "#### Determine the number of airports and trips"
   ]
  },
  {
   "cell_type": "code",
   "execution_count": 55,
   "metadata": {
    "scrolled": true
   },
   "outputs": [
    {
     "name": "stdout",
     "output_type": "stream",
     "text": [
      "Airports: 337 and Trips: 595766\n"
     ]
    }
   ],
   "source": [
    "print(\"Airports: {} and Trips: {}\".format(tripGraph.vertices.count(), tripGraph.edges.count()))"
   ]
  },
  {
   "cell_type": "markdown",
   "metadata": {},
   "source": [
    "#### Determining the longest delay in this dataset"
   ]
  },
  {
   "cell_type": "code",
   "execution_count": 56,
   "metadata": {
    "scrolled": true
   },
   "outputs": [
    {
     "name": "stdout",
     "output_type": "stream",
     "text": [
      "+----------------------------+\n",
      "|max(departureDelayInMinutes)|\n",
      "+----------------------------+\n",
      "|                        1659|\n",
      "+----------------------------+\n",
      "\n"
     ]
    }
   ],
   "source": [
    "longestDelay = tripGraph.edges.groupBy().max(\"departureDelayInMinutes\")\n",
    "longestDelay.show()"
   ]
  },
  {
   "cell_type": "markdown",
   "metadata": {},
   "source": [
    "#### Determining the number of delayed vs. on-time / early flights"
   ]
  },
  {
   "cell_type": "code",
   "execution_count": 57,
   "metadata": {},
   "outputs": [
    {
     "name": "stdout",
     "output_type": "stream",
     "text": [
      "On-time / Early Flights: 402635\n",
      "Delayed Flights: 193131\n"
     ]
    }
   ],
   "source": [
    "print(\"On-time / Early Flights: {}\".format(tripGraph.edges.filter(\"departureDelayInMinutes <= 0\").count()))\n",
    "print(\"Delayed Flights: {}\".format(tripGraph.edges.filter(\"departureDelayInMinutes > 0\").count()))"
   ]
  },
  {
   "cell_type": "markdown",
   "metadata": {},
   "source": [
    "#### What flights departing 'SFO' are most likely to have significant delays ?\n",
    "Note, delay can be <= 0 meaning the flight left on time or early"
   ]
  },
  {
   "cell_type": "code",
   "execution_count": 58,
   "metadata": {
    "scrolled": true
   },
   "outputs": [
    {
     "name": "stdout",
     "output_type": "stream",
     "text": [
      "+---+---+----------------------------+\n",
      "|src|dst|avg(departureDelayInMinutes)|\n",
      "+---+---+----------------------------+\n",
      "|SFO|MFR|           91.79166666666667|\n",
      "|SFO|TUS|           84.19354838709677|\n",
      "|SFO|SBA|           83.46511627906976|\n",
      "|SFO|OMA|           81.33333333333333|\n",
      "|SFO|EUG|                    81.21875|\n",
      "|SFO|FAT|                        80.5|\n",
      "|SFO|OKC|                        80.0|\n",
      "|SFO|SUN|                        76.0|\n",
      "|SFO|GEG|           74.61538461538461|\n",
      "|SFO|BFL|           65.53846153846153|\n",
      "|SFO|MIA|           61.84444444444444|\n",
      "|SFO|STS|                      56.125|\n",
      "|SFO|ABQ|                        56.0|\n",
      "|SFO|AUS|           51.27272727272727|\n",
      "|SFO|ACV|                        50.0|\n",
      "|SFO|RDD|                        50.0|\n",
      "|SFO|LIH|          49.888888888888886|\n",
      "|SFO|EWR|          48.538812785388124|\n",
      "|SFO|PSC|                        48.5|\n",
      "|SFO|RDM|          48.285714285714285|\n",
      "+---+---+----------------------------+\n",
      "only showing top 20 rows\n",
      "\n"
     ]
    }
   ],
   "source": [
    "tripGraph.edges\\\n",
    ".filter(\"src = 'SFO' AND departureDelayInMinutes > 0\")\\\n",
    ".groupBy(\"src\", \"dst\")\\\n",
    ".avg(\"departureDelayInMinutes\")\\\n",
    ".sort(desc(\"avg(departureDelayInMinutes)\")).show()"
   ]
  },
  {
   "cell_type": "markdown",
   "metadata": {},
   "source": [
    "#### What destinations tend to have delays ?"
   ]
  },
  {
   "cell_type": "code",
   "execution_count": 62,
   "metadata": {
    "scrolled": true
   },
   "outputs": [
    {
     "name": "stdout",
     "output_type": "stream",
     "text": [
      "+---------+----------------------------+\n",
      "|dst_state|avg(departureDelayInMinutes)|\n",
      "+---------+----------------------------+\n",
      "|       AZ|          29.945888216447134|\n",
      "|       SC|           35.99658469945355|\n",
      "|       LA|          33.009387572641934|\n",
      "|       MN|           49.33994184509648|\n",
      "+---------+----------------------------+\n",
      "only showing top 4 rows\n",
      "\n"
     ]
    }
   ],
   "source": [
    "tripDelays = tripGraph.edges.filter(\"departureDelayInMinutes > 0\")\\\n",
    ".groupBy(\"dst_state\")\\\n",
    ".avg(\"departureDelayInMinutes\")\n",
    "\n",
    "tripDelays.show(4)"
   ]
  },
  {
   "cell_type": "code",
   "execution_count": 63,
   "metadata": {},
   "outputs": [
    {
     "data": {
      "text/html": [
       "<div>\n",
       "<style>\n",
       "    .dataframe thead tr:only-child th {\n",
       "        text-align: right;\n",
       "    }\n",
       "\n",
       "    .dataframe thead th {\n",
       "        text-align: left;\n",
       "    }\n",
       "\n",
       "    .dataframe tbody tr th {\n",
       "        vertical-align: top;\n",
       "    }\n",
       "</style>\n",
       "<table border=\"1\" class=\"dataframe\">\n",
       "  <thead>\n",
       "    <tr style=\"text-align: right;\">\n",
       "      <th></th>\n",
       "      <th>dst_state</th>\n",
       "      <th>avg(departureDelayInMinutes)</th>\n",
       "    </tr>\n",
       "  </thead>\n",
       "  <tbody>\n",
       "    <tr>\n",
       "      <th>0</th>\n",
       "      <td>AZ</td>\n",
       "      <td>29.945888</td>\n",
       "    </tr>\n",
       "    <tr>\n",
       "      <th>1</th>\n",
       "      <td>SC</td>\n",
       "      <td>35.996585</td>\n",
       "    </tr>\n",
       "    <tr>\n",
       "      <th>2</th>\n",
       "      <td>LA</td>\n",
       "      <td>33.009388</td>\n",
       "    </tr>\n",
       "    <tr>\n",
       "      <th>3</th>\n",
       "      <td>MN</td>\n",
       "      <td>49.339942</td>\n",
       "    </tr>\n",
       "    <tr>\n",
       "      <th>4</th>\n",
       "      <td>NJ</td>\n",
       "      <td>59.410905</td>\n",
       "    </tr>\n",
       "  </tbody>\n",
       "</table>\n",
       "</div>"
      ],
      "text/plain": [
       "  dst_state  avg(departureDelayInMinutes)\n",
       "0        AZ                     29.945888\n",
       "1        SC                     35.996585\n",
       "2        LA                     33.009388\n",
       "3        MN                     49.339942\n",
       "4        NJ                     59.410905"
      ]
     },
     "execution_count": 63,
     "metadata": {},
     "output_type": "execute_result"
    }
   ],
   "source": [
    "df = tripDelays.toPandas()\n",
    "df.head()"
   ]
  },
  {
   "cell_type": "code",
   "execution_count": 64,
   "metadata": {
    "scrolled": true
   },
   "outputs": [
    {
     "data": {
      "text/html": [
       "<iframe id=\"igraph\" scrolling=\"no\" style=\"border:none;\" seamless=\"seamless\" src=\"https://plot.ly/~rmelapu/2.embed\" height=\"525px\" width=\"100%\"></iframe>"
      ],
      "text/plain": [
       "<plotly.tools.PlotlyDisplay object>"
      ]
     },
     "execution_count": 64,
     "metadata": {},
     "output_type": "execute_result"
    }
   ],
   "source": [
    "# Refer: https://plot.ly/python/choropleth-maps/\n",
    "for col in df.columns:\n",
    "    df[col] = df[col].astype(str)\n",
    "\n",
    "scl = [[0.0, 'rgb(242,240,247)'],\n",
    "       [0.2, 'rgb(218,218,235)'],\n",
    "       [0.4, 'rgb(188,189,220)'],\n",
    "       [0.6, 'rgb(158,154,200)'],\n",
    "       [0.8, 'rgb(117,107,177)'],\n",
    "       [1.0, 'rgb(84,39,143)']]\n",
    "\n",
    "data = [ dict(\n",
    "        type='choropleth',\n",
    "        colorscale = scl,\n",
    "        autocolorscale = False,\n",
    "        locations = df['dst_state'],\n",
    "        z = df['avg(departureDelayInMinutes)'].astype(float),\n",
    "        locationmode = 'USA-states',\n",
    "        marker = dict(\n",
    "            line = dict (\n",
    "                color = 'rgb(255,255,255)',\n",
    "                width = 2\n",
    "            ) ),\n",
    "        colorbar = dict(\n",
    "            title = \"Delay in Minutes\")\n",
    "        ) ]\n",
    "\n",
    "layout = dict(\n",
    "        title = 'What destinations tend to have delays by State<br>(Hover for breakdown)',\n",
    "        geo = dict(\n",
    "            scope='usa',\n",
    "            projection=dict( type='albers usa' ),\n",
    "            showlakes = True,\n",
    "            lakecolor = 'rgb(255, 255, 255)'),\n",
    "             )\n",
    "    \n",
    "fig = dict( data=data, layout=layout )\n",
    "py.iplot( fig, filename='d3-cloropleth-map' )"
   ]
  },
  {
   "cell_type": "markdown",
   "metadata": {},
   "source": [
    "#### What destinations tend to have significant delays departing from SEA ?\n",
    "States with the longest cumulative delays (with individual delays > 100 minutes) (origin: Seattle)"
   ]
  },
  {
   "cell_type": "code",
   "execution_count": 65,
   "metadata": {
    "scrolled": false
   },
   "outputs": [
    {
     "name": "stdout",
     "output_type": "stream",
     "text": [
      "+---------+----------------------------+\n",
      "|dst_state|avg(departureDelayInMinutes)|\n",
      "+---------+----------------------------+\n",
      "|       AZ|                       151.5|\n",
      "|       MN|          461.14285714285717|\n",
      "|       NJ|                     179.625|\n",
      "|       OR|                       153.5|\n",
      "+---------+----------------------------+\n",
      "only showing top 4 rows\n",
      "\n"
     ]
    }
   ],
   "source": [
    "tripDelaysSEA = tripGraph.edges.filter(\"src = 'SEA' and departureDelayInMinutes > 100\")\\\n",
    ".groupBy(\"dst_state\")\\\n",
    ".avg(\"departureDelayInMinutes\")\n",
    "\n",
    "tripDelaysSEA.show(4)"
   ]
  },
  {
   "cell_type": "code",
   "execution_count": 66,
   "metadata": {},
   "outputs": [
    {
     "data": {
      "text/html": [
       "<div>\n",
       "<style>\n",
       "    .dataframe thead tr:only-child th {\n",
       "        text-align: right;\n",
       "    }\n",
       "\n",
       "    .dataframe thead th {\n",
       "        text-align: left;\n",
       "    }\n",
       "\n",
       "    .dataframe tbody tr th {\n",
       "        vertical-align: top;\n",
       "    }\n",
       "</style>\n",
       "<table border=\"1\" class=\"dataframe\">\n",
       "  <thead>\n",
       "    <tr style=\"text-align: right;\">\n",
       "      <th></th>\n",
       "      <th>dst_state</th>\n",
       "      <th>avg(departureDelayInMinutes)</th>\n",
       "    </tr>\n",
       "  </thead>\n",
       "  <tbody>\n",
       "    <tr>\n",
       "      <th>0</th>\n",
       "      <td>AZ</td>\n",
       "      <td>151.500000</td>\n",
       "    </tr>\n",
       "    <tr>\n",
       "      <th>1</th>\n",
       "      <td>MN</td>\n",
       "      <td>461.142857</td>\n",
       "    </tr>\n",
       "    <tr>\n",
       "      <th>2</th>\n",
       "      <td>NJ</td>\n",
       "      <td>179.625000</td>\n",
       "    </tr>\n",
       "    <tr>\n",
       "      <th>3</th>\n",
       "      <td>OR</td>\n",
       "      <td>153.500000</td>\n",
       "    </tr>\n",
       "    <tr>\n",
       "      <th>4</th>\n",
       "      <td>VA</td>\n",
       "      <td>149.333333</td>\n",
       "    </tr>\n",
       "  </tbody>\n",
       "</table>\n",
       "</div>"
      ],
      "text/plain": [
       "  dst_state  avg(departureDelayInMinutes)\n",
       "0        AZ                    151.500000\n",
       "1        MN                    461.142857\n",
       "2        NJ                    179.625000\n",
       "3        OR                    153.500000\n",
       "4        VA                    149.333333"
      ]
     },
     "execution_count": 66,
     "metadata": {},
     "output_type": "execute_result"
    }
   ],
   "source": [
    "df = tripDelaysSEA.toPandas()\n",
    "df.head()"
   ]
  },
  {
   "cell_type": "code",
   "execution_count": 68,
   "metadata": {},
   "outputs": [
    {
     "data": {
      "text/html": [
       "<iframe id=\"igraph\" scrolling=\"no\" style=\"border:none;\" seamless=\"seamless\" src=\"https://plot.ly/~rmelapu/2.embed\" height=\"525px\" width=\"100%\"></iframe>"
      ],
      "text/plain": [
       "<plotly.tools.PlotlyDisplay object>"
      ]
     },
     "execution_count": 68,
     "metadata": {},
     "output_type": "execute_result"
    }
   ],
   "source": [
    "# Refer: https://plot.ly/python/choropleth-maps/\n",
    "for col in df.columns:\n",
    "    df[col] = df[col].astype(str)\n",
    "\n",
    "scl = [[0.0, 'rgb(242,240,247)'],\n",
    "       [0.2, 'rgb(218,218,235)'],\n",
    "       [0.4, 'rgb(188,189,220)'],            \n",
    "       [0.6, 'rgb(158,154,200)'],\n",
    "       [0.8, 'rgb(117,107,177)'],\n",
    "       [1.0, 'rgb(84,39,143)']]\n",
    "\n",
    "data = [ dict(\n",
    "        type='choropleth',\n",
    "        colorscale = scl,\n",
    "        autocolorscale = False,\n",
    "        locations = df['dst_state'],\n",
    "        z = df['avg(departureDelayInMinutes)'].astype(float),\n",
    "        locationmode = 'USA-states',\n",
    "        marker = dict(\n",
    "            line = dict (\n",
    "                color = 'rgb(255,255,255)',\n",
    "                width = 2\n",
    "            ) ),\n",
    "        colorbar = dict(\n",
    "            title = \"Delay in Minutes\")\n",
    "        ) ]\n",
    "\n",
    "layout = dict(\n",
    "        title = 'What destinations tend to have significant delays departing from SEA<br>(Hover for breakdown)',\n",
    "        geo = dict(\n",
    "            scope='usa',\n",
    "            projection=dict( type='albers usa' ),\n",
    "            showlakes = True,\n",
    "            lakecolor = 'rgb(255, 255, 255)'),\n",
    "             )\n",
    "    \n",
    "fig = dict( data=data, layout=layout )\n",
    "py.iplot( fig, filename='d3-cloropleth-map' )"
   ]
  },
  {
   "cell_type": "markdown",
   "metadata": {},
   "source": [
    "#### Vertex Degrees\n",
    "<br>**inDegrees:** Incoming connections to the airport\n",
    "<br>**outDegrees:** Outgoing connections from the airport\n",
    "<br>**degrees:** Total connections to and from the airport"
   ]
  },
  {
   "cell_type": "markdown",
   "metadata": {},
   "source": [
    "#### Degree"
   ]
  },
  {
   "cell_type": "code",
   "execution_count": 69,
   "metadata": {},
   "outputs": [
    {
     "name": "stdout",
     "output_type": "stream",
     "text": [
      "+---+------+\n",
      "| id|degree|\n",
      "+---+------+\n",
      "|ATL| 65412|\n",
      "|ORD| 52871|\n",
      "|DFW| 44998|\n",
      "|CLT| 38884|\n",
      "|DEN| 37891|\n",
      "|LAX| 36564|\n",
      "|PHX| 29797|\n",
      "|SFO| 28768|\n",
      "|LGA| 28743|\n",
      "|IAH| 28134|\n",
      "|LAS| 27215|\n",
      "|DTW| 26761|\n",
      "|MSP| 26256|\n",
      "|BOS| 25286|\n",
      "|EWR| 24447|\n",
      "|MCO| 23550|\n",
      "|SEA| 22268|\n",
      "|DCA| 21756|\n",
      "|JFK| 21459|\n",
      "|PHL| 19727|\n",
      "+---+------+\n",
      "\n"
     ]
    }
   ],
   "source": [
    "# Degrees - The number of degrees - the number of incoming and outgoing connections - for various airports within this sample dataset\n",
    "tripGraphDegrees = tripGraph.degrees.sort(desc(\"degree\")).limit(20)\n",
    "tripGraphDegrees.show()"
   ]
  },
  {
   "cell_type": "code",
   "execution_count": 70,
   "metadata": {},
   "outputs": [
    {
     "data": {
      "text/html": [
       "<div>\n",
       "<style>\n",
       "    .dataframe thead tr:only-child th {\n",
       "        text-align: right;\n",
       "    }\n",
       "\n",
       "    .dataframe thead th {\n",
       "        text-align: left;\n",
       "    }\n",
       "\n",
       "    .dataframe tbody tr th {\n",
       "        vertical-align: top;\n",
       "    }\n",
       "</style>\n",
       "<table border=\"1\" class=\"dataframe\">\n",
       "  <thead>\n",
       "    <tr style=\"text-align: right;\">\n",
       "      <th></th>\n",
       "      <th>id</th>\n",
       "      <th>degree</th>\n",
       "    </tr>\n",
       "  </thead>\n",
       "  <tbody>\n",
       "    <tr>\n",
       "      <th>0</th>\n",
       "      <td>ATL</td>\n",
       "      <td>65412</td>\n",
       "    </tr>\n",
       "    <tr>\n",
       "      <th>1</th>\n",
       "      <td>ORD</td>\n",
       "      <td>52871</td>\n",
       "    </tr>\n",
       "    <tr>\n",
       "      <th>2</th>\n",
       "      <td>DFW</td>\n",
       "      <td>44998</td>\n",
       "    </tr>\n",
       "    <tr>\n",
       "      <th>3</th>\n",
       "      <td>CLT</td>\n",
       "      <td>38884</td>\n",
       "    </tr>\n",
       "    <tr>\n",
       "      <th>4</th>\n",
       "      <td>DEN</td>\n",
       "      <td>37891</td>\n",
       "    </tr>\n",
       "  </tbody>\n",
       "</table>\n",
       "</div>"
      ],
      "text/plain": [
       "    id  degree\n",
       "0  ATL   65412\n",
       "1  ORD   52871\n",
       "2  DFW   44998\n",
       "3  CLT   38884\n",
       "4  DEN   37891"
      ]
     },
     "execution_count": 70,
     "metadata": {},
     "output_type": "execute_result"
    }
   ],
   "source": [
    "df = tripGraphDegrees.toPandas()\n",
    "df.head()"
   ]
  },
  {
   "cell_type": "code",
   "execution_count": 71,
   "metadata": {
    "scrolled": true
   },
   "outputs": [
    {
     "data": {
      "text/html": [
       "<iframe id=\"igraph\" scrolling=\"no\" style=\"border:none;\" seamless=\"seamless\" src=\"https://plot.ly/~rmelapu/48.embed\" height=\"525px\" width=\"100%\"></iframe>"
      ],
      "text/plain": [
       "<plotly.tools.PlotlyDisplay object>"
      ]
     },
     "execution_count": 71,
     "metadata": {},
     "output_type": "execute_result"
    }
   ],
   "source": [
    "data = [go.Bar(x=df.id, y=df.degree)]\n",
    "layout = go.Layout(title='Degree - Top 20 - Descending Order',)\n",
    "fig = go.Figure(data=data, layout=layout)\n",
    "py.iplot(fig, filename='basic_bar1')"
   ]
  },
  {
   "cell_type": "markdown",
   "metadata": {},
   "source": [
    "#### Motif Finding\n",
    "Motifs are a way of expresssing structural patterns in a graph. \n",
    "<br>When we specify a motif, we are querying for patterns in the data instead of actual data. \n",
    "<br>In GraphFrames, we specify our query in a domain-specific language similar to Neo4J’s Cypher language. \n",
    "<br>This language lets us specify combinations of vertices and edges and assign then names. \n",
    "\n",
    "<br>For example, if we want to specify that a given vertex a connects to another vertex b through an edge ab, \n",
    "<br>we would specify (a)-[ab]->(b). \n",
    "<br>The names inside parentheses or brackets do not signify values but instead \n",
    "<br>what the columns for matching vertices and edges should be named in the resulting DataFrame. \n",
    "<br>We can omit the names (e.g., (a)-[]->()) if we do not intend to query the resulting values."
   ]
  },
  {
   "cell_type": "markdown",
   "metadata": {},
   "source": [
    "City / Flight Relationships through Motif Finding\n",
    "<br>To more easily understand the complex relationship of city airports and their flights with each other,\n",
    "<br>we can use motifs to find patterns of airports (i.e. vertices) connected by flights (i.e. edges).\n",
    "<br>The result is a DataFrame in which the column names are given by the motif keys.\n",
    "\n",
    "<br>**What delays might we blame on SFO?**\n",
    "<br>Using tripGraphPrime to more easily display\n",
    "<br>- The associated edge (ab, bc) relationships\n",
    "<br>- With the different the city / airports (a, b, c) where SFO is the connecting city (b)\n",
    "<br>- Ensuring that flight ab (i.e. the flight to SFO) occured before flight bc (i.e. flight leaving SFO)\n",
    "<br>- Note, TripID was generated based on time in the format of CCYYMMDD converted to int - Sequence Number\n",
    "<br>  -- Therefore bc.tripid < ab.tripid + 10000 means the second flight (bc) occured within approx a day of the first flight (ab)\n",
    "\n",
    "<br>**Note:** In reality, we would need to be more careful to link trips ab and bc."
   ]
  },
  {
   "cell_type": "code",
   "execution_count": 72,
   "metadata": {},
   "outputs": [],
   "source": [
    "motifs = tripGraphPrime.find(\"(a)-[ab]->(b); (b)-[bc]->(c)\")\\\n",
    "  .filter(\"(b.id = 'SFO') and (ab.departureDelayInMinutes > 500 or bc.departureDelayInMinutes > 500) and bc.tripId > ab.tripId and bc.tripId < ab.tripId + 10000\")"
   ]
  },
  {
   "cell_type": "code",
   "execution_count": 73,
   "metadata": {
    "scrolled": false
   },
   "outputs": [
    {
     "name": "stdout",
     "output_type": "stream",
     "text": [
      "+----------------------------------------+------------------------+---------------------------------------+--------------------------+---------------------------------+\n",
      "|a                                       |ab                      |b                                      |bc                        |c                                |\n",
      "+----------------------------------------+------------------------+---------------------------------------+--------------------------+---------------------------------+\n",
      "|[MSP, Minneapolis, MN, United States]   |[734, 0, 1589, MSP, SFO]|[SFO, San Francisco, CA, United States]|[2100, 700, 733, SFO, GEG]|[GEG, Spokane, WA, United States]|\n",
      "|[SNA, Santa Ana, CA, United States]     |[751, 0, 372, SNA, SFO] |[SFO, San Francisco, CA, United States]|[2100, 700, 733, SFO, GEG]|[GEG, Spokane, WA, United States]|\n",
      "|[SLC, Salt Lake City, UT, United States]|[935, 0, 599, SLC, SFO] |[SFO, San Francisco, CA, United States]|[2100, 700, 733, SFO, GEG]|[GEG, Spokane, WA, United States]|\n",
      "|[SEA, Seattle, WA, United States]       |[1278, 0, 679, SEA, SFO]|[SFO, San Francisco, CA, United States]|[2100, 700, 733, SFO, GEG]|[GEG, Spokane, WA, United States]|\n",
      "+----------------------------------------+------------------------+---------------------------------------+--------------------------+---------------------------------+\n",
      "only showing top 4 rows\n",
      "\n"
     ]
    }
   ],
   "source": [
    "motifs.show(4, truncate = False)"
   ]
  },
  {
   "cell_type": "markdown",
   "metadata": {},
   "source": [
    "### Graph Algorithms\n",
    "A graph is just a logical representation of data. \n",
    "<br>Graph theory provides numerous algorithms for analyzing data in this format, and \n",
    "<br>GraphFrames allows us to leverage many algorithms out of the box.\n",
    "<br>Development continues as new algorithms are added to GraphFrames, \n",
    "<br>so this list will most likely continue to grow."
   ]
  },
  {
   "cell_type": "markdown",
   "metadata": {},
   "source": [
    "#### PageRank\n",
    "One of the most prolific graph algorithms is PageRank.\n",
    "<br>Larry Page, cofounder of Google, created PageRank as a research project for how to rank web pages. \n",
    "\n",
    "_PageRank works by counting the number and quality of links to a page to determine a rough estimate \n",
    "of how important the website is. The underlying assumption is that more important websites are likely \n",
    "to receive more links from other websites._"
   ]
  },
  {
   "cell_type": "markdown",
   "metadata": {},
   "source": [
    "#### Determining Airport Ranking using PageRank\n",
    "<br>PageRank generalizes quite well outside of the web domain. \n",
    "<br>We can apply this right to our own data and get a sense for important airports (specifically, those that receive a lot of air traffic). \n",
    "<br>In this example, important airports will be assigned large PageRank values:\n",
    "\n",
    "<br>There are a large number of flights and connections through these various airports included in this Departure Delay Dataset.\n",
    "<br>Using the pageRank algorithm, Spark iteratively traverses the graph and determines a rough estimate of how important the airport is."
   ]
  },
  {
   "cell_type": "code",
   "execution_count": 75,
   "metadata": {},
   "outputs": [
    {
     "name": "stdout",
     "output_type": "stream",
     "text": [
      "+---+-----------------+-----+-------------+------------------+\n",
      "| id|             city|state|      country|          pagerank|\n",
      "+---+-----------------+-----+-------------+------------------+\n",
      "|ATL|          Atlanta|   GA|United States|16.915424137986847|\n",
      "|ORD|          Chicago|   IL|United States|14.685568368446031|\n",
      "|DFW|Dallas-Fort Worth|   TX|United States|13.754927110399024|\n",
      "|DEN|           Denver|   CO|United States|10.509304186339417|\n",
      "|CLT|        Charlotte|   NC|United States|10.286917907868556|\n",
      "|MSP|      Minneapolis|   MN|United States| 8.215568646758799|\n",
      "|LAX|      Los Angeles|   CA|United States| 7.999926238637892|\n",
      "|DTW|          Detroit|   MI|United States| 7.592141699315214|\n",
      "|IAH|          Houston|   TX|United States| 7.212897198095626|\n",
      "|PHX|          Phoenix|   AZ|United States| 7.114367338553403|\n",
      "|SFO|    San Francisco|   CA|United States| 6.962381254309524|\n",
      "|LAS|        Las Vegas|   NV|United States| 6.336559210687976|\n",
      "|LGA|         New York|   NY|United States| 6.233288533915264|\n",
      "|SEA|          Seattle|   WA|United States| 6.193089974702571|\n",
      "|SLC|   Salt Lake City|   UT|United States| 5.903194963550375|\n",
      "|EWR|           Newark|   NJ|United States|  5.37010668514272|\n",
      "|BOS|           Boston|   MA|United States| 5.169113129104084|\n",
      "|MCO|          Orlando|   FL|United States|5.1527057360001445|\n",
      "|DCA|       Washington|   VA|United States|4.7289094995388234|\n",
      "|JFK|         New York|   NY|United States| 4.619124332308345|\n",
      "+---+-----------------+-----+-------------+------------------+\n",
      "\n"
     ]
    }
   ],
   "source": [
    "# Determining Airport ranking of importance using `pageRank`\n",
    "ranks = tripGraph.pageRank(resetProbability=0.15, maxIter=5)\n",
    "ranksDisplay = ranks.vertices.orderBy(ranks.vertices.pagerank.desc()).limit(20)\n",
    "ranksDisplay.show()"
   ]
  },
  {
   "cell_type": "code",
   "execution_count": 76,
   "metadata": {},
   "outputs": [
    {
     "data": {
      "text/html": [
       "<div>\n",
       "<style>\n",
       "    .dataframe thead tr:only-child th {\n",
       "        text-align: right;\n",
       "    }\n",
       "\n",
       "    .dataframe thead th {\n",
       "        text-align: left;\n",
       "    }\n",
       "\n",
       "    .dataframe tbody tr th {\n",
       "        vertical-align: top;\n",
       "    }\n",
       "</style>\n",
       "<table border=\"1\" class=\"dataframe\">\n",
       "  <thead>\n",
       "    <tr style=\"text-align: right;\">\n",
       "      <th></th>\n",
       "      <th>id</th>\n",
       "      <th>city</th>\n",
       "      <th>state</th>\n",
       "      <th>country</th>\n",
       "      <th>pagerank</th>\n",
       "      <th>id_city_state</th>\n",
       "    </tr>\n",
       "  </thead>\n",
       "  <tbody>\n",
       "    <tr>\n",
       "      <th>0</th>\n",
       "      <td>ATL</td>\n",
       "      <td>Atlanta</td>\n",
       "      <td>GA</td>\n",
       "      <td>United States</td>\n",
       "      <td>16.915424</td>\n",
       "      <td>ATL, Atlanta, GA</td>\n",
       "    </tr>\n",
       "    <tr>\n",
       "      <th>1</th>\n",
       "      <td>ORD</td>\n",
       "      <td>Chicago</td>\n",
       "      <td>IL</td>\n",
       "      <td>United States</td>\n",
       "      <td>14.685568</td>\n",
       "      <td>ORD, Chicago, IL</td>\n",
       "    </tr>\n",
       "    <tr>\n",
       "      <th>2</th>\n",
       "      <td>DFW</td>\n",
       "      <td>Dallas-Fort Worth</td>\n",
       "      <td>TX</td>\n",
       "      <td>United States</td>\n",
       "      <td>13.754927</td>\n",
       "      <td>DFW, Dallas-Fort Worth, TX</td>\n",
       "    </tr>\n",
       "    <tr>\n",
       "      <th>3</th>\n",
       "      <td>DEN</td>\n",
       "      <td>Denver</td>\n",
       "      <td>CO</td>\n",
       "      <td>United States</td>\n",
       "      <td>10.509304</td>\n",
       "      <td>DEN, Denver, CO</td>\n",
       "    </tr>\n",
       "    <tr>\n",
       "      <th>4</th>\n",
       "      <td>CLT</td>\n",
       "      <td>Charlotte</td>\n",
       "      <td>NC</td>\n",
       "      <td>United States</td>\n",
       "      <td>10.286918</td>\n",
       "      <td>CLT, Charlotte, NC</td>\n",
       "    </tr>\n",
       "  </tbody>\n",
       "</table>\n",
       "</div>"
      ],
      "text/plain": [
       "    id               city state        country   pagerank  \\\n",
       "0  ATL            Atlanta    GA  United States  16.915424   \n",
       "1  ORD            Chicago    IL  United States  14.685568   \n",
       "2  DFW  Dallas-Fort Worth    TX  United States  13.754927   \n",
       "3  DEN             Denver    CO  United States  10.509304   \n",
       "4  CLT          Charlotte    NC  United States  10.286918   \n",
       "\n",
       "                id_city_state  \n",
       "0            ATL, Atlanta, GA  \n",
       "1            ORD, Chicago, IL  \n",
       "2  DFW, Dallas-Fort Worth, TX  \n",
       "3             DEN, Denver, CO  \n",
       "4          CLT, Charlotte, NC  "
      ]
     },
     "execution_count": 76,
     "metadata": {},
     "output_type": "execute_result"
    }
   ],
   "source": [
    "df = ranksDisplay.toPandas()\n",
    "df[\"id_city_state\"] = df[\"id\"].map(str) + \", \" + df[\"city\"] + \", \" + df[\"state\"]\n",
    "df.head()"
   ]
  },
  {
   "cell_type": "code",
   "execution_count": 77,
   "metadata": {
    "scrolled": true
   },
   "outputs": [
    {
     "data": {
      "text/html": [
       "<iframe id=\"igraph\" scrolling=\"no\" style=\"border:none;\" seamless=\"seamless\" src=\"https://plot.ly/~rmelapu/50.embed\" height=\"525px\" width=\"100%\"></iframe>"
      ],
      "text/plain": [
       "<plotly.tools.PlotlyDisplay object>"
      ]
     },
     "execution_count": 77,
     "metadata": {},
     "output_type": "execute_result"
    }
   ],
   "source": [
    "data = [go.Bar(x=df.id_city_state, y=df.pagerank)]\n",
    "layout = go.Layout(title='PageRank - Top 20 - Descending Order',)\n",
    "fig = go.Figure(data=data, layout=layout)\n",
    "py.iplot(fig, filename='basic_bar2')"
   ]
  },
  {
   "cell_type": "markdown",
   "metadata": {},
   "source": [
    "#### Single Hops\n",
    "Most popular flights (single city hops)\n",
    "<br>Using the tripGraph, we can quickly determine what are the most popular single city hop flights"
   ]
  },
  {
   "cell_type": "code",
   "execution_count": 78,
   "metadata": {
    "scrolled": true
   },
   "outputs": [
    {
     "name": "stdout",
     "output_type": "stream",
     "text": [
      "+---+---+-----+\n",
      "|src|dst|trips|\n",
      "+---+---+-----+\n",
      "|ORD|LGA| 1301|\n",
      "|LGA|ORD| 1300|\n",
      "|SFO|LAX| 1255|\n",
      "|LAX|SFO| 1250|\n",
      "+---+---+-----+\n",
      "only showing top 4 rows\n",
      "\n"
     ]
    }
   ],
   "source": [
    "import pyspark.sql.functions as func\n",
    "\n",
    "topTrips = tripGraph \\\n",
    "  .edges \\\n",
    "  .groupBy(\"src\", \"dst\") \\\n",
    "  .agg(func.count(\"departureDelayInMinutes\").alias(\"trips\"))\n",
    "  \n",
    "topTrips20 = topTrips.orderBy(topTrips.trips.desc()).limit(20)\n",
    "\n",
    "topTrips20.show(4)"
   ]
  },
  {
   "cell_type": "code",
   "execution_count": 79,
   "metadata": {
    "scrolled": true
   },
   "outputs": [
    {
     "data": {
      "text/html": [
       "<div>\n",
       "<style>\n",
       "    .dataframe thead tr:only-child th {\n",
       "        text-align: right;\n",
       "    }\n",
       "\n",
       "    .dataframe thead th {\n",
       "        text-align: left;\n",
       "    }\n",
       "\n",
       "    .dataframe tbody tr th {\n",
       "        vertical-align: top;\n",
       "    }\n",
       "</style>\n",
       "<table border=\"1\" class=\"dataframe\">\n",
       "  <thead>\n",
       "    <tr style=\"text-align: right;\">\n",
       "      <th></th>\n",
       "      <th>src</th>\n",
       "      <th>dst</th>\n",
       "      <th>trips</th>\n",
       "      <th>src_dst</th>\n",
       "    </tr>\n",
       "  </thead>\n",
       "  <tbody>\n",
       "    <tr>\n",
       "      <th>0</th>\n",
       "      <td>ORD</td>\n",
       "      <td>LGA</td>\n",
       "      <td>1301</td>\n",
       "      <td>ORD/LGA</td>\n",
       "    </tr>\n",
       "    <tr>\n",
       "      <th>1</th>\n",
       "      <td>LGA</td>\n",
       "      <td>ORD</td>\n",
       "      <td>1300</td>\n",
       "      <td>LGA/ORD</td>\n",
       "    </tr>\n",
       "    <tr>\n",
       "      <th>2</th>\n",
       "      <td>SFO</td>\n",
       "      <td>LAX</td>\n",
       "      <td>1255</td>\n",
       "      <td>SFO/LAX</td>\n",
       "    </tr>\n",
       "    <tr>\n",
       "      <th>3</th>\n",
       "      <td>LAX</td>\n",
       "      <td>SFO</td>\n",
       "      <td>1250</td>\n",
       "      <td>LAX/SFO</td>\n",
       "    </tr>\n",
       "    <tr>\n",
       "      <th>4</th>\n",
       "      <td>JFK</td>\n",
       "      <td>LAX</td>\n",
       "      <td>1106</td>\n",
       "      <td>JFK/LAX</td>\n",
       "    </tr>\n",
       "  </tbody>\n",
       "</table>\n",
       "</div>"
      ],
      "text/plain": [
       "   src  dst  trips  src_dst\n",
       "0  ORD  LGA   1301  ORD/LGA\n",
       "1  LGA  ORD   1300  LGA/ORD\n",
       "2  SFO  LAX   1255  SFO/LAX\n",
       "3  LAX  SFO   1250  LAX/SFO\n",
       "4  JFK  LAX   1106  JFK/LAX"
      ]
     },
     "execution_count": 79,
     "metadata": {},
     "output_type": "execute_result"
    }
   ],
   "source": [
    "df = topTrips20.toPandas()\n",
    "df[\"src_dst\"] = df[\"src\"].map(str) + \"/\" +df[\"dst\"]\n",
    "df.head()"
   ]
  },
  {
   "cell_type": "code",
   "execution_count": 80,
   "metadata": {
    "scrolled": true
   },
   "outputs": [
    {
     "data": {
      "text/html": [
       "<iframe id=\"igraph\" scrolling=\"no\" style=\"border:none;\" seamless=\"seamless\" src=\"https://plot.ly/~rmelapu/52.embed\" height=\"525px\" width=\"100%\"></iframe>"
      ],
      "text/plain": [
       "<plotly.tools.PlotlyDisplay object>"
      ]
     },
     "execution_count": 80,
     "metadata": {},
     "output_type": "execute_result"
    }
   ],
   "source": [
    "data = [go.Bar(x=df.src_dst, y=df.trips)]\n",
    "layout = go.Layout(title='Top20 - Single HOPS',)\n",
    "fig = go.Figure(data=data, layout=layout)\n",
    "py.iplot(fig, filename='basic_bar3')"
   ]
  },
  {
   "cell_type": "markdown",
   "metadata": {},
   "source": [
    "#### Transfer Cities\n",
    "Top Transfer Cities\n",
    "<br>Many airports are used as transfer points instead of the final Destination.\n",
    "<br>An easy way to calculate this is by calculating the ratio of\n",
    "<br>inDegree (the number of flights to the airport) / outDegree (the number of flights leaving the airport).\n",
    "<br>Values close to 1 may indicate many transfers, whereas\n",
    "<br>values < 1 indicate many outgoing flights and\n",
    "<br>values > 1 indicate many incoming flights.\n",
    "\n",
    "<br>**Note:** this is a simple calculation that does not take into account of timing or scheduling of flights,\n",
    "<br>just the overall aggregate number within the dataset."
   ]
  },
  {
   "cell_type": "code",
   "execution_count": 81,
   "metadata": {},
   "outputs": [],
   "source": [
    "# Calculate the inDeg (flights into the airport) and outDeg (flights leaving the airport)\n",
    "inDeg = tripGraph.inDegrees\n",
    "outDeg = tripGraph.outDegrees"
   ]
  },
  {
   "cell_type": "code",
   "execution_count": 82,
   "metadata": {},
   "outputs": [],
   "source": [
    "# Calculate the degreeRatio (inDeg/outDeg)\n",
    "degreeRatio = inDeg.join(outDeg, inDeg.id == outDeg.id) \\\n",
    "  .drop(outDeg.id) \\\n",
    "  .selectExpr(\"id\", \"double(inDegree)/double(outDegree) as degreeRatio\") \\\n",
    "  .cache()"
   ]
  },
  {
   "cell_type": "code",
   "execution_count": 83,
   "metadata": {},
   "outputs": [],
   "source": [
    "# Join back to the `airports` DataFrame (instead of registering temp table as above)\n",
    "nonTransferAirports = degreeRatio.join(airportsNADF, degreeRatio.id == airportsNADF.IATA) \\\n",
    "  .selectExpr(\"id\", \"city\", \"degreeRatio\") \\\n",
    "  .filter(\"degreeRatio < .9 or degreeRatio > 1.1\")"
   ]
  },
  {
   "cell_type": "code",
   "execution_count": 84,
   "metadata": {
    "scrolled": true
   },
   "outputs": [
    {
     "name": "stdout",
     "output_type": "stream",
     "text": [
      "+---+----+-----------+\n",
      "| id|city|degreeRatio|\n",
      "+---+----+-----------+\n",
      "+---+----+-----------+\n",
      "\n"
     ]
    }
   ],
   "source": [
    "# List out the city airports which have abnormal degree ratios.\n",
    "nonTransferAirports.show()"
   ]
  },
  {
   "cell_type": "code",
   "execution_count": 87,
   "metadata": {},
   "outputs": [],
   "source": [
    "# Join back to the `airports` DataFrame (instead of registering temp table as above)\n",
    "transferAirports = degreeRatio.join(airportsNADF, degreeRatio.id == airportsNADF.IATA) \\\n",
    "  .selectExpr(\"id\", \"city\", \"degreeRatio\") \\\n",
    "  .filter(\"degreeRatio between 0.9 and 1.1\")"
   ]
  },
  {
   "cell_type": "code",
   "execution_count": 88,
   "metadata": {},
   "outputs": [
    {
     "name": "stdout",
     "output_type": "stream",
     "text": [
      "+---+-------------+------------------+\n",
      "| id|         city|       degreeRatio|\n",
      "+---+-------------+------------------+\n",
      "|HDN|       Hayden|              0.92|\n",
      "|TWF|   Twin Falls|0.9508196721311475|\n",
      "|EGE|         Vail|0.9558823529411765|\n",
      "|KOA|         Kona|0.9748784440842788|\n",
      "|MTJ|  Montrose CO|0.9767441860465116|\n",
      "|GGG|     Longview|0.9824561403508771|\n",
      "|PUB|       Pueblo| 0.987012987012987|\n",
      "|IAG|Niagara Falls|            0.9875|\n",
      "|ERI|         Erie|0.9885057471264368|\n",
      "|HYS|         Hays|0.9887640449438202|\n",
      "|JAC|  Jacksn Hole|0.9894179894179894|\n",
      "|LBE|      Latrobe|0.9896907216494846|\n",
      "|ASE|        Aspen|0.9900744416873449|\n",
      "|ROW|      Roswell|0.9901960784313726|\n",
      "|PSC|        Pasco|0.9910714285714286|\n",
      "|HLN|       Helena|0.9912280701754386|\n",
      "|BZN|      Bozeman|0.9915254237288136|\n",
      "|AGS|   Bush Field|0.9915966386554622|\n",
      "|YUM|         Yuma|0.9916666666666667|\n",
      "|EWN|     New Bern|             0.992|\n",
      "+---+-------------+------------------+\n",
      "\n"
     ]
    }
   ],
   "source": [
    "# List out the top 20 transfer city airports\n",
    "transferAirportsDF = transferAirports.orderBy(\"degreeRatio\").limit(20)\n",
    "transferAirportsDF.show()"
   ]
  },
  {
   "cell_type": "code",
   "execution_count": 89,
   "metadata": {
    "scrolled": true
   },
   "outputs": [
    {
     "data": {
      "text/html": [
       "<div>\n",
       "<style>\n",
       "    .dataframe thead tr:only-child th {\n",
       "        text-align: right;\n",
       "    }\n",
       "\n",
       "    .dataframe thead th {\n",
       "        text-align: left;\n",
       "    }\n",
       "\n",
       "    .dataframe tbody tr th {\n",
       "        vertical-align: top;\n",
       "    }\n",
       "</style>\n",
       "<table border=\"1\" class=\"dataframe\">\n",
       "  <thead>\n",
       "    <tr style=\"text-align: right;\">\n",
       "      <th></th>\n",
       "      <th>id</th>\n",
       "      <th>city</th>\n",
       "      <th>degreeRatio</th>\n",
       "      <th>city_id</th>\n",
       "    </tr>\n",
       "  </thead>\n",
       "  <tbody>\n",
       "    <tr>\n",
       "      <th>0</th>\n",
       "      <td>HDN</td>\n",
       "      <td>Hayden</td>\n",
       "      <td>0.920000</td>\n",
       "      <td>Hayden, HDN</td>\n",
       "    </tr>\n",
       "    <tr>\n",
       "      <th>1</th>\n",
       "      <td>TWF</td>\n",
       "      <td>Twin Falls</td>\n",
       "      <td>0.950820</td>\n",
       "      <td>Twin Falls, TWF</td>\n",
       "    </tr>\n",
       "    <tr>\n",
       "      <th>2</th>\n",
       "      <td>EGE</td>\n",
       "      <td>Vail</td>\n",
       "      <td>0.955882</td>\n",
       "      <td>Vail, EGE</td>\n",
       "    </tr>\n",
       "    <tr>\n",
       "      <th>3</th>\n",
       "      <td>KOA</td>\n",
       "      <td>Kona</td>\n",
       "      <td>0.974878</td>\n",
       "      <td>Kona, KOA</td>\n",
       "    </tr>\n",
       "    <tr>\n",
       "      <th>4</th>\n",
       "      <td>MTJ</td>\n",
       "      <td>Montrose CO</td>\n",
       "      <td>0.976744</td>\n",
       "      <td>Montrose CO, MTJ</td>\n",
       "    </tr>\n",
       "  </tbody>\n",
       "</table>\n",
       "</div>"
      ],
      "text/plain": [
       "    id         city  degreeRatio           city_id\n",
       "0  HDN       Hayden     0.920000       Hayden, HDN\n",
       "1  TWF   Twin Falls     0.950820   Twin Falls, TWF\n",
       "2  EGE         Vail     0.955882         Vail, EGE\n",
       "3  KOA         Kona     0.974878         Kona, KOA\n",
       "4  MTJ  Montrose CO     0.976744  Montrose CO, MTJ"
      ]
     },
     "execution_count": 89,
     "metadata": {},
     "output_type": "execute_result"
    }
   ],
   "source": [
    "df = transferAirportsDF.toPandas()\n",
    "df[\"city_id\"] = df[\"city\"].map(str) + \", \" +df[\"id\"]\n",
    "df.head()"
   ]
  },
  {
   "cell_type": "code",
   "execution_count": 90,
   "metadata": {},
   "outputs": [
    {
     "data": {
      "text/html": [
       "<iframe id=\"igraph\" scrolling=\"no\" style=\"border:none;\" seamless=\"seamless\" src=\"https://plot.ly/~rmelapu/54.embed\" height=\"525px\" width=\"100%\"></iframe>"
      ],
      "text/plain": [
       "<plotly.tools.PlotlyDisplay object>"
      ]
     },
     "execution_count": 90,
     "metadata": {},
     "output_type": "execute_result"
    }
   ],
   "source": [
    "data = [go.Bar(x=df.city_id, y=df.degreeRatio)]\n",
    "layout = go.Layout(title='Top20 - Transfer Cities',)\n",
    "fig = go.Figure(data=data, layout=layout)\n",
    "py.iplot(fig, filename='basic_bar4')"
   ]
  },
  {
   "cell_type": "markdown",
   "metadata": {},
   "source": [
    "#### Breadth First Search\n",
    "Breadth-first search (BFS) is designed to traverse the graph to quickly find the desired vertices \n",
    "<br>(i.e. airports) and edges (i.e flights).\n",
    "<br>Let's try to find the shortest number of connections between cities based on the dataset.\n",
    "<br>**Note:** These examples do not take into account of time or distance, just hops between cities."
   ]
  },
  {
   "cell_type": "markdown",
   "metadata": {},
   "source": [
    "#### Example 1: Direct Seattle to San Francisco"
   ]
  },
  {
   "cell_type": "code",
   "execution_count": 91,
   "metadata": {
    "scrolled": true
   },
   "outputs": [
    {
     "name": "stdout",
     "output_type": "stream",
     "text": [
      "+--------------------+--------------------+--------------------+\n",
      "|                from|                  e0|                  to|\n",
      "+--------------------+--------------------+--------------------+\n",
      "|[SEA, Seattle, WA...|[1278, 0, 679, SE...|[SFO, San Francis...|\n",
      "|[SEA, Seattle, WA...|[3120, 0, 679, SE...|[SFO, San Francis...|\n",
      "|[SEA, Seattle, WA...|[3127, 0, 679, SE...|[SFO, San Francis...|\n",
      "|[SEA, Seattle, WA...|[3627, 8, 679, SE...|[SFO, San Francis...|\n",
      "|[SEA, Seattle, WA...|[3751, 0, 679, SE...|[SFO, San Francis...|\n",
      "|[SEA, Seattle, WA...|[3861, 1, 679, SE...|[SFO, San Francis...|\n",
      "|[SEA, Seattle, WA...|[4177, 0, 679, SE...|[SFO, San Francis...|\n",
      "|[SEA, Seattle, WA...|[4263, 0, 679, SE...|[SFO, San Francis...|\n",
      "|[SEA, Seattle, WA...|[11679, 38, 679, ...|[SFO, San Francis...|\n",
      "|[SEA, Seattle, WA...|[11683, 0, 679, S...|[SFO, San Francis...|\n",
      "|[SEA, Seattle, WA...|[11684, 0, 679, S...|[SFO, San Francis...|\n",
      "|[SEA, Seattle, WA...|[12147, 0, 679, S...|[SFO, San Francis...|\n",
      "|[SEA, Seattle, WA...|[12149, 0, 679, S...|[SFO, San Francis...|\n",
      "|[SEA, Seattle, WA...|[12151, 5, 679, S...|[SFO, San Francis...|\n",
      "|[SEA, Seattle, WA...|[12153, 0, 679, S...|[SFO, San Francis...|\n",
      "|[SEA, Seattle, WA...|[12154, 36, 679, ...|[SFO, San Francis...|\n",
      "|[SEA, Seattle, WA...|[12156, 1, 679, S...|[SFO, San Francis...|\n",
      "|[SEA, Seattle, WA...|[12159, 0, 679, S...|[SFO, San Francis...|\n",
      "|[SEA, Seattle, WA...|[12160, 50, 679, ...|[SFO, San Francis...|\n",
      "|[SEA, Seattle, WA...|[17119, 0, 679, S...|[SFO, San Francis...|\n",
      "+--------------------+--------------------+--------------------+\n",
      "only showing top 20 rows\n",
      "\n"
     ]
    }
   ],
   "source": [
    "filteredPaths1 = tripGraph.bfs(\n",
    "  fromExpr = \"id = 'SEA'\",\n",
    "  toExpr = \"id = 'SFO'\",\n",
    "  maxPathLength = 1)\n",
    "\n",
    "filteredPaths1.show()"
   ]
  },
  {
   "cell_type": "markdown",
   "metadata": {},
   "source": [
    "As you can see, there are a number of direct flights between Seattle and San Francisco."
   ]
  },
  {
   "cell_type": "markdown",
   "metadata": {
    "scrolled": true
   },
   "source": [
    "#### Example 2: Direct San Francisco and Buffalo"
   ]
  },
  {
   "cell_type": "code",
   "execution_count": 92,
   "metadata": {},
   "outputs": [
    {
     "name": "stdout",
     "output_type": "stream",
     "text": [
      "+---+----+-----+-------+\n",
      "| id|city|state|country|\n",
      "+---+----+-----+-------+\n",
      "+---+----+-----+-------+\n",
      "\n"
     ]
    }
   ],
   "source": [
    "filteredPaths2 = tripGraph.bfs(\n",
    "  fromExpr = \"id = 'SFO'\",\n",
    "  toExpr = \"id = 'BUF'\",\n",
    "  maxPathLength = 1)\n",
    "\n",
    "filteredPaths2.show()"
   ]
  },
  {
   "cell_type": "markdown",
   "metadata": {},
   "source": [
    "As you can see, there are no direct flights between San Francisco and Buffalo."
   ]
  },
  {
   "cell_type": "markdown",
   "metadata": {},
   "source": [
    "#### Example 3: Flying from San Francisco to Buffalo"
   ]
  },
  {
   "cell_type": "code",
   "execution_count": 93,
   "metadata": {},
   "outputs": [
    {
     "name": "stdout",
     "output_type": "stream",
     "text": [
      "+--------------------+--------------------+--------------------+--------------------+--------------------+\n",
      "|                from|                  e0|                  v1|                  e1|                  to|\n",
      "+--------------------+--------------------+--------------------+--------------------+--------------------+\n",
      "|[SFO, San Francis...|[2930, 44, 2442, ...|[DCA, Washington,...|[12834, 0, 296, D...|[BUF, Buffalo, NY...|\n",
      "|[SFO, San Francis...|[2930, 44, 2442, ...|[DCA, Washington,...|[14648, 0, 296, D...|[BUF, Buffalo, NY...|\n",
      "|[SFO, San Francis...|[2930, 44, 2442, ...|[DCA, Washington,...|[19593, 29, 296, ...|[BUF, Buffalo, NY...|\n",
      "|[SFO, San Francis...|[2930, 44, 2442, ...|[DCA, Washington,...|[28025, 1, 296, D...|[BUF, Buffalo, NY...|\n",
      "|[SFO, San Francis...|[2930, 44, 2442, ...|[DCA, Washington,...|[28053, 0, 296, D...|[BUF, Buffalo, NY...|\n",
      "|[SFO, San Francis...|[2930, 44, 2442, ...|[DCA, Washington,...|[58129, 35, 296, ...|[BUF, Buffalo, NY...|\n",
      "|[SFO, San Francis...|[2930, 44, 2442, ...|[DCA, Washington,...|[73179, 9, 296, D...|[BUF, Buffalo, NY...|\n",
      "|[SFO, San Francis...|[2930, 44, 2442, ...|[DCA, Washington,...|[88572, 0, 296, D...|[BUF, Buffalo, NY...|\n",
      "|[SFO, San Francis...|[2930, 44, 2442, ...|[DCA, Washington,...|[119314, 0, 296, ...|[BUF, Buffalo, NY...|\n",
      "|[SFO, San Francis...|[2930, 44, 2442, ...|[DCA, Washington,...|[171624, 0, 296, ...|[BUF, Buffalo, NY...|\n",
      "|[SFO, San Francis...|[2930, 44, 2442, ...|[DCA, Washington,...|[186933, 0, 296, ...|[BUF, Buffalo, NY...|\n",
      "|[SFO, San Francis...|[2930, 44, 2442, ...|[DCA, Washington,...|[212182, 0, 296, ...|[BUF, Buffalo, NY...|\n",
      "|[SFO, San Francis...|[2930, 44, 2442, ...|[DCA, Washington,...|[227571, 0, 296, ...|[BUF, Buffalo, NY...|\n",
      "|[SFO, San Francis...|[2930, 44, 2442, ...|[DCA, Washington,...|[253491, 0, 296, ...|[BUF, Buffalo, NY...|\n",
      "|[SFO, San Francis...|[2930, 44, 2442, ...|[DCA, Washington,...|[305483, 0, 296, ...|[BUF, Buffalo, NY...|\n",
      "|[SFO, San Francis...|[2930, 44, 2442, ...|[DCA, Washington,...|[336020, 0, 296, ...|[BUF, Buffalo, NY...|\n",
      "|[SFO, San Francis...|[2930, 44, 2442, ...|[DCA, Washington,...|[351077, 0, 296, ...|[BUF, Buffalo, NY...|\n",
      "|[SFO, San Francis...|[2930, 44, 2442, ...|[DCA, Washington,...|[366459, 5, 296, ...|[BUF, Buffalo, NY...|\n",
      "|[SFO, San Francis...|[2930, 44, 2442, ...|[DCA, Washington,...|[397628, 6, 296, ...|[BUF, Buffalo, NY...|\n",
      "|[SFO, San Francis...|[2930, 44, 2442, ...|[DCA, Washington,...|[449629, 0, 296, ...|[BUF, Buffalo, NY...|\n",
      "+--------------------+--------------------+--------------------+--------------------+--------------------+\n",
      "only showing top 20 rows\n",
      "\n"
     ]
    }
   ],
   "source": [
    "filteredPaths3 = tripGraph.bfs(\n",
    "  fromExpr = \"id = 'SFO'\",\n",
    "  toExpr = \"id = 'BUF'\",\n",
    "  maxPathLength = 2)\n",
    "\n",
    "filteredPaths3.show()"
   ]
  },
  {
   "cell_type": "markdown",
   "metadata": {},
   "source": [
    "As you can see, there are flights from San Francisco to Buffalo with Washington as the transfer point."
   ]
  },
  {
   "cell_type": "markdown",
   "metadata": {},
   "source": [
    "-----------------------------------------------------------------------------------------------------------------------------\n",
    "#### On-time and Early Arrivals"
   ]
  },
  {
   "cell_type": "code",
   "execution_count": 94,
   "metadata": {
    "scrolled": true
   },
   "outputs": [],
   "source": [
    "OnTime_EarlyArrivals = spark.sql(\"\"\"SELECT \n",
    "                                         src, dst AS dest, COUNT(1) AS count\n",
    "                                         FROM departureDelays_imp_SQL \n",
    "                                         WHERE departureDelayInMinutes <= 0\n",
    "                                         GROUP BY src, dst\"\"\")"
   ]
  },
  {
   "cell_type": "code",
   "execution_count": 95,
   "metadata": {
    "scrolled": true
   },
   "outputs": [
    {
     "name": "stdout",
     "output_type": "stream",
     "text": [
      "+---+----+-----+\n",
      "|src|dest|count|\n",
      "+---+----+-----+\n",
      "|STS| PHX|   19|\n",
      "|SPI| ORD|   74|\n",
      "|MCI| IAH|  133|\n",
      "|DSM| MCO|    2|\n",
      "|PHL| MCO|  254|\n",
      "|ORD| PDX|  131|\n",
      "|ATL| GSP|  207|\n",
      "|SMF| BUR|  139|\n",
      "|SNA| PHX|  232|\n",
      "|PBI| DCA|   95|\n",
      "|SJC| LIH|   26|\n",
      "|DSM| EWR|   25|\n",
      "|FSD| ATL|   28|\n",
      "|BQN| MCO|   16|\n",
      "|MCI| MKE|   31|\n",
      "|TPA| ACY|   25|\n",
      "|SHD| LWB|   24|\n",
      "|LAS| LIT|   10|\n",
      "|PBG| PGD|    5|\n",
      "|MDW| MEM|   21|\n",
      "+---+----+-----+\n",
      "only showing top 20 rows\n",
      "\n"
     ]
    }
   ],
   "source": [
    "OnTime_EarlyArrivals.show()"
   ]
  },
  {
   "cell_type": "markdown",
   "metadata": {},
   "source": [
    "#### Delayed Trips Departing from the West Coast\n",
    "Notice that most of the delayed trips are with Western US cities - Delayed Trips from CA, OR, and WA"
   ]
  },
  {
   "cell_type": "code",
   "execution_count": 96,
   "metadata": {
    "scrolled": true
   },
   "outputs": [
    {
     "name": "stdout",
     "output_type": "stream",
     "text": [
      "+---+----+-----+\n",
      "|src|dest|count|\n",
      "+---+----+-----+\n",
      "|SMF| BUR|  104|\n",
      "|SNA| PHX|  110|\n",
      "|SJC| LIH|    4|\n",
      "|STS| PHX|   11|\n",
      "|SJC| ONT|   71|\n",
      "|PSP| JFK|   15|\n",
      "|SFO| TUS|   31|\n",
      "|FAT| LAX|   48|\n",
      "|LAX| PIT|   26|\n",
      "|PSC| SLC|   12|\n",
      "|SFO| BOI|   38|\n",
      "|SMF| PHX|   83|\n",
      "|SBA| LAX|   20|\n",
      "|EUG| OAK|    6|\n",
      "|SMF| OGG|    1|\n",
      "|FAT| SAN|    8|\n",
      "|LAX| SBP|   27|\n",
      "|SEA| RNO|    5|\n",
      "|BLI| AZA|    6|\n",
      "|SBP| SFO|   30|\n",
      "+---+----+-----+\n",
      "only showing top 20 rows\n",
      "\n"
     ]
    }
   ],
   "source": [
    "Delayed_from_CA_OR_WA = spark.sql(\"\"\"SELECT \n",
    "                                     src, dst AS dest, COUNT(1) AS count \n",
    "                                     FROM departureDelays_imp_SQL \n",
    "                                     WHERE src_state in ('CA', 'OR', 'WA')\n",
    "                                     AND departureDelayInMinutes > 0\n",
    "                                     GROUP BY src, dst\"\"\")\n",
    "                                  \n",
    "Delayed_from_CA_OR_WA.show()"
   ]
  },
  {
   "cell_type": "markdown",
   "metadata": {},
   "source": [
    "#### All Flights\n",
    "All Trips"
   ]
  },
  {
   "cell_type": "code",
   "execution_count": 97,
   "metadata": {},
   "outputs": [
    {
     "name": "stdout",
     "output_type": "stream",
     "text": [
      "+---+----+-----+\n",
      "|src|dest|count|\n",
      "+---+----+-----+\n",
      "|STS| PHX|   30|\n",
      "|SPI| ORD|   86|\n",
      "|MCI| IAH|  144|\n",
      "|DSM| MCO|    3|\n",
      "|PHL| MCO|  427|\n",
      "|ORD| PDX|  186|\n",
      "|TPA| ACY|   30|\n",
      "|ATL| GSP|  313|\n",
      "|LAS| LIT|   30|\n",
      "|MCI| MKE|   52|\n",
      "|MDW| MEM|   57|\n",
      "|SMF| BUR|  243|\n",
      "|SNA| PHX|  342|\n",
      "|PBI| DCA|  125|\n",
      "|SJC| LIH|   30|\n",
      "|DSM| EWR|   30|\n",
      "|PBG| PGD|    9|\n",
      "|FSD| ATL|   30|\n",
      "|BQN| MCO|   30|\n",
      "|SHD| LWB|   27|\n",
      "+---+----+-----+\n",
      "only showing top 20 rows\n",
      "\n"
     ]
    }
   ],
   "source": [
    "allTrips = spark.sql(\"\"\"SELECT\n",
    "                        src, dst AS dest, COUNT(1) AS count\n",
    "                        FROM departureDelays_imp_SQL \n",
    "                        GROUP BY src, dst\"\"\")\n",
    "\n",
    "allTrips.show()"
   ]
  },
  {
   "cell_type": "markdown",
   "metadata": {},
   "source": [
    "#### Write above 3 files to local storage"
   ]
  },
  {
   "cell_type": "code",
   "execution_count": 75,
   "metadata": {},
   "outputs": [],
   "source": [
    "OnTime_EarlyArrivals.coalesce(1).write.format(\"csv\").option(\"header\", \"true\").save(\"file:///home/rameshm/Datasets/flightDelays/Results/OnTime_EarlyArrivals\")\n",
    "\n",
    "Delayed_from_CA_OR_WA.coalesce(1).write.format(\"csv\").option(\"header\", \"true\").save(\"file:///home/rameshm/Datasets/flightDelays/Results/Delayed_from_CA_OR_WA\")\n",
    "\n",
    "allTrips.coalesce(1).write.format(\"csv\").option(\"header\", \"true\").save(\"file:///home/rameshm/Datasets/flightDelays/Results/allTrips\")"
   ]
  },
  {
   "cell_type": "code",
   "execution_count": null,
   "metadata": {},
   "outputs": [],
   "source": []
  }
 ],
 "metadata": {
  "kernelspec": {
   "display_name": "Python 2",
   "language": "python",
   "name": "python2"
  },
  "language_info": {
   "codemirror_mode": {
    "name": "ipython",
    "version": 2
   },
   "file_extension": ".py",
   "mimetype": "text/x-python",
   "name": "python",
   "nbconvert_exporter": "python",
   "pygments_lexer": "ipython2",
   "version": "2.7.5"
  }
 },
 "nbformat": 4,
 "nbformat_minor": 2
}
