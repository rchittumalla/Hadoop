{
 "cells": [
  {
   "cell_type": "code",
   "execution_count": 1,
   "metadata": {},
   "outputs": [],
   "source": [
    "## Set Python - Spark environment.\n",
    "import os\n",
    "import sys\n",
    "os.environ[\"SPARK_HOME\"] = \"/usr/hdp/current/spark2-client\"\n",
    "os.environ[\"PYLIB\"] = os.environ[\"SPARK_HOME\"] + \"/python/lib\"\n",
    "sys.path.insert(0, os.environ[\"PYLIB\"] + \"/py4j-0.10.6-src.zip\")\n",
    "sys.path.insert(0, os.environ[\"PYLIB\"] + \"/pyspark.zip\")"
   ]
  },
  {
   "cell_type": "code",
   "execution_count": 2,
   "metadata": {},
   "outputs": [],
   "source": [
    "## Create SparkContext, SparkSession\n",
    "from os.path import expanduser, join, abspath\n",
    "\n",
    "from pyspark.sql import SparkSession\n",
    "from pyspark.sql import Row\n",
    "from pyspark import SparkContext\n",
    "sc = SparkContext()\n",
    "\n",
    "# warehouse_location points to the default location for managed databases and tables\n",
    "warehouse_location = 'hdfs:///apps/hive/warehouse/'\n",
    "\n",
    "spark = SparkSession \\\n",
    "    .builder \\\n",
    "    .appName(\"Spark Machine Learning Example\") \\\n",
    "    .config(\"spark.sql.warehouse.dir\", warehouse_location) \\\n",
    "    .enableHiveSupport() \\\n",
    "    .getOrCreate()"
   ]
  },
  {
   "cell_type": "code",
   "execution_count": 35,
   "metadata": {},
   "outputs": [],
   "source": [
    "uberdata = sc.textFile(\"/user/2052B43/Uber/HistData/FlumeData.*\")"
   ]
  },
  {
   "cell_type": "code",
   "execution_count": 36,
   "metadata": {},
   "outputs": [
    {
     "data": {
      "text/plain": [
       "3296451"
      ]
     },
     "execution_count": 36,
     "metadata": {},
     "output_type": "execute_result"
    }
   ],
   "source": [
    "uberdata.count()"
   ]
  },
  {
   "cell_type": "code",
   "execution_count": 37,
   "metadata": {},
   "outputs": [
    {
     "data": {
      "text/plain": [
       "[u'\"12/1/2016 0:03:00\",40.7586,-73.9706,\"B02512\"',\n",
       " u'\"12/1/2016 0:05:00\",40.7605,-73.9994,\"B02512\"',\n",
       " u'\"12/1/2016 0:06:00\",40.732,-73.9999,\"B02512\"',\n",
       " u'\"12/1/2016 0:09:00\",40.7635,-73.9793,\"B02512\"',\n",
       " u'\"12/1/2016 0:20:00\",40.7204,-74.0047,\"B02512\"']"
      ]
     },
     "execution_count": 37,
     "metadata": {},
     "output_type": "execute_result"
    }
   ],
   "source": [
    "uberdata.take(5)"
   ]
  },
  {
   "cell_type": "code",
   "execution_count": 38,
   "metadata": {},
   "outputs": [],
   "source": [
    "splitdata = uberdata.map(lambda s: s.split(','))"
   ]
  },
  {
   "cell_type": "code",
   "execution_count": 39,
   "metadata": {},
   "outputs": [
    {
     "data": {
      "text/plain": [
       "[[u'\"12/1/2016 0:03:00\"', u'40.7586', u'-73.9706', u'\"B02512\"'],\n",
       " [u'\"12/1/2016 0:05:00\"', u'40.7605', u'-73.9994', u'\"B02512\"'],\n",
       " [u'\"12/1/2016 0:06:00\"', u'40.732', u'-73.9999', u'\"B02512\"'],\n",
       " [u'\"12/1/2016 0:09:00\"', u'40.7635', u'-73.9793', u'\"B02512\"'],\n",
       " [u'\"12/1/2016 0:20:00\"', u'40.7204', u'-74.0047', u'\"B02512\"'],\n",
       " [u'\"12/1/2016 0:35:00\"', u'40.7487', u'-73.9869', u'\"B02512\"'],\n",
       " [u'\"12/1/2016 0:57:00\"', u'40.7444', u'-73.9961', u'\"B02512\"'],\n",
       " [u'\"12/1/2016 0:58:00\"', u'40.7132', u'-73.9492', u'\"B02512\"'],\n",
       " [u'\"12/1/2016 1:04:00\"', u'40.759', u'-73.973', u'\"B02512\"'],\n",
       " [u'\"12/1/2016 1:08:00\"', u'40.7601', u'-73.9823', u'\"B02512\"']]"
      ]
     },
     "execution_count": 39,
     "metadata": {},
     "output_type": "execute_result"
    }
   ],
   "source": [
    "splitdata.take(10)"
   ]
  },
  {
   "cell_type": "code",
   "execution_count": 40,
   "metadata": {},
   "outputs": [],
   "source": [
    "sampledata = splitdata.sample(False,0.02,4567)"
   ]
  },
  {
   "cell_type": "code",
   "execution_count": 98,
   "metadata": {},
   "outputs": [
    {
     "data": {
      "text/plain": [
       "65922"
      ]
     },
     "execution_count": 98,
     "metadata": {},
     "output_type": "execute_result"
    }
   ],
   "source": [
    "sampledata.count()"
   ]
  },
  {
   "cell_type": "code",
   "execution_count": 42,
   "metadata": {},
   "outputs": [],
   "source": [
    "df = sampledata.zipWithIndex().map(lambda (x,y) : (y, x[1] , x[2]) ).toDF([\"index\", \"lat\" , \"long\"])"
   ]
  },
  {
   "cell_type": "code",
   "execution_count": 43,
   "metadata": {},
   "outputs": [
    {
     "data": {
      "text/plain": [
       "[('index', 'bigint'), ('lat', 'string'), ('long', 'string')]"
      ]
     },
     "execution_count": 43,
     "metadata": {},
     "output_type": "execute_result"
    }
   ],
   "source": [
    "df.dtypes"
   ]
  },
  {
   "cell_type": "code",
   "execution_count": 44,
   "metadata": {},
   "outputs": [],
   "source": [
    "## Converting the strings to Float \n",
    "from pyspark.sql.types import FloatType\n",
    "df = df.withColumn(\"lat\", df[\"lat\"].cast(FloatType()))\n",
    "df = df.withColumn(\"long\", df[\"long\"].cast(FloatType()))"
   ]
  },
  {
   "cell_type": "code",
   "execution_count": 45,
   "metadata": {},
   "outputs": [
    {
     "data": {
      "text/plain": [
       "[('index', 'bigint'), ('lat', 'float'), ('long', 'float')]"
      ]
     },
     "execution_count": 45,
     "metadata": {},
     "output_type": "execute_result"
    }
   ],
   "source": [
    "df.dtypes"
   ]
  },
  {
   "cell_type": "code",
   "execution_count": 46,
   "metadata": {},
   "outputs": [],
   "source": [
    "## Dropping Index column\n",
    "df = df.drop('index')"
   ]
  },
  {
   "cell_type": "code",
   "execution_count": 47,
   "metadata": {},
   "outputs": [
    {
     "name": "stdout",
     "output_type": "stream",
     "text": [
      "+-------+--------+\n",
      "|    lat|    long|\n",
      "+-------+--------+\n",
      "| 40.759| -73.973|\n",
      "|40.7608|-73.9988|\n",
      "|40.7782| -73.959|\n",
      "|40.7462|-73.9835|\n",
      "|40.7593|-73.9749|\n",
      "+-------+--------+\n",
      "only showing top 5 rows\n",
      "\n"
     ]
    }
   ],
   "source": [
    "df.show(5)"
   ]
  },
  {
   "cell_type": "code",
   "execution_count": 49,
   "metadata": {},
   "outputs": [],
   "source": [
    "## Coverting SparkDataframe to PandasDataframe \n",
    "pandasDF= df.toPandas()"
   ]
  },
  {
   "cell_type": "code",
   "execution_count": 50,
   "metadata": {},
   "outputs": [
    {
     "data": {
      "text/html": [
       "<div>\n",
       "<style>\n",
       "    .dataframe thead tr:only-child th {\n",
       "        text-align: right;\n",
       "    }\n",
       "\n",
       "    .dataframe thead th {\n",
       "        text-align: left;\n",
       "    }\n",
       "\n",
       "    .dataframe tbody tr th {\n",
       "        vertical-align: top;\n",
       "    }\n",
       "</style>\n",
       "<table border=\"1\" class=\"dataframe\">\n",
       "  <thead>\n",
       "    <tr style=\"text-align: right;\">\n",
       "      <th></th>\n",
       "      <th>lat</th>\n",
       "      <th>long</th>\n",
       "    </tr>\n",
       "  </thead>\n",
       "  <tbody>\n",
       "    <tr>\n",
       "      <th>0</th>\n",
       "      <td>40.758999</td>\n",
       "      <td>-73.973000</td>\n",
       "    </tr>\n",
       "    <tr>\n",
       "      <th>1</th>\n",
       "      <td>40.760799</td>\n",
       "      <td>-73.998802</td>\n",
       "    </tr>\n",
       "    <tr>\n",
       "      <th>2</th>\n",
       "      <td>40.778198</td>\n",
       "      <td>-73.959000</td>\n",
       "    </tr>\n",
       "    <tr>\n",
       "      <th>3</th>\n",
       "      <td>40.746201</td>\n",
       "      <td>-73.983498</td>\n",
       "    </tr>\n",
       "    <tr>\n",
       "      <th>4</th>\n",
       "      <td>40.759300</td>\n",
       "      <td>-73.974899</td>\n",
       "    </tr>\n",
       "  </tbody>\n",
       "</table>\n",
       "</div>"
      ],
      "text/plain": [
       "         lat       long\n",
       "0  40.758999 -73.973000\n",
       "1  40.760799 -73.998802\n",
       "2  40.778198 -73.959000\n",
       "3  40.746201 -73.983498\n",
       "4  40.759300 -73.974899"
      ]
     },
     "execution_count": 50,
     "metadata": {},
     "output_type": "execute_result"
    }
   ],
   "source": [
    "pandasDF.head()"
   ]
  },
  {
   "cell_type": "code",
   "execution_count": null,
   "metadata": {},
   "outputs": [],
   "source": []
  },
  {
   "cell_type": "code",
   "execution_count": null,
   "metadata": {},
   "outputs": [],
   "source": []
  },
  {
   "cell_type": "code",
   "execution_count": null,
   "metadata": {},
   "outputs": [],
   "source": []
  },
  {
   "cell_type": "code",
   "execution_count": null,
   "metadata": {},
   "outputs": [],
   "source": []
  },
  {
   "cell_type": "code",
   "execution_count": 83,
   "metadata": {},
   "outputs": [
    {
     "name": "stdout",
     "output_type": "stream",
     "text": [
      "+-------+--------+---------------------------------------+\n",
      "|lat    |long    |features                               |\n",
      "+-------+--------+---------------------------------------+\n",
      "|40.759 |-73.973 |[40.75899887084961,-73.9729995727539]  |\n",
      "|40.7608|-73.9988|[40.760799407958984,-73.9988021850586] |\n",
      "|40.7782|-73.959 |[40.7781982421875,-73.95899963378906]  |\n",
      "|40.7462|-73.9835|[40.74620056152344,-73.9834976196289]  |\n",
      "|40.7593|-73.9749|[40.759300231933594,-73.97489929199219]|\n",
      "|40.714 |-74.0145|[40.7140007019043,-74.0145034790039]   |\n",
      "|40.7366|-73.997 |[40.73659896850586,-73.99700164794922] |\n",
      "|40.7376|-74.0067|[40.73759841918945,-74.00669860839844] |\n",
      "|40.7243|-73.9999|[40.724300384521484,-73.9999008178711] |\n",
      "|40.7559|-73.9728|[40.75590133666992,-73.9728012084961]  |\n",
      "|40.7548|-73.9778|[40.754798889160156,-73.97779846191406]|\n",
      "|40.7618|-73.9943|[40.76179885864258,-73.99430084228516] |\n",
      "|40.7614|-73.9823|[40.76139831542969,-73.9822998046875]  |\n",
      "|40.7386|-73.9919|[40.73860168457031,-73.99189758300781] |\n",
      "|40.7595|-73.9778|[40.759498596191406,-73.97779846191406]|\n",
      "|40.7388|-74.0086|[40.738800048828125,-74.00859832763672]|\n",
      "|40.7571|-73.9742|[40.75709915161133,-73.97419738769531] |\n",
      "|40.7753|-73.9911|[40.775299072265625,-73.99109649658203]|\n",
      "|40.7385|-73.9853|[40.73849868774414,-73.98529815673828] |\n",
      "|40.7591|-73.97  |[40.75910186767578,-73.97000122070312] |\n",
      "+-------+--------+---------------------------------------+\n",
      "only showing top 20 rows\n",
      "\n"
     ]
    }
   ],
   "source": [
    "## VectorAssembler for Numerical Columns\n",
    "## Name the Outputcol as features and transform the dataframe\n",
    "from pyspark.ml.feature import VectorAssembler\n",
    "\n",
    "assembler = VectorAssembler(inputCols = ['lat', 'long'], outputCol='features')\n",
    "features = assembler.transform(df)\n",
    "features.show(truncate=False)"
   ]
  },
  {
   "cell_type": "code",
   "execution_count": 84,
   "metadata": {},
   "outputs": [],
   "source": [
    "## Applying Kmeans Clustering on Features\n",
    "from pyspark.ml.clustering import KMeans\n",
    "kmeans = KMeans(k=7,seed=123)\n",
    "model = kmeans.fit(features)"
   ]
  },
  {
   "cell_type": "code",
   "execution_count": 85,
   "metadata": {},
   "outputs": [
    {
     "name": "stdout",
     "output_type": "stream",
     "text": [
      "Within Set Sum of Squared Errors = 89.1375170727\n"
     ]
    }
   ],
   "source": [
    "# Evaluate clustering by computing Within Set Sum of Squared Errors.\n",
    "wssse = model.computeCost(features)\n",
    "print(\"Within Set Sum of Squared Errors = \" + str(wssse))"
   ]
  },
  {
   "cell_type": "code",
   "execution_count": 86,
   "metadata": {},
   "outputs": [
    {
     "name": "stdout",
     "output_type": "stream",
     "text": [
      "Cluster Centers: \n",
      "[ 40.76192691 -73.87442296]\n",
      "[ 40.76395276 -73.97433094]\n",
      "[ 40.68709434 -73.96435953]\n",
      "[ 40.65714742 -73.78045657]\n",
      "[ 40.72851382 -74.00458842]\n",
      "[ 40.7707666  -73.50339872]\n",
      "[ 40.88578614 -73.8975529 ]\n"
     ]
    }
   ],
   "source": [
    "# Printing Centers of the clusters\n",
    "centers = model.clusterCenters()\n",
    "print(\"Cluster Centers: \")\n",
    "for center in centers:\n",
    "    print(center)"
   ]
  },
  {
   "cell_type": "code",
   "execution_count": 92,
   "metadata": {},
   "outputs": [],
   "source": [
    "tr_pred = model.transform(features)"
   ]
  },
  {
   "cell_type": "code",
   "execution_count": 93,
   "metadata": {},
   "outputs": [
    {
     "data": {
      "text/plain": [
       "pyspark.sql.dataframe.DataFrame"
      ]
     },
     "execution_count": 93,
     "metadata": {},
     "output_type": "execute_result"
    }
   ],
   "source": [
    "type(tr_pred)"
   ]
  },
  {
   "cell_type": "code",
   "execution_count": 94,
   "metadata": {},
   "outputs": [
    {
     "data": {
      "text/plain": [
       "65922"
      ]
     },
     "execution_count": 94,
     "metadata": {},
     "output_type": "execute_result"
    }
   ],
   "source": [
    "tr_pred.count()"
   ]
  },
  {
   "cell_type": "code",
   "execution_count": 97,
   "metadata": {},
   "outputs": [
    {
     "name": "stdout",
     "output_type": "stream",
     "text": [
      "+-------+--------+--------------------+----------+\n",
      "|    lat|    long|            features|prediction|\n",
      "+-------+--------+--------------------+----------+\n",
      "| 40.759| -73.973|[40.7589988708496...|         1|\n",
      "|40.7608|-73.9988|[40.7607994079589...|         1|\n",
      "|40.7782| -73.959|[40.7781982421875...|         1|\n",
      "|40.7462|-73.9835|[40.7462005615234...|         1|\n",
      "|40.7593|-73.9749|[40.7593002319335...|         1|\n",
      "| 40.714|-74.0145|[40.7140007019043...|         4|\n",
      "|40.7366| -73.997|[40.7365989685058...|         4|\n",
      "|40.7376|-74.0067|[40.7375984191894...|         4|\n",
      "|40.7243|-73.9999|[40.7243003845214...|         4|\n",
      "|40.7559|-73.9728|[40.7559013366699...|         1|\n",
      "+-------+--------+--------------------+----------+\n",
      "only showing top 10 rows\n",
      "\n"
     ]
    }
   ],
   "source": [
    "tr_pred.show(10)"
   ]
  },
  {
   "cell_type": "code",
   "execution_count": 105,
   "metadata": {},
   "outputs": [],
   "source": [
    "model.save(\"/user/2052B43/Uber/kmeanModel\")"
   ]
  },
  {
   "cell_type": "code",
   "execution_count": null,
   "metadata": {},
   "outputs": [],
   "source": []
  }
 ],
 "metadata": {
  "kernelspec": {
   "display_name": "Python 2",
   "language": "python",
   "name": "python2"
  },
  "language_info": {
   "codemirror_mode": {
    "name": "ipython",
    "version": 2
   },
   "file_extension": ".py",
   "mimetype": "text/x-python",
   "name": "python",
   "nbconvert_exporter": "python",
   "pygments_lexer": "ipython2",
   "version": "2.7.5"
  }
 },
 "nbformat": 4,
 "nbformat_minor": 2
}
