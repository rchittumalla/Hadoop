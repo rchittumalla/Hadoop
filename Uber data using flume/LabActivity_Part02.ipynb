{
 "cells": [
  {
   "cell_type": "code",
   "execution_count": 1,
   "metadata": {},
   "outputs": [],
   "source": [
    "import pandas as pd\n",
    "import numpy as np\n",
    "import scipy as sp\n",
    "from sklearn.cluster import KMeans\n",
    "get_ipython().magic(u'matplotlib inline')\n",
    "import matplotlib.pyplot as plt\n",
    "import seaborn as sns; sns.set()"
   ]
  },
  {
   "cell_type": "code",
   "execution_count": 2,
   "metadata": {},
   "outputs": [],
   "source": [
    "sampleData = pd.read_csv(\"/home/jayantm/Batches/Batch41/Uber01/SampleData/part-00000\",  names = ['date', 'latitude', 'longitude', 'baseLLC'])"
   ]
  },
  {
   "cell_type": "code",
   "execution_count": 3,
   "metadata": {},
   "outputs": [
    {
     "data": {
      "text/html": [
       "<div>\n",
       "<style>\n",
       "    .dataframe thead tr:only-child th {\n",
       "        text-align: right;\n",
       "    }\n",
       "\n",
       "    .dataframe thead th {\n",
       "        text-align: left;\n",
       "    }\n",
       "\n",
       "    .dataframe tbody tr th {\n",
       "        vertical-align: top;\n",
       "    }\n",
       "</style>\n",
       "<table border=\"1\" class=\"dataframe\">\n",
       "  <thead>\n",
       "    <tr style=\"text-align: right;\">\n",
       "      <th></th>\n",
       "      <th>date</th>\n",
       "      <th>latitude</th>\n",
       "      <th>longitude</th>\n",
       "      <th>baseLLC</th>\n",
       "    </tr>\n",
       "  </thead>\n",
       "  <tbody>\n",
       "    <tr>\n",
       "      <th>0</th>\n",
       "      <td>12/1/2016 3:28:00</td>\n",
       "      <td>40.7623</td>\n",
       "      <td>-73.9797</td>\n",
       "      <td>B02512</td>\n",
       "    </tr>\n",
       "    <tr>\n",
       "      <th>1</th>\n",
       "      <td>12/1/2016 7:13:00</td>\n",
       "      <td>40.7434</td>\n",
       "      <td>-73.9742</td>\n",
       "      <td>B02512</td>\n",
       "    </tr>\n",
       "    <tr>\n",
       "      <th>2</th>\n",
       "      <td>12/1/2016 7:13:00</td>\n",
       "      <td>40.7430</td>\n",
       "      <td>-73.9794</td>\n",
       "      <td>B02512</td>\n",
       "    </tr>\n",
       "    <tr>\n",
       "      <th>3</th>\n",
       "      <td>12/1/2016 8:42:00</td>\n",
       "      <td>40.8073</td>\n",
       "      <td>-74.2178</td>\n",
       "      <td>B02512</td>\n",
       "    </tr>\n",
       "  </tbody>\n",
       "</table>\n",
       "</div>"
      ],
      "text/plain": [
       "                date  latitude  longitude baseLLC\n",
       "0  12/1/2016 3:28:00   40.7623   -73.9797  B02512\n",
       "1  12/1/2016 7:13:00   40.7434   -73.9742  B02512\n",
       "2  12/1/2016 7:13:00   40.7430   -73.9794  B02512\n",
       "3  12/1/2016 8:42:00   40.8073   -74.2178  B02512"
      ]
     },
     "execution_count": 3,
     "metadata": {},
     "output_type": "execute_result"
    }
   ],
   "source": [
    "sampleData.head(4)"
   ]
  },
  {
   "cell_type": "code",
   "execution_count": 4,
   "metadata": {},
   "outputs": [],
   "source": [
    "columns = ['longitude', 'latitude']\n",
    "featuresData = pd.DataFrame(sampleData, columns=columns)"
   ]
  },
  {
   "cell_type": "code",
   "execution_count": 5,
   "metadata": {},
   "outputs": [],
   "source": [
    "### For the purposes of this example, we store feature data from our\n",
    "### dataframe `featuresData`, in the `f1` and `f2` arrays. We combine this into\n",
    "### a feature matrix `X` before entering it into the algorithm.\n",
    "f1 = featuresData['longitude'].values\n",
    "f2 = featuresData['latitude'].values\n",
    "X=np.matrix(zip(f1,f2))\n"
   ]
  },
  {
   "cell_type": "code",
   "execution_count": 6,
   "metadata": {},
   "outputs": [],
   "source": [
    "X=X[:100]"
   ]
  },
  {
   "cell_type": "code",
   "execution_count": 7,
   "metadata": {},
   "outputs": [
    {
     "data": {
      "text/plain": [
       "matrix([[-73.9797,  40.7623],\n",
       "        [-73.9742,  40.7434],\n",
       "        [-73.9794,  40.743 ],\n",
       "        [-74.2178,  40.8073],\n",
       "        [-73.9789,  40.7576],\n",
       "        [-73.7899,  40.6462],\n",
       "        [-73.9733,  40.7616],\n",
       "        [-74.1792,  40.6894],\n",
       "        [-73.9805,  40.7644],\n",
       "        [-73.9805,  40.7715],\n",
       "        [-73.9979,  40.7204],\n",
       "        [-73.9747,  40.7633],\n",
       "        [-73.9683,  40.7707],\n",
       "        [-73.9531,  40.7722],\n",
       "        [-73.9741,  40.7831],\n",
       "        [-73.9819,  40.7753],\n",
       "        [-74.0085,  40.7236],\n",
       "        [-73.997 ,  40.7254],\n",
       "        [-74.0075,  40.7168],\n",
       "        [-73.9753,  40.7529],\n",
       "        [-73.9742,  40.7571],\n",
       "        [-73.9812,  40.7703],\n",
       "        [-74.1842,  40.6891],\n",
       "        [-73.9843,  40.77  ],\n",
       "        [-74.0057,  40.7257],\n",
       "        [-73.9858,  40.7573],\n",
       "        [-74.1777,  40.6953],\n",
       "        [-73.9894,  40.7381],\n",
       "        [-73.997 ,  40.7563],\n",
       "        [-74.0091,  40.7312],\n",
       "        [-73.9626,  40.7704],\n",
       "        [-73.996 ,  40.7673],\n",
       "        [-73.9888,  40.7222],\n",
       "        [-73.9765,  40.7497],\n",
       "        [-74.0054,  40.7484],\n",
       "        [-73.9716,  40.7575],\n",
       "        [-73.9812,  40.7641],\n",
       "        [-73.99  ,  40.7408],\n",
       "        [-73.9637,  40.7638],\n",
       "        [-73.8706,  40.7739],\n",
       "        [-73.9822,  40.7433],\n",
       "        [-74.0124,  40.7163],\n",
       "        [-73.9601,  40.7629],\n",
       "        [-73.9568,  40.7748],\n",
       "        [-73.9742,  40.7399],\n",
       "        [-73.9875,  40.7621],\n",
       "        [-74.0018,  40.7361],\n",
       "        [-73.9789,  40.7241],\n",
       "        [-73.9927,  40.7554],\n",
       "        [-73.9736,  40.7518],\n",
       "        [-73.999 ,  40.7365],\n",
       "        [-73.9756,  40.7606],\n",
       "        [-73.9835,  40.7566],\n",
       "        [-73.9911,  40.7329],\n",
       "        [-73.9873,  40.7533],\n",
       "        [-73.9854,  40.7595],\n",
       "        [-73.9531,  40.7887],\n",
       "        [-73.9934,  40.7687],\n",
       "        [-73.9797,  40.7812],\n",
       "        [-73.9733,  40.7575],\n",
       "        [-73.9636,  40.7751],\n",
       "        [-73.9669,  40.7707],\n",
       "        [-73.9945,  40.7456],\n",
       "        [-73.9727,  40.7827],\n",
       "        [-73.9965,  40.7428],\n",
       "        [-74.0094,  40.7207],\n",
       "        [-73.941 ,  40.7927],\n",
       "        [-74.0056,  40.7112],\n",
       "        [-73.9951,  40.7249],\n",
       "        [-73.9901,  40.7169],\n",
       "        [-73.8856,  40.7732],\n",
       "        [-74.1795,  40.7288],\n",
       "        [-73.9848,  40.759 ],\n",
       "        [-73.9672,  40.7526],\n",
       "        [-73.9544,  40.7204],\n",
       "        [-73.9755,  40.7583],\n",
       "        [-73.9858,  40.7526],\n",
       "        [-73.9958,  40.7644],\n",
       "        [-74.0039,  40.7425],\n",
       "        [-73.9948,  40.7197],\n",
       "        [-73.9545,  40.7897],\n",
       "        [-74.0043,  40.7375],\n",
       "        [-73.9807,  40.7305],\n",
       "        [-73.9766,  40.7657],\n",
       "        [-73.8011,  40.6464],\n",
       "        [-73.9562,  40.7095],\n",
       "        [-73.9925,  40.7244],\n",
       "        [-73.9947,  40.7324],\n",
       "        [-73.8715,  40.7738],\n",
       "        [-73.9558,  40.7681],\n",
       "        [-73.9639,  40.7745],\n",
       "        [-74.0074,  40.7456],\n",
       "        [-73.9743,  40.7628],\n",
       "        [-73.9906,  40.6947],\n",
       "        [-73.7899,  40.6466],\n",
       "        [-73.983 ,  40.7532],\n",
       "        [-73.9915,  40.729 ],\n",
       "        [-73.9929,  40.7285],\n",
       "        [-73.9856,  40.7384],\n",
       "        [-73.9637,  40.7637]])"
      ]
     },
     "execution_count": 7,
     "metadata": {},
     "output_type": "execute_result"
    }
   ],
   "source": [
    "X"
   ]
  },
  {
   "cell_type": "code",
   "execution_count": 8,
   "metadata": {},
   "outputs": [
    {
     "data": {
      "image/png": "[encoded data removed]",
      "text/plain": [
       "<matplotlib.figure.Figure at 0x33e1f90>"
      ]
     },
     "metadata": {},
     "output_type": "display_data"
    }
   ],
   "source": [
    "## Draw a scatter plot with above features\n",
    "plt.scatter(f1,f2)\n",
    "plt.show()"
   ]
  },
  {
   "cell_type": "code",
   "execution_count": 9,
   "metadata": {},
   "outputs": [],
   "source": [
    "K = range(1,20)\n",
    "KM = [KMeans(n_clusters=k).fit(X) for k in K]\n",
    "centroids = [k.cluster_centers_ for k in KM]"
   ]
  },
  {
   "cell_type": "code",
   "execution_count": 10,
   "metadata": {},
   "outputs": [],
   "source": [
    "## Find with in sum of squared error\n",
    "from scipy.spatial.distance import cdist, pdist\n",
    "\n",
    "D_k = [cdist(X, cent, 'euclidean') for cent in centroids]\n",
    "#cIdx = [np.argmin(D,axis=1) for D in D_k]\n",
    "dist = [np.min(D,axis=1) for D in D_k]\n",
    "sumWithinSS = [sum(d) for d in dist]"
   ]
  },
  {
   "cell_type": "code",
   "execution_count": 11,
   "metadata": {},
   "outputs": [
    {
     "data": {
      "text/plain": [
       "<matplotlib.text.Text at 0x6f194d0>"
      ]
     },
     "execution_count": 11,
     "metadata": {},
     "output_type": "execute_result"
    },
    {
     "data": {
      "image/png": "[encoded data removed]",
      "text/plain": [
       "<matplotlib.figure.Figure at 0x33e1550>"
      ]
     },
     "metadata": {},
     "output_type": "display_data"
    }
   ],
   "source": [
    "fig = plt.figure()\n",
    "ax = fig.add_subplot(111)\n",
    "ax.plot(K, sumWithinSS, 'b*-')\n",
    "ax.plot(K, sumWithinSS, marker='o', markersize=12, \n",
    "markeredgewidth=2, markeredgecolor='r', markerfacecolor='None')\n",
    "plt.grid(True)\n",
    "plt.xlabel('Number of clusters')\n",
    "plt.ylabel('within-cluster sum of squares')\n",
    "plt.title('Elbow for KMeans clustering')"
   ]
  },
  {
   "cell_type": "code",
   "execution_count": 12,
   "metadata": {},
   "outputs": [
    {
     "data": {
      "text/plain": [
       "[4.1124442261062448,\n",
       " 3.3434112843046071,\n",
       " 2.6847770589138782,\n",
       " 1.8652942599921538,\n",
       " 1.5114186861861971,\n",
       " 1.3726447852373362,\n",
       " 1.1474979962804808,\n",
       " 1.0682126786079822,\n",
       " 0.97300014722419881,\n",
       " 0.90550252195033343,\n",
       " 0.84884148860611341,\n",
       " 0.76987249725776374,\n",
       " 0.71384813368162148,\n",
       " 0.67283998000328393,\n",
       " 0.61037553391767618,\n",
       " 0.5746978134415387,\n",
       " 0.53468277780933549,\n",
       " 0.51778420185914353,\n",
       " 0.48667938714706521]"
      ]
     },
     "execution_count": 12,
     "metadata": {},
     "output_type": "execute_result"
    }
   ],
   "source": [
    "sumWithinSS"
   ]
  },
  {
   "cell_type": "code",
   "execution_count": null,
   "metadata": {
    "collapsed": true
   },
   "outputs": [],
   "source": []
  }
 ],
 "metadata": {
  "kernelspec": {
   "display_name": "Python 2",
   "language": "python",
   "name": "python2"
  },
  "language_info": {
   "codemirror_mode": {
    "name": "ipython",
    "version": 2
   },
   "file_extension": ".py",
   "mimetype": "text/x-python",
   "name": "python",
   "nbconvert_exporter": "python",
   "pygments_lexer": "ipython2",
   "version": "2.7.5"
  }
 },
 "nbformat": 4,
 "nbformat_minor": 2
}
